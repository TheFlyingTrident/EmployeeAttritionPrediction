{
  "nbformat": 4,
  "nbformat_minor": 0,
  "metadata": {
    "colab": {
      "name": "Employee_Attrition_DS203.ipynb",
      "provenance": [],
      "collapsed_sections": [
        "E78Dn0a_Tksz",
        "mIj2z_T1bfdz",
        "Jd27qreSbz0P",
        "WnuFHChtb7b4",
        "tnSl7a6ZcAqE",
        "Og3Fl5wbdv93",
        "qESnwfkdd8ub",
        "vE-tJDnGeBFq",
        "kATOiY_DesEH",
        "RRiVzHYTbRue",
        "V1FfXlexrBC2",
        "_Uj10FBQmzRj",
        "ued-9NVCnjyY",
        "7DJ6TFJEalRG",
        "CiOn6NGoaqeY"
      ]
    },
    "kernelspec": {
      "name": "python3",
      "display_name": "Python 3"
    },
    "language_info": {
      "name": "python"
    }
  },
  "cells": [
    {
      "cell_type": "markdown",
      "metadata": {
        "id": "E78Dn0a_Tksz"
      },
      "source": [
        "##Employee Attrition Analysis "
      ]
    },
    {
      "cell_type": "code",
      "metadata": {
        "id": "KETkyLupTkI6"
      },
      "source": [
        "#importing libraries\n",
        "import pandas as pd\n",
        "import matplotlib.pyplot as plt\n",
        "import numpy as np"
      ],
      "execution_count": null,
      "outputs": []
    },
    {
      "cell_type": "markdown",
      "metadata": {
        "id": "mIj2z_T1bfdz"
      },
      "source": [
        "##Preliminaries"
      ]
    },
    {
      "cell_type": "code",
      "metadata": {
        "colab": {
          "resources": {
            "http://localhost:8080/nbextensions/google.colab/files.js": {
              "data": "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",
              "ok": true,
              "headers": [
                [
                  "content-type",
                  "application/javascript"
                ]
              ],
              "status": 200,
              "status_text": ""
            }
          },
          "base_uri": "https://localhost:8080/"
        },
        "id": "euhna2MKTkGa",
        "outputId": "e6e02237-65a1-4945-cd33-b11ccf7e0435"
      },
      "source": [
        "#Uploading data set to colab from local drive\n",
        "from google.colab import files\n",
        "uploaded = files.upload()"
      ],
      "execution_count": null,
      "outputs": [
        {
          "output_type": "display_data",
          "data": {
            "text/html": [
              "\n",
              "     <input type=\"file\" id=\"files-584d0490-b05c-4f33-b2c1-809b0877fc48\" name=\"files[]\" multiple disabled\n",
              "        style=\"border:none\" />\n",
              "     <output id=\"result-584d0490-b05c-4f33-b2c1-809b0877fc48\">\n",
              "      Upload widget is only available when the cell has been executed in the\n",
              "      current browser session. Please rerun this cell to enable.\n",
              "      </output>\n",
              "      <script src=\"/nbextensions/google.colab/files.js\"></script> "
            ],
            "text/plain": [
              "<IPython.core.display.HTML object>"
            ]
          },
          "metadata": {}
        },
        {
          "output_type": "stream",
          "name": "stdout",
          "text": [
            "Saving WA_Fn-UseC_-HR-Employee-Attrition.csv to WA_Fn-UseC_-HR-Employee-Attrition (1).csv\n"
          ]
        }
      ]
    },
    {
      "cell_type": "code",
      "metadata": {
        "colab": {
          "base_uri": "https://localhost:8080/"
        },
        "id": "C1WD8W-NTj89",
        "outputId": "50022be3-fb5e-44d7-b022-bc32ce802084"
      },
      "source": [
        "import io\n",
        "#Reading csv file into pandas data frame  \n",
        "df = pd.read_csv(io.BytesIO(uploaded['WA_Fn-UseC_-HR-Employee-Attrition.csv']))\n",
        "\n",
        "#Displaying first few rows of data set\n",
        "df.head()"
      ],
      "execution_count": null,
      "outputs": [
        {
          "output_type": "execute_result",
          "data": {
            "text/html": [
              "<div>\n",
              "<style scoped>\n",
              "    .dataframe tbody tr th:only-of-type {\n",
              "        vertical-align: middle;\n",
              "    }\n",
              "\n",
              "    .dataframe tbody tr th {\n",
              "        vertical-align: top;\n",
              "    }\n",
              "\n",
              "    .dataframe thead th {\n",
              "        text-align: right;\n",
              "    }\n",
              "</style>\n",
              "<table border=\"1\" class=\"dataframe\">\n",
              "  <thead>\n",
              "    <tr style=\"text-align: right;\">\n",
              "      <th></th>\n",
              "      <th>Age</th>\n",
              "      <th>Attrition</th>\n",
              "      <th>BusinessTravel</th>\n",
              "      <th>DailyRate</th>\n",
              "      <th>Department</th>\n",
              "      <th>DistanceFromHome</th>\n",
              "      <th>Education</th>\n",
              "      <th>EducationField</th>\n",
              "      <th>EmployeeCount</th>\n",
              "      <th>EmployeeNumber</th>\n",
              "      <th>EnvironmentSatisfaction</th>\n",
              "      <th>Gender</th>\n",
              "      <th>HourlyRate</th>\n",
              "      <th>JobInvolvement</th>\n",
              "      <th>JobLevel</th>\n",
              "      <th>JobRole</th>\n",
              "      <th>JobSatisfaction</th>\n",
              "      <th>MaritalStatus</th>\n",
              "      <th>MonthlyIncome</th>\n",
              "      <th>MonthlyRate</th>\n",
              "      <th>NumCompaniesWorked</th>\n",
              "      <th>Over18</th>\n",
              "      <th>OverTime</th>\n",
              "      <th>PercentSalaryHike</th>\n",
              "      <th>PerformanceRating</th>\n",
              "      <th>RelationshipSatisfaction</th>\n",
              "      <th>StandardHours</th>\n",
              "      <th>StockOptionLevel</th>\n",
              "      <th>TotalWorkingYears</th>\n",
              "      <th>TrainingTimesLastYear</th>\n",
              "      <th>WorkLifeBalance</th>\n",
              "      <th>YearsAtCompany</th>\n",
              "      <th>YearsInCurrentRole</th>\n",
              "      <th>YearsSinceLastPromotion</th>\n",
              "      <th>YearsWithCurrManager</th>\n",
              "    </tr>\n",
              "  </thead>\n",
              "  <tbody>\n",
              "    <tr>\n",
              "      <th>0</th>\n",
              "      <td>41</td>\n",
              "      <td>Yes</td>\n",
              "      <td>Travel_Rarely</td>\n",
              "      <td>1102</td>\n",
              "      <td>Sales</td>\n",
              "      <td>1</td>\n",
              "      <td>2</td>\n",
              "      <td>Life Sciences</td>\n",
              "      <td>1</td>\n",
              "      <td>1</td>\n",
              "      <td>2</td>\n",
              "      <td>Female</td>\n",
              "      <td>94</td>\n",
              "      <td>3</td>\n",
              "      <td>2</td>\n",
              "      <td>Sales Executive</td>\n",
              "      <td>4</td>\n",
              "      <td>Single</td>\n",
              "      <td>5993</td>\n",
              "      <td>19479</td>\n",
              "      <td>8</td>\n",
              "      <td>Y</td>\n",
              "      <td>Yes</td>\n",
              "      <td>11</td>\n",
              "      <td>3</td>\n",
              "      <td>1</td>\n",
              "      <td>80</td>\n",
              "      <td>0</td>\n",
              "      <td>8</td>\n",
              "      <td>0</td>\n",
              "      <td>1</td>\n",
              "      <td>6</td>\n",
              "      <td>4</td>\n",
              "      <td>0</td>\n",
              "      <td>5</td>\n",
              "    </tr>\n",
              "    <tr>\n",
              "      <th>1</th>\n",
              "      <td>49</td>\n",
              "      <td>No</td>\n",
              "      <td>Travel_Frequently</td>\n",
              "      <td>279</td>\n",
              "      <td>Research &amp; Development</td>\n",
              "      <td>8</td>\n",
              "      <td>1</td>\n",
              "      <td>Life Sciences</td>\n",
              "      <td>1</td>\n",
              "      <td>2</td>\n",
              "      <td>3</td>\n",
              "      <td>Male</td>\n",
              "      <td>61</td>\n",
              "      <td>2</td>\n",
              "      <td>2</td>\n",
              "      <td>Research Scientist</td>\n",
              "      <td>2</td>\n",
              "      <td>Married</td>\n",
              "      <td>5130</td>\n",
              "      <td>24907</td>\n",
              "      <td>1</td>\n",
              "      <td>Y</td>\n",
              "      <td>No</td>\n",
              "      <td>23</td>\n",
              "      <td>4</td>\n",
              "      <td>4</td>\n",
              "      <td>80</td>\n",
              "      <td>1</td>\n",
              "      <td>10</td>\n",
              "      <td>3</td>\n",
              "      <td>3</td>\n",
              "      <td>10</td>\n",
              "      <td>7</td>\n",
              "      <td>1</td>\n",
              "      <td>7</td>\n",
              "    </tr>\n",
              "    <tr>\n",
              "      <th>2</th>\n",
              "      <td>37</td>\n",
              "      <td>Yes</td>\n",
              "      <td>Travel_Rarely</td>\n",
              "      <td>1373</td>\n",
              "      <td>Research &amp; Development</td>\n",
              "      <td>2</td>\n",
              "      <td>2</td>\n",
              "      <td>Other</td>\n",
              "      <td>1</td>\n",
              "      <td>4</td>\n",
              "      <td>4</td>\n",
              "      <td>Male</td>\n",
              "      <td>92</td>\n",
              "      <td>2</td>\n",
              "      <td>1</td>\n",
              "      <td>Laboratory Technician</td>\n",
              "      <td>3</td>\n",
              "      <td>Single</td>\n",
              "      <td>2090</td>\n",
              "      <td>2396</td>\n",
              "      <td>6</td>\n",
              "      <td>Y</td>\n",
              "      <td>Yes</td>\n",
              "      <td>15</td>\n",
              "      <td>3</td>\n",
              "      <td>2</td>\n",
              "      <td>80</td>\n",
              "      <td>0</td>\n",
              "      <td>7</td>\n",
              "      <td>3</td>\n",
              "      <td>3</td>\n",
              "      <td>0</td>\n",
              "      <td>0</td>\n",
              "      <td>0</td>\n",
              "      <td>0</td>\n",
              "    </tr>\n",
              "    <tr>\n",
              "      <th>3</th>\n",
              "      <td>33</td>\n",
              "      <td>No</td>\n",
              "      <td>Travel_Frequently</td>\n",
              "      <td>1392</td>\n",
              "      <td>Research &amp; Development</td>\n",
              "      <td>3</td>\n",
              "      <td>4</td>\n",
              "      <td>Life Sciences</td>\n",
              "      <td>1</td>\n",
              "      <td>5</td>\n",
              "      <td>4</td>\n",
              "      <td>Female</td>\n",
              "      <td>56</td>\n",
              "      <td>3</td>\n",
              "      <td>1</td>\n",
              "      <td>Research Scientist</td>\n",
              "      <td>3</td>\n",
              "      <td>Married</td>\n",
              "      <td>2909</td>\n",
              "      <td>23159</td>\n",
              "      <td>1</td>\n",
              "      <td>Y</td>\n",
              "      <td>Yes</td>\n",
              "      <td>11</td>\n",
              "      <td>3</td>\n",
              "      <td>3</td>\n",
              "      <td>80</td>\n",
              "      <td>0</td>\n",
              "      <td>8</td>\n",
              "      <td>3</td>\n",
              "      <td>3</td>\n",
              "      <td>8</td>\n",
              "      <td>7</td>\n",
              "      <td>3</td>\n",
              "      <td>0</td>\n",
              "    </tr>\n",
              "    <tr>\n",
              "      <th>4</th>\n",
              "      <td>27</td>\n",
              "      <td>No</td>\n",
              "      <td>Travel_Rarely</td>\n",
              "      <td>591</td>\n",
              "      <td>Research &amp; Development</td>\n",
              "      <td>2</td>\n",
              "      <td>1</td>\n",
              "      <td>Medical</td>\n",
              "      <td>1</td>\n",
              "      <td>7</td>\n",
              "      <td>1</td>\n",
              "      <td>Male</td>\n",
              "      <td>40</td>\n",
              "      <td>3</td>\n",
              "      <td>1</td>\n",
              "      <td>Laboratory Technician</td>\n",
              "      <td>2</td>\n",
              "      <td>Married</td>\n",
              "      <td>3468</td>\n",
              "      <td>16632</td>\n",
              "      <td>9</td>\n",
              "      <td>Y</td>\n",
              "      <td>No</td>\n",
              "      <td>12</td>\n",
              "      <td>3</td>\n",
              "      <td>4</td>\n",
              "      <td>80</td>\n",
              "      <td>1</td>\n",
              "      <td>6</td>\n",
              "      <td>3</td>\n",
              "      <td>3</td>\n",
              "      <td>2</td>\n",
              "      <td>2</td>\n",
              "      <td>2</td>\n",
              "      <td>2</td>\n",
              "    </tr>\n",
              "  </tbody>\n",
              "</table>\n",
              "</div>"
            ],
            "text/plain": [
              "   Age Attrition  ... YearsSinceLastPromotion  YearsWithCurrManager\n",
              "0   41       Yes  ...                       0                     5\n",
              "1   49        No  ...                       1                     7\n",
              "2   37       Yes  ...                       0                     0\n",
              "3   33        No  ...                       3                     0\n",
              "4   27        No  ...                       2                     2\n",
              "\n",
              "[5 rows x 35 columns]"
            ]
          },
          "metadata": {},
          "execution_count": 25
        }
      ]
    },
    {
      "cell_type": "code",
      "metadata": {
        "colab": {
          "base_uri": "https://localhost:8080/"
        },
        "id": "82WQTXGYTj6P",
        "outputId": "88d5cef3-344f-47d6-fa55-28fed9afb077"
      },
      "source": [
        "#No. of rows (records), no. of columns (variables), python data types, no. of records with no missing entires\n",
        "df.info()"
      ],
      "execution_count": null,
      "outputs": [
        {
          "output_type": "stream",
          "name": "stdout",
          "text": [
            "<class 'pandas.core.frame.DataFrame'>\n",
            "RangeIndex: 1470 entries, 0 to 1469\n",
            "Data columns (total 35 columns):\n",
            " #   Column                    Non-Null Count  Dtype \n",
            "---  ------                    --------------  ----- \n",
            " 0   Age                       1470 non-null   int64 \n",
            " 1   Attrition                 1470 non-null   object\n",
            " 2   BusinessTravel            1470 non-null   object\n",
            " 3   DailyRate                 1470 non-null   int64 \n",
            " 4   Department                1470 non-null   object\n",
            " 5   DistanceFromHome          1470 non-null   int64 \n",
            " 6   Education                 1470 non-null   int64 \n",
            " 7   EducationField            1470 non-null   object\n",
            " 8   EmployeeCount             1470 non-null   int64 \n",
            " 9   EmployeeNumber            1470 non-null   int64 \n",
            " 10  EnvironmentSatisfaction   1470 non-null   int64 \n",
            " 11  Gender                    1470 non-null   object\n",
            " 12  HourlyRate                1470 non-null   int64 \n",
            " 13  JobInvolvement            1470 non-null   int64 \n",
            " 14  JobLevel                  1470 non-null   int64 \n",
            " 15  JobRole                   1470 non-null   object\n",
            " 16  JobSatisfaction           1470 non-null   int64 \n",
            " 17  MaritalStatus             1470 non-null   object\n",
            " 18  MonthlyIncome             1470 non-null   int64 \n",
            " 19  MonthlyRate               1470 non-null   int64 \n",
            " 20  NumCompaniesWorked        1470 non-null   int64 \n",
            " 21  Over18                    1470 non-null   object\n",
            " 22  OverTime                  1470 non-null   object\n",
            " 23  PercentSalaryHike         1470 non-null   int64 \n",
            " 24  PerformanceRating         1470 non-null   int64 \n",
            " 25  RelationshipSatisfaction  1470 non-null   int64 \n",
            " 26  StandardHours             1470 non-null   int64 \n",
            " 27  StockOptionLevel          1470 non-null   int64 \n",
            " 28  TotalWorkingYears         1470 non-null   int64 \n",
            " 29  TrainingTimesLastYear     1470 non-null   int64 \n",
            " 30  WorkLifeBalance           1470 non-null   int64 \n",
            " 31  YearsAtCompany            1470 non-null   int64 \n",
            " 32  YearsInCurrentRole        1470 non-null   int64 \n",
            " 33  YearsSinceLastPromotion   1470 non-null   int64 \n",
            " 34  YearsWithCurrManager      1470 non-null   int64 \n",
            "dtypes: int64(26), object(9)\n",
            "memory usage: 402.1+ KB\n"
          ]
        }
      ]
    },
    {
      "cell_type": "markdown",
      "metadata": {
        "id": "-KNqgss5bm4h"
      },
      "source": [
        "There are 1470 entries, 35 columns with the column 'Attrition' predicting Yes or No for whether an employee stays at the firm or leaves. There are no missing entries."
      ]
    },
    {
      "cell_type": "code",
      "metadata": {
        "colab": {
          "base_uri": "https://localhost:8080/"
        },
        "id": "kQBksDaMTj3u",
        "outputId": "b33a8756-aba2-43f0-e726-3bd053769784"
      },
      "source": [
        "#No. of unique values in each column\n",
        "print(df.nunique())"
      ],
      "execution_count": null,
      "outputs": [
        {
          "output_type": "stream",
          "name": "stdout",
          "text": [
            "Age                           43\n",
            "Attrition                      2\n",
            "BusinessTravel                 3\n",
            "DailyRate                    886\n",
            "Department                     3\n",
            "DistanceFromHome              29\n",
            "Education                      5\n",
            "EducationField                 6\n",
            "EmployeeCount                  1\n",
            "EmployeeNumber              1470\n",
            "EnvironmentSatisfaction        4\n",
            "Gender                         2\n",
            "HourlyRate                    71\n",
            "JobInvolvement                 4\n",
            "JobLevel                       5\n",
            "JobRole                        9\n",
            "JobSatisfaction                4\n",
            "MaritalStatus                  3\n",
            "MonthlyIncome               1349\n",
            "MonthlyRate                 1427\n",
            "NumCompaniesWorked            10\n",
            "Over18                         1\n",
            "OverTime                       2\n",
            "PercentSalaryHike             15\n",
            "PerformanceRating              2\n",
            "RelationshipSatisfaction       4\n",
            "StandardHours                  1\n",
            "StockOptionLevel               4\n",
            "TotalWorkingYears             40\n",
            "TrainingTimesLastYear          7\n",
            "WorkLifeBalance                4\n",
            "YearsAtCompany                37\n",
            "YearsInCurrentRole            19\n",
            "YearsSinceLastPromotion       16\n",
            "YearsWithCurrManager          18\n",
            "dtype: int64\n"
          ]
        }
      ]
    },
    {
      "cell_type": "code",
      "metadata": {
        "colab": {
          "base_uri": "https://localhost:8080/"
        },
        "id": "E4QPh9lWTjzN",
        "outputId": "fe75bb3e-6485-4c60-c10c-42cd950a641b"
      },
      "source": [
        "#No. of missing entries for each column (variable)\n",
        "df.isnull().sum(axis = 0)"
      ],
      "execution_count": null,
      "outputs": [
        {
          "output_type": "execute_result",
          "data": {
            "text/plain": [
              "Age                         0\n",
              "Attrition                   0\n",
              "BusinessTravel              0\n",
              "DailyRate                   0\n",
              "Department                  0\n",
              "DistanceFromHome            0\n",
              "Education                   0\n",
              "EducationField              0\n",
              "EmployeeCount               0\n",
              "EmployeeNumber              0\n",
              "EnvironmentSatisfaction     0\n",
              "Gender                      0\n",
              "HourlyRate                  0\n",
              "JobInvolvement              0\n",
              "JobLevel                    0\n",
              "JobRole                     0\n",
              "JobSatisfaction             0\n",
              "MaritalStatus               0\n",
              "MonthlyIncome               0\n",
              "MonthlyRate                 0\n",
              "NumCompaniesWorked          0\n",
              "Over18                      0\n",
              "OverTime                    0\n",
              "PercentSalaryHike           0\n",
              "PerformanceRating           0\n",
              "RelationshipSatisfaction    0\n",
              "StandardHours               0\n",
              "StockOptionLevel            0\n",
              "TotalWorkingYears           0\n",
              "TrainingTimesLastYear       0\n",
              "WorkLifeBalance             0\n",
              "YearsAtCompany              0\n",
              "YearsInCurrentRole          0\n",
              "YearsSinceLastPromotion     0\n",
              "YearsWithCurrManager        0\n",
              "dtype: int64"
            ]
          },
          "metadata": {},
          "execution_count": 28
        }
      ]
    },
    {
      "cell_type": "markdown",
      "metadata": {
        "id": "WZ22I_jhk3iR"
      },
      "source": [
        "Various data types by manually examining data set-\n",
        "1.   Categorical - Attrition, BusinessTravel, Department, EducationField, Gender, JobRole, MaritalStatus, Over18, OverTime\n",
        "2.   Temporal - Education, EnvironmentSatisfaction, JobInvolvement, JobLevel, JobSatisfaction, PerformanceRating, RelationshipSatisfaction, StockOptionLevel, WorkLifeBalance\n",
        "3. Integer - Age, DailyRate, DistanceFromHome, EmployeeCount, EmployeeNumber, HourlyRate, MonthlyIncome, MonthlyRate, NumCompaniesWorked, PercentSalaryHike, StandardHours, TotalWorkingYears, TrainingTimesLastYear, YearsAtCompany, YearsInCurrentRole, YearsSinceLastPromotion, YearsWithCurrManager"
      ]
    },
    {
      "cell_type": "code",
      "metadata": {
        "colab": {
          "base_uri": "https://localhost:8080/"
        },
        "id": "G0abeCPuTjw3",
        "outputId": "eed7fcfa-f042-4771-ebf3-44b402679646"
      },
      "source": [
        "#Finding mean, median etc of numerical columns with df.describe()\n",
        "df.describe()"
      ],
      "execution_count": null,
      "outputs": [
        {
          "output_type": "execute_result",
          "data": {
            "text/html": [
              "<div>\n",
              "<style scoped>\n",
              "    .dataframe tbody tr th:only-of-type {\n",
              "        vertical-align: middle;\n",
              "    }\n",
              "\n",
              "    .dataframe tbody tr th {\n",
              "        vertical-align: top;\n",
              "    }\n",
              "\n",
              "    .dataframe thead th {\n",
              "        text-align: right;\n",
              "    }\n",
              "</style>\n",
              "<table border=\"1\" class=\"dataframe\">\n",
              "  <thead>\n",
              "    <tr style=\"text-align: right;\">\n",
              "      <th></th>\n",
              "      <th>Age</th>\n",
              "      <th>DailyRate</th>\n",
              "      <th>DistanceFromHome</th>\n",
              "      <th>Education</th>\n",
              "      <th>EmployeeCount</th>\n",
              "      <th>EmployeeNumber</th>\n",
              "      <th>EnvironmentSatisfaction</th>\n",
              "      <th>HourlyRate</th>\n",
              "      <th>JobInvolvement</th>\n",
              "      <th>JobLevel</th>\n",
              "      <th>JobSatisfaction</th>\n",
              "      <th>MonthlyIncome</th>\n",
              "      <th>MonthlyRate</th>\n",
              "      <th>NumCompaniesWorked</th>\n",
              "      <th>PercentSalaryHike</th>\n",
              "      <th>PerformanceRating</th>\n",
              "      <th>RelationshipSatisfaction</th>\n",
              "      <th>StandardHours</th>\n",
              "      <th>StockOptionLevel</th>\n",
              "      <th>TotalWorkingYears</th>\n",
              "      <th>TrainingTimesLastYear</th>\n",
              "      <th>WorkLifeBalance</th>\n",
              "      <th>YearsAtCompany</th>\n",
              "      <th>YearsInCurrentRole</th>\n",
              "      <th>YearsSinceLastPromotion</th>\n",
              "      <th>YearsWithCurrManager</th>\n",
              "    </tr>\n",
              "  </thead>\n",
              "  <tbody>\n",
              "    <tr>\n",
              "      <th>count</th>\n",
              "      <td>1470.000000</td>\n",
              "      <td>1470.000000</td>\n",
              "      <td>1470.000000</td>\n",
              "      <td>1470.000000</td>\n",
              "      <td>1470.0</td>\n",
              "      <td>1470.000000</td>\n",
              "      <td>1470.000000</td>\n",
              "      <td>1470.000000</td>\n",
              "      <td>1470.000000</td>\n",
              "      <td>1470.000000</td>\n",
              "      <td>1470.000000</td>\n",
              "      <td>1470.000000</td>\n",
              "      <td>1470.000000</td>\n",
              "      <td>1470.000000</td>\n",
              "      <td>1470.000000</td>\n",
              "      <td>1470.000000</td>\n",
              "      <td>1470.000000</td>\n",
              "      <td>1470.0</td>\n",
              "      <td>1470.000000</td>\n",
              "      <td>1470.000000</td>\n",
              "      <td>1470.000000</td>\n",
              "      <td>1470.000000</td>\n",
              "      <td>1470.000000</td>\n",
              "      <td>1470.000000</td>\n",
              "      <td>1470.000000</td>\n",
              "      <td>1470.000000</td>\n",
              "    </tr>\n",
              "    <tr>\n",
              "      <th>mean</th>\n",
              "      <td>36.923810</td>\n",
              "      <td>802.485714</td>\n",
              "      <td>9.192517</td>\n",
              "      <td>2.912925</td>\n",
              "      <td>1.0</td>\n",
              "      <td>1024.865306</td>\n",
              "      <td>2.721769</td>\n",
              "      <td>65.891156</td>\n",
              "      <td>2.729932</td>\n",
              "      <td>2.063946</td>\n",
              "      <td>2.728571</td>\n",
              "      <td>6502.931293</td>\n",
              "      <td>14313.103401</td>\n",
              "      <td>2.693197</td>\n",
              "      <td>15.209524</td>\n",
              "      <td>3.153741</td>\n",
              "      <td>2.712245</td>\n",
              "      <td>80.0</td>\n",
              "      <td>0.793878</td>\n",
              "      <td>11.279592</td>\n",
              "      <td>2.799320</td>\n",
              "      <td>2.761224</td>\n",
              "      <td>7.008163</td>\n",
              "      <td>4.229252</td>\n",
              "      <td>2.187755</td>\n",
              "      <td>4.123129</td>\n",
              "    </tr>\n",
              "    <tr>\n",
              "      <th>std</th>\n",
              "      <td>9.135373</td>\n",
              "      <td>403.509100</td>\n",
              "      <td>8.106864</td>\n",
              "      <td>1.024165</td>\n",
              "      <td>0.0</td>\n",
              "      <td>602.024335</td>\n",
              "      <td>1.093082</td>\n",
              "      <td>20.329428</td>\n",
              "      <td>0.711561</td>\n",
              "      <td>1.106940</td>\n",
              "      <td>1.102846</td>\n",
              "      <td>4707.956783</td>\n",
              "      <td>7117.786044</td>\n",
              "      <td>2.498009</td>\n",
              "      <td>3.659938</td>\n",
              "      <td>0.360824</td>\n",
              "      <td>1.081209</td>\n",
              "      <td>0.0</td>\n",
              "      <td>0.852077</td>\n",
              "      <td>7.780782</td>\n",
              "      <td>1.289271</td>\n",
              "      <td>0.706476</td>\n",
              "      <td>6.126525</td>\n",
              "      <td>3.623137</td>\n",
              "      <td>3.222430</td>\n",
              "      <td>3.568136</td>\n",
              "    </tr>\n",
              "    <tr>\n",
              "      <th>min</th>\n",
              "      <td>18.000000</td>\n",
              "      <td>102.000000</td>\n",
              "      <td>1.000000</td>\n",
              "      <td>1.000000</td>\n",
              "      <td>1.0</td>\n",
              "      <td>1.000000</td>\n",
              "      <td>1.000000</td>\n",
              "      <td>30.000000</td>\n",
              "      <td>1.000000</td>\n",
              "      <td>1.000000</td>\n",
              "      <td>1.000000</td>\n",
              "      <td>1009.000000</td>\n",
              "      <td>2094.000000</td>\n",
              "      <td>0.000000</td>\n",
              "      <td>11.000000</td>\n",
              "      <td>3.000000</td>\n",
              "      <td>1.000000</td>\n",
              "      <td>80.0</td>\n",
              "      <td>0.000000</td>\n",
              "      <td>0.000000</td>\n",
              "      <td>0.000000</td>\n",
              "      <td>1.000000</td>\n",
              "      <td>0.000000</td>\n",
              "      <td>0.000000</td>\n",
              "      <td>0.000000</td>\n",
              "      <td>0.000000</td>\n",
              "    </tr>\n",
              "    <tr>\n",
              "      <th>25%</th>\n",
              "      <td>30.000000</td>\n",
              "      <td>465.000000</td>\n",
              "      <td>2.000000</td>\n",
              "      <td>2.000000</td>\n",
              "      <td>1.0</td>\n",
              "      <td>491.250000</td>\n",
              "      <td>2.000000</td>\n",
              "      <td>48.000000</td>\n",
              "      <td>2.000000</td>\n",
              "      <td>1.000000</td>\n",
              "      <td>2.000000</td>\n",
              "      <td>2911.000000</td>\n",
              "      <td>8047.000000</td>\n",
              "      <td>1.000000</td>\n",
              "      <td>12.000000</td>\n",
              "      <td>3.000000</td>\n",
              "      <td>2.000000</td>\n",
              "      <td>80.0</td>\n",
              "      <td>0.000000</td>\n",
              "      <td>6.000000</td>\n",
              "      <td>2.000000</td>\n",
              "      <td>2.000000</td>\n",
              "      <td>3.000000</td>\n",
              "      <td>2.000000</td>\n",
              "      <td>0.000000</td>\n",
              "      <td>2.000000</td>\n",
              "    </tr>\n",
              "    <tr>\n",
              "      <th>50%</th>\n",
              "      <td>36.000000</td>\n",
              "      <td>802.000000</td>\n",
              "      <td>7.000000</td>\n",
              "      <td>3.000000</td>\n",
              "      <td>1.0</td>\n",
              "      <td>1020.500000</td>\n",
              "      <td>3.000000</td>\n",
              "      <td>66.000000</td>\n",
              "      <td>3.000000</td>\n",
              "      <td>2.000000</td>\n",
              "      <td>3.000000</td>\n",
              "      <td>4919.000000</td>\n",
              "      <td>14235.500000</td>\n",
              "      <td>2.000000</td>\n",
              "      <td>14.000000</td>\n",
              "      <td>3.000000</td>\n",
              "      <td>3.000000</td>\n",
              "      <td>80.0</td>\n",
              "      <td>1.000000</td>\n",
              "      <td>10.000000</td>\n",
              "      <td>3.000000</td>\n",
              "      <td>3.000000</td>\n",
              "      <td>5.000000</td>\n",
              "      <td>3.000000</td>\n",
              "      <td>1.000000</td>\n",
              "      <td>3.000000</td>\n",
              "    </tr>\n",
              "    <tr>\n",
              "      <th>75%</th>\n",
              "      <td>43.000000</td>\n",
              "      <td>1157.000000</td>\n",
              "      <td>14.000000</td>\n",
              "      <td>4.000000</td>\n",
              "      <td>1.0</td>\n",
              "      <td>1555.750000</td>\n",
              "      <td>4.000000</td>\n",
              "      <td>83.750000</td>\n",
              "      <td>3.000000</td>\n",
              "      <td>3.000000</td>\n",
              "      <td>4.000000</td>\n",
              "      <td>8379.000000</td>\n",
              "      <td>20461.500000</td>\n",
              "      <td>4.000000</td>\n",
              "      <td>18.000000</td>\n",
              "      <td>3.000000</td>\n",
              "      <td>4.000000</td>\n",
              "      <td>80.0</td>\n",
              "      <td>1.000000</td>\n",
              "      <td>15.000000</td>\n",
              "      <td>3.000000</td>\n",
              "      <td>3.000000</td>\n",
              "      <td>9.000000</td>\n",
              "      <td>7.000000</td>\n",
              "      <td>3.000000</td>\n",
              "      <td>7.000000</td>\n",
              "    </tr>\n",
              "    <tr>\n",
              "      <th>max</th>\n",
              "      <td>60.000000</td>\n",
              "      <td>1499.000000</td>\n",
              "      <td>29.000000</td>\n",
              "      <td>5.000000</td>\n",
              "      <td>1.0</td>\n",
              "      <td>2068.000000</td>\n",
              "      <td>4.000000</td>\n",
              "      <td>100.000000</td>\n",
              "      <td>4.000000</td>\n",
              "      <td>5.000000</td>\n",
              "      <td>4.000000</td>\n",
              "      <td>19999.000000</td>\n",
              "      <td>26999.000000</td>\n",
              "      <td>9.000000</td>\n",
              "      <td>25.000000</td>\n",
              "      <td>4.000000</td>\n",
              "      <td>4.000000</td>\n",
              "      <td>80.0</td>\n",
              "      <td>3.000000</td>\n",
              "      <td>40.000000</td>\n",
              "      <td>6.000000</td>\n",
              "      <td>4.000000</td>\n",
              "      <td>40.000000</td>\n",
              "      <td>18.000000</td>\n",
              "      <td>15.000000</td>\n",
              "      <td>17.000000</td>\n",
              "    </tr>\n",
              "  </tbody>\n",
              "</table>\n",
              "</div>"
            ],
            "text/plain": [
              "               Age    DailyRate  ...  YearsSinceLastPromotion  YearsWithCurrManager\n",
              "count  1470.000000  1470.000000  ...              1470.000000           1470.000000\n",
              "mean     36.923810   802.485714  ...                 2.187755              4.123129\n",
              "std       9.135373   403.509100  ...                 3.222430              3.568136\n",
              "min      18.000000   102.000000  ...                 0.000000              0.000000\n",
              "25%      30.000000   465.000000  ...                 0.000000              2.000000\n",
              "50%      36.000000   802.000000  ...                 1.000000              3.000000\n",
              "75%      43.000000  1157.000000  ...                 3.000000              7.000000\n",
              "max      60.000000  1499.000000  ...                15.000000             17.000000\n",
              "\n",
              "[8 rows x 26 columns]"
            ]
          },
          "metadata": {},
          "execution_count": 29
        }
      ]
    },
    {
      "cell_type": "markdown",
      "metadata": {
        "id": "Jd27qreSbz0P"
      },
      "source": [
        "##Correlation matrix"
      ]
    },
    {
      "cell_type": "code",
      "metadata": {
        "colab": {
          "base_uri": "https://localhost:8080/"
        },
        "id": "heX9q20TTjte",
        "outputId": "6bd1e0b8-5d67-455b-89df-32a164bc4911"
      },
      "source": [
        "#Heatmap of correlations\n",
        "\n",
        "# generating pairwise correlation\n",
        "corr = df.corr()\n",
        "  \n",
        "# Displaying dataframe as an heatmap \n",
        "# with diverging colourmap as coolwarm\n",
        "corr.style.background_gradient(cmap ='coolwarm')"
      ],
      "execution_count": null,
      "outputs": [
        {
          "output_type": "stream",
          "name": "stderr",
          "text": [
            "/usr/local/lib/python3.7/dist-packages/pandas/io/formats/style.py:1126: RuntimeWarning: All-NaN slice encountered\n",
            "  smin = np.nanmin(s.to_numpy()) if vmin is None else vmin\n",
            "/usr/local/lib/python3.7/dist-packages/pandas/io/formats/style.py:1127: RuntimeWarning: All-NaN slice encountered\n",
            "  smax = np.nanmax(s.to_numpy()) if vmax is None else vmax\n"
          ]
        },
        {
          "output_type": "execute_result",
          "data": {
            "text/html": [
              "<style  type=\"text/css\" >\n",
              "#T_4c8de98c_5021_11ec_96be_0242ac1c0002row0_col0,#T_4c8de98c_5021_11ec_96be_0242ac1c0002row1_col1,#T_4c8de98c_5021_11ec_96be_0242ac1c0002row2_col2,#T_4c8de98c_5021_11ec_96be_0242ac1c0002row3_col3,#T_4c8de98c_5021_11ec_96be_0242ac1c0002row5_col5,#T_4c8de98c_5021_11ec_96be_0242ac1c0002row6_col6,#T_4c8de98c_5021_11ec_96be_0242ac1c0002row7_col7,#T_4c8de98c_5021_11ec_96be_0242ac1c0002row8_col8,#T_4c8de98c_5021_11ec_96be_0242ac1c0002row9_col9,#T_4c8de98c_5021_11ec_96be_0242ac1c0002row10_col10,#T_4c8de98c_5021_11ec_96be_0242ac1c0002row11_col11,#T_4c8de98c_5021_11ec_96be_0242ac1c0002row12_col12,#T_4c8de98c_5021_11ec_96be_0242ac1c0002row13_col13,#T_4c8de98c_5021_11ec_96be_0242ac1c0002row14_col14,#T_4c8de98c_5021_11ec_96be_0242ac1c0002row15_col15,#T_4c8de98c_5021_11ec_96be_0242ac1c0002row16_col16,#T_4c8de98c_5021_11ec_96be_0242ac1c0002row18_col18,#T_4c8de98c_5021_11ec_96be_0242ac1c0002row19_col19,#T_4c8de98c_5021_11ec_96be_0242ac1c0002row20_col20,#T_4c8de98c_5021_11ec_96be_0242ac1c0002row21_col21,#T_4c8de98c_5021_11ec_96be_0242ac1c0002row22_col22,#T_4c8de98c_5021_11ec_96be_0242ac1c0002row23_col23,#T_4c8de98c_5021_11ec_96be_0242ac1c0002row24_col24,#T_4c8de98c_5021_11ec_96be_0242ac1c0002row25_col25{\n",
              "            background-color:  #b40426;\n",
              "            color:  #f1f1f1;\n",
              "        }#T_4c8de98c_5021_11ec_96be_0242ac1c0002row0_col1,#T_4c8de98c_5021_11ec_96be_0242ac1c0002row0_col10,#T_4c8de98c_5021_11ec_96be_0242ac1c0002row1_col14,#T_4c8de98c_5021_11ec_96be_0242ac1c0002row2_col12,#T_4c8de98c_5021_11ec_96be_0242ac1c0002row3_col18,#T_4c8de98c_5021_11ec_96be_0242ac1c0002row6_col10,#T_4c8de98c_5021_11ec_96be_0242ac1c0002row7_col23,#T_4c8de98c_5021_11ec_96be_0242ac1c0002row8_col5,#T_4c8de98c_5021_11ec_96be_0242ac1c0002row11_col10,#T_4c8de98c_5021_11ec_96be_0242ac1c0002row12_col2,#T_4c8de98c_5021_11ec_96be_0242ac1c0002row12_col11,#T_4c8de98c_5021_11ec_96be_0242ac1c0002row12_col16,#T_4c8de98c_5021_11ec_96be_0242ac1c0002row12_col19,#T_4c8de98c_5021_11ec_96be_0242ac1c0002row13_col6,#T_4c8de98c_5021_11ec_96be_0242ac1c0002row15_col2,#T_4c8de98c_5021_11ec_96be_0242ac1c0002row16_col8,#T_4c8de98c_5021_11ec_96be_0242ac1c0002row19_col1,#T_4c8de98c_5021_11ec_96be_0242ac1c0002row19_col12,#T_4c8de98c_5021_11ec_96be_0242ac1c0002row20_col7,#T_4c8de98c_5021_11ec_96be_0242ac1c0002row20_col10,#T_4c8de98c_5021_11ec_96be_0242ac1c0002row21_col7,#T_4c8de98c_5021_11ec_96be_0242ac1c0002row24_col20{\n",
              "            background-color:  #4c66d6;\n",
              "            color:  #000000;\n",
              "        }#T_4c8de98c_5021_11ec_96be_0242ac1c0002row0_col2,#T_4c8de98c_5021_11ec_96be_0242ac1c0002row0_col15,#T_4c8de98c_5021_11ec_96be_0242ac1c0002row1_col0,#T_4c8de98c_5021_11ec_96be_0242ac1c0002row1_col11,#T_4c8de98c_5021_11ec_96be_0242ac1c0002row2_col6,#T_4c8de98c_5021_11ec_96be_0242ac1c0002row3_col1,#T_4c8de98c_5021_11ec_96be_0242ac1c0002row6_col9,#T_4c8de98c_5021_11ec_96be_0242ac1c0002row6_col19,#T_4c8de98c_5021_11ec_96be_0242ac1c0002row7_col19,#T_4c8de98c_5021_11ec_96be_0242ac1c0002row7_col21,#T_4c8de98c_5021_11ec_96be_0242ac1c0002row10_col2,#T_4c8de98c_5021_11ec_96be_0242ac1c0002row10_col9,#T_4c8de98c_5021_11ec_96be_0242ac1c0002row10_col15,#T_4c8de98c_5021_11ec_96be_0242ac1c0002row12_col14,#T_4c8de98c_5021_11ec_96be_0242ac1c0002row14_col21,#T_4c8de98c_5021_11ec_96be_0242ac1c0002row16_col12,#T_4c8de98c_5021_11ec_96be_0242ac1c0002row18_col11,#T_4c8de98c_5021_11ec_96be_0242ac1c0002row18_col15,#T_4c8de98c_5021_11ec_96be_0242ac1c0002row20_col14,#T_4c8de98c_5021_11ec_96be_0242ac1c0002row20_col24,#T_4c8de98c_5021_11ec_96be_0242ac1c0002row21_col15,#T_4c8de98c_5021_11ec_96be_0242ac1c0002row22_col15{\n",
              "            background-color:  #445acc;\n",
              "            color:  #f1f1f1;\n",
              "        }#T_4c8de98c_5021_11ec_96be_0242ac1c0002row0_col3,#T_4c8de98c_5021_11ec_96be_0242ac1c0002row23_col0{\n",
              "            background-color:  #85a8fc;\n",
              "            color:  #000000;\n",
              "        }#T_4c8de98c_5021_11ec_96be_0242ac1c0002row0_col4,#T_4c8de98c_5021_11ec_96be_0242ac1c0002row0_col17,#T_4c8de98c_5021_11ec_96be_0242ac1c0002row1_col4,#T_4c8de98c_5021_11ec_96be_0242ac1c0002row1_col17,#T_4c8de98c_5021_11ec_96be_0242ac1c0002row2_col4,#T_4c8de98c_5021_11ec_96be_0242ac1c0002row2_col17,#T_4c8de98c_5021_11ec_96be_0242ac1c0002row3_col4,#T_4c8de98c_5021_11ec_96be_0242ac1c0002row3_col17,#T_4c8de98c_5021_11ec_96be_0242ac1c0002row4_col0,#T_4c8de98c_5021_11ec_96be_0242ac1c0002row4_col1,#T_4c8de98c_5021_11ec_96be_0242ac1c0002row4_col2,#T_4c8de98c_5021_11ec_96be_0242ac1c0002row4_col3,#T_4c8de98c_5021_11ec_96be_0242ac1c0002row4_col4,#T_4c8de98c_5021_11ec_96be_0242ac1c0002row4_col5,#T_4c8de98c_5021_11ec_96be_0242ac1c0002row4_col6,#T_4c8de98c_5021_11ec_96be_0242ac1c0002row4_col7,#T_4c8de98c_5021_11ec_96be_0242ac1c0002row4_col8,#T_4c8de98c_5021_11ec_96be_0242ac1c0002row4_col9,#T_4c8de98c_5021_11ec_96be_0242ac1c0002row4_col10,#T_4c8de98c_5021_11ec_96be_0242ac1c0002row4_col11,#T_4c8de98c_5021_11ec_96be_0242ac1c0002row4_col12,#T_4c8de98c_5021_11ec_96be_0242ac1c0002row4_col13,#T_4c8de98c_5021_11ec_96be_0242ac1c0002row4_col14,#T_4c8de98c_5021_11ec_96be_0242ac1c0002row4_col15,#T_4c8de98c_5021_11ec_96be_0242ac1c0002row4_col16,#T_4c8de98c_5021_11ec_96be_0242ac1c0002row4_col17,#T_4c8de98c_5021_11ec_96be_0242ac1c0002row4_col18,#T_4c8de98c_5021_11ec_96be_0242ac1c0002row4_col19,#T_4c8de98c_5021_11ec_96be_0242ac1c0002row4_col20,#T_4c8de98c_5021_11ec_96be_0242ac1c0002row4_col21,#T_4c8de98c_5021_11ec_96be_0242ac1c0002row4_col22,#T_4c8de98c_5021_11ec_96be_0242ac1c0002row4_col23,#T_4c8de98c_5021_11ec_96be_0242ac1c0002row4_col24,#T_4c8de98c_5021_11ec_96be_0242ac1c0002row4_col25,#T_4c8de98c_5021_11ec_96be_0242ac1c0002row5_col4,#T_4c8de98c_5021_11ec_96be_0242ac1c0002row5_col17,#T_4c8de98c_5021_11ec_96be_0242ac1c0002row6_col4,#T_4c8de98c_5021_11ec_96be_0242ac1c0002row6_col17,#T_4c8de98c_5021_11ec_96be_0242ac1c0002row7_col4,#T_4c8de98c_5021_11ec_96be_0242ac1c0002row7_col17,#T_4c8de98c_5021_11ec_96be_0242ac1c0002row8_col4,#T_4c8de98c_5021_11ec_96be_0242ac1c0002row8_col17,#T_4c8de98c_5021_11ec_96be_0242ac1c0002row9_col4,#T_4c8de98c_5021_11ec_96be_0242ac1c0002row9_col17,#T_4c8de98c_5021_11ec_96be_0242ac1c0002row10_col4,#T_4c8de98c_5021_11ec_96be_0242ac1c0002row10_col17,#T_4c8de98c_5021_11ec_96be_0242ac1c0002row11_col4,#T_4c8de98c_5021_11ec_96be_0242ac1c0002row11_col17,#T_4c8de98c_5021_11ec_96be_0242ac1c0002row12_col4,#T_4c8de98c_5021_11ec_96be_0242ac1c0002row12_col17,#T_4c8de98c_5021_11ec_96be_0242ac1c0002row13_col4,#T_4c8de98c_5021_11ec_96be_0242ac1c0002row13_col17,#T_4c8de98c_5021_11ec_96be_0242ac1c0002row14_col4,#T_4c8de98c_5021_11ec_96be_0242ac1c0002row14_col17,#T_4c8de98c_5021_11ec_96be_0242ac1c0002row15_col4,#T_4c8de98c_5021_11ec_96be_0242ac1c0002row15_col17,#T_4c8de98c_5021_11ec_96be_0242ac1c0002row16_col4,#T_4c8de98c_5021_11ec_96be_0242ac1c0002row16_col17,#T_4c8de98c_5021_11ec_96be_0242ac1c0002row17_col0,#T_4c8de98c_5021_11ec_96be_0242ac1c0002row17_col1,#T_4c8de98c_5021_11ec_96be_0242ac1c0002row17_col2,#T_4c8de98c_5021_11ec_96be_0242ac1c0002row17_col3,#T_4c8de98c_5021_11ec_96be_0242ac1c0002row17_col4,#T_4c8de98c_5021_11ec_96be_0242ac1c0002row17_col5,#T_4c8de98c_5021_11ec_96be_0242ac1c0002row17_col6,#T_4c8de98c_5021_11ec_96be_0242ac1c0002row17_col7,#T_4c8de98c_5021_11ec_96be_0242ac1c0002row17_col8,#T_4c8de98c_5021_11ec_96be_0242ac1c0002row17_col9,#T_4c8de98c_5021_11ec_96be_0242ac1c0002row17_col10,#T_4c8de98c_5021_11ec_96be_0242ac1c0002row17_col11,#T_4c8de98c_5021_11ec_96be_0242ac1c0002row17_col12,#T_4c8de98c_5021_11ec_96be_0242ac1c0002row17_col13,#T_4c8de98c_5021_11ec_96be_0242ac1c0002row17_col14,#T_4c8de98c_5021_11ec_96be_0242ac1c0002row17_col15,#T_4c8de98c_5021_11ec_96be_0242ac1c0002row17_col16,#T_4c8de98c_5021_11ec_96be_0242ac1c0002row17_col17,#T_4c8de98c_5021_11ec_96be_0242ac1c0002row17_col18,#T_4c8de98c_5021_11ec_96be_0242ac1c0002row17_col19,#T_4c8de98c_5021_11ec_96be_0242ac1c0002row17_col20,#T_4c8de98c_5021_11ec_96be_0242ac1c0002row17_col21,#T_4c8de98c_5021_11ec_96be_0242ac1c0002row17_col22,#T_4c8de98c_5021_11ec_96be_0242ac1c0002row17_col23,#T_4c8de98c_5021_11ec_96be_0242ac1c0002row17_col24,#T_4c8de98c_5021_11ec_96be_0242ac1c0002row17_col25,#T_4c8de98c_5021_11ec_96be_0242ac1c0002row18_col4,#T_4c8de98c_5021_11ec_96be_0242ac1c0002row18_col17,#T_4c8de98c_5021_11ec_96be_0242ac1c0002row19_col4,#T_4c8de98c_5021_11ec_96be_0242ac1c0002row19_col17,#T_4c8de98c_5021_11ec_96be_0242ac1c0002row20_col4,#T_4c8de98c_5021_11ec_96be_0242ac1c0002row20_col17,#T_4c8de98c_5021_11ec_96be_0242ac1c0002row21_col4,#T_4c8de98c_5021_11ec_96be_0242ac1c0002row21_col17,#T_4c8de98c_5021_11ec_96be_0242ac1c0002row22_col4,#T_4c8de98c_5021_11ec_96be_0242ac1c0002row22_col17,#T_4c8de98c_5021_11ec_96be_0242ac1c0002row23_col4,#T_4c8de98c_5021_11ec_96be_0242ac1c0002row23_col17,#T_4c8de98c_5021_11ec_96be_0242ac1c0002row24_col4,#T_4c8de98c_5021_11ec_96be_0242ac1c0002row24_col17,#T_4c8de98c_5021_11ec_96be_0242ac1c0002row25_col4,#T_4c8de98c_5021_11ec_96be_0242ac1c0002row25_col17{\n",
              "            background-color:  #000000;\n",
              "            color:  #f1f1f1;\n",
              "        }#T_4c8de98c_5021_11ec_96be_0242ac1c0002row0_col5,#T_4c8de98c_5021_11ec_96be_0242ac1c0002row0_col6,#T_4c8de98c_5021_11ec_96be_0242ac1c0002row0_col8,#T_4c8de98c_5021_11ec_96be_0242ac1c0002row2_col15,#T_4c8de98c_5021_11ec_96be_0242ac1c0002row3_col2,#T_4c8de98c_5021_11ec_96be_0242ac1c0002row3_col10,#T_4c8de98c_5021_11ec_96be_0242ac1c0002row3_col16,#T_4c8de98c_5021_11ec_96be_0242ac1c0002row9_col18,#T_4c8de98c_5021_11ec_96be_0242ac1c0002row10_col13,#T_4c8de98c_5021_11ec_96be_0242ac1c0002row10_col14,#T_4c8de98c_5021_11ec_96be_0242ac1c0002row10_col20,#T_4c8de98c_5021_11ec_96be_0242ac1c0002row11_col1,#T_4c8de98c_5021_11ec_96be_0242ac1c0002row14_col7,#T_4c8de98c_5021_11ec_96be_0242ac1c0002row14_col20,#T_4c8de98c_5021_11ec_96be_0242ac1c0002row16_col1,#T_4c8de98c_5021_11ec_96be_0242ac1c0002row16_col6,#T_4c8de98c_5021_11ec_96be_0242ac1c0002row16_col10,#T_4c8de98c_5021_11ec_96be_0242ac1c0002row16_col19,#T_4c8de98c_5021_11ec_96be_0242ac1c0002row16_col21,#T_4c8de98c_5021_11ec_96be_0242ac1c0002row18_col0,#T_4c8de98c_5021_11ec_96be_0242ac1c0002row20_col18,#T_4c8de98c_5021_11ec_96be_0242ac1c0002row21_col11,#T_4c8de98c_5021_11ec_96be_0242ac1c0002row22_col5,#T_4c8de98c_5021_11ec_96be_0242ac1c0002row22_col18,#T_4c8de98c_5021_11ec_96be_0242ac1c0002row23_col1,#T_4c8de98c_5021_11ec_96be_0242ac1c0002row23_col5,#T_4c8de98c_5021_11ec_96be_0242ac1c0002row23_col20,#T_4c8de98c_5021_11ec_96be_0242ac1c0002row24_col5,#T_4c8de98c_5021_11ec_96be_0242ac1c0002row24_col18,#T_4c8de98c_5021_11ec_96be_0242ac1c0002row25_col5,#T_4c8de98c_5021_11ec_96be_0242ac1c0002row25_col20{\n",
              "            background-color:  #4b64d5;\n",
              "            color:  #f1f1f1;\n",
              "        }#T_4c8de98c_5021_11ec_96be_0242ac1c0002row0_col7,#T_4c8de98c_5021_11ec_96be_0242ac1c0002row1_col7,#T_4c8de98c_5021_11ec_96be_0242ac1c0002row2_col18,#T_4c8de98c_5021_11ec_96be_0242ac1c0002row3_col24,#T_4c8de98c_5021_11ec_96be_0242ac1c0002row7_col22,#T_4c8de98c_5021_11ec_96be_0242ac1c0002row8_col22,#T_4c8de98c_5021_11ec_96be_0242ac1c0002row11_col16,#T_4c8de98c_5021_11ec_96be_0242ac1c0002row13_col7,#T_4c8de98c_5021_11ec_96be_0242ac1c0002row14_col25,#T_4c8de98c_5021_11ec_96be_0242ac1c0002row18_col1,#T_4c8de98c_5021_11ec_96be_0242ac1c0002row19_col16,#T_4c8de98c_5021_11ec_96be_0242ac1c0002row20_col5,#T_4c8de98c_5021_11ec_96be_0242ac1c0002row21_col20{\n",
              "            background-color:  #5572df;\n",
              "            color:  #000000;\n",
              "        }#T_4c8de98c_5021_11ec_96be_0242ac1c0002row0_col9,#T_4c8de98c_5021_11ec_96be_0242ac1c0002row22_col11{\n",
              "            background-color:  #e3d9d3;\n",
              "            color:  #000000;\n",
              "        }#T_4c8de98c_5021_11ec_96be_0242ac1c0002row0_col11,#T_4c8de98c_5021_11ec_96be_0242ac1c0002row11_col0{\n",
              "            background-color:  #dfdbd9;\n",
              "            color:  #000000;\n",
              "        }#T_4c8de98c_5021_11ec_96be_0242ac1c0002row0_col12,#T_4c8de98c_5021_11ec_96be_0242ac1c0002row1_col6,#T_4c8de98c_5021_11ec_96be_0242ac1c0002row1_col20,#T_4c8de98c_5021_11ec_96be_0242ac1c0002row2_col10,#T_4c8de98c_5021_11ec_96be_0242ac1c0002row5_col6,#T_4c8de98c_5021_11ec_96be_0242ac1c0002row6_col1,#T_4c8de98c_5021_11ec_96be_0242ac1c0002row6_col21,#T_4c8de98c_5021_11ec_96be_0242ac1c0002row7_col2,#T_4c8de98c_5021_11ec_96be_0242ac1c0002row8_col18,#T_4c8de98c_5021_11ec_96be_0242ac1c0002row9_col10,#T_4c8de98c_5021_11ec_96be_0242ac1c0002row11_col21,#T_4c8de98c_5021_11ec_96be_0242ac1c0002row12_col20,#T_4c8de98c_5021_11ec_96be_0242ac1c0002row12_col25,#T_4c8de98c_5021_11ec_96be_0242ac1c0002row13_col5,#T_4c8de98c_5021_11ec_96be_0242ac1c0002row15_col7,#T_4c8de98c_5021_11ec_96be_0242ac1c0002row16_col20,#T_4c8de98c_5021_11ec_96be_0242ac1c0002row19_col7,#T_4c8de98c_5021_11ec_96be_0242ac1c0002row20_col21,#T_4c8de98c_5021_11ec_96be_0242ac1c0002row22_col10,#T_4c8de98c_5021_11ec_96be_0242ac1c0002row22_col20,#T_4c8de98c_5021_11ec_96be_0242ac1c0002row23_col6,#T_4c8de98c_5021_11ec_96be_0242ac1c0002row23_col10,#T_4c8de98c_5021_11ec_96be_0242ac1c0002row23_col15,#T_4c8de98c_5021_11ec_96be_0242ac1c0002row24_col6,#T_4c8de98c_5021_11ec_96be_0242ac1c0002row25_col16{\n",
              "            background-color:  #4e68d8;\n",
              "            color:  #000000;\n",
              "        }#T_4c8de98c_5021_11ec_96be_0242ac1c0002row0_col13{\n",
              "            background-color:  #b7cff9;\n",
              "            color:  #000000;\n",
              "        }#T_4c8de98c_5021_11ec_96be_0242ac1c0002row0_col14,#T_4c8de98c_5021_11ec_96be_0242ac1c0002row7_col3,#T_4c8de98c_5021_11ec_96be_0242ac1c0002row8_col6,#T_4c8de98c_5021_11ec_96be_0242ac1c0002row9_col2,#T_4c8de98c_5021_11ec_96be_0242ac1c0002row9_col7,#T_4c8de98c_5021_11ec_96be_0242ac1c0002row10_col6,#T_4c8de98c_5021_11ec_96be_0242ac1c0002row11_col6,#T_4c8de98c_5021_11ec_96be_0242ac1c0002row11_col20,#T_4c8de98c_5021_11ec_96be_0242ac1c0002row13_col8,#T_4c8de98c_5021_11ec_96be_0242ac1c0002row15_col19,#T_4c8de98c_5021_11ec_96be_0242ac1c0002row16_col2,#T_4c8de98c_5021_11ec_96be_0242ac1c0002row18_col21,#T_4c8de98c_5021_11ec_96be_0242ac1c0002row19_col2,#T_4c8de98c_5021_11ec_96be_0242ac1c0002row24_col7,#T_4c8de98c_5021_11ec_96be_0242ac1c0002row25_col6,#T_4c8de98c_5021_11ec_96be_0242ac1c0002row25_col10,#T_4c8de98c_5021_11ec_96be_0242ac1c0002row25_col21{\n",
              "            background-color:  #465ecf;\n",
              "            color:  #f1f1f1;\n",
              "        }#T_4c8de98c_5021_11ec_96be_0242ac1c0002row0_col16,#T_4c8de98c_5021_11ec_96be_0242ac1c0002row2_col22,#T_4c8de98c_5021_11ec_96be_0242ac1c0002row6_col13,#T_4c8de98c_5021_11ec_96be_0242ac1c0002row13_col16,#T_4c8de98c_5021_11ec_96be_0242ac1c0002row15_col23,#T_4c8de98c_5021_11ec_96be_0242ac1c0002row18_col7,#T_4c8de98c_5021_11ec_96be_0242ac1c0002row21_col22{\n",
              "            background-color:  #5e7de7;\n",
              "            color:  #000000;\n",
              "        }#T_4c8de98c_5021_11ec_96be_0242ac1c0002row0_col18,#T_4c8de98c_5021_11ec_96be_0242ac1c0002row2_col13,#T_4c8de98c_5021_11ec_96be_0242ac1c0002row6_col5,#T_4c8de98c_5021_11ec_96be_0242ac1c0002row7_col25,#T_4c8de98c_5021_11ec_96be_0242ac1c0002row10_col23,#T_4c8de98c_5021_11ec_96be_0242ac1c0002row14_col23,#T_4c8de98c_5021_11ec_96be_0242ac1c0002row18_col2,#T_4c8de98c_5021_11ec_96be_0242ac1c0002row24_col3{\n",
              "            background-color:  #536edd;\n",
              "            color:  #000000;\n",
              "        }#T_4c8de98c_5021_11ec_96be_0242ac1c0002row0_col19{\n",
              "            background-color:  #f7b093;\n",
              "            color:  #000000;\n",
              "        }#T_4c8de98c_5021_11ec_96be_0242ac1c0002row0_col20,#T_4c8de98c_5021_11ec_96be_0242ac1c0002row2_col1,#T_4c8de98c_5021_11ec_96be_0242ac1c0002row2_col24,#T_4c8de98c_5021_11ec_96be_0242ac1c0002row3_col21,#T_4c8de98c_5021_11ec_96be_0242ac1c0002row5_col21,#T_4c8de98c_5021_11ec_96be_0242ac1c0002row6_col20,#T_4c8de98c_5021_11ec_96be_0242ac1c0002row7_col0,#T_4c8de98c_5021_11ec_96be_0242ac1c0002row8_col2,#T_4c8de98c_5021_11ec_96be_0242ac1c0002row8_col10,#T_4c8de98c_5021_11ec_96be_0242ac1c0002row9_col20,#T_4c8de98c_5021_11ec_96be_0242ac1c0002row12_col21,#T_4c8de98c_5021_11ec_96be_0242ac1c0002row15_col5,#T_4c8de98c_5021_11ec_96be_0242ac1c0002row18_col3,#T_4c8de98c_5021_11ec_96be_0242ac1c0002row18_col14,#T_4c8de98c_5021_11ec_96be_0242ac1c0002row18_col19,#T_4c8de98c_5021_11ec_96be_0242ac1c0002row19_col6,#T_4c8de98c_5021_11ec_96be_0242ac1c0002row20_col13,#T_4c8de98c_5021_11ec_96be_0242ac1c0002row21_col12,#T_4c8de98c_5021_11ec_96be_0242ac1c0002row21_col24,#T_4c8de98c_5021_11ec_96be_0242ac1c0002row22_col2,#T_4c8de98c_5021_11ec_96be_0242ac1c0002row23_col7,#T_4c8de98c_5021_11ec_96be_0242ac1c0002row24_col2,#T_4c8de98c_5021_11ec_96be_0242ac1c0002row24_col21{\n",
              "            background-color:  #485fd1;\n",
              "            color:  #f1f1f1;\n",
              "        }#T_4c8de98c_5021_11ec_96be_0242ac1c0002row0_col21,#T_4c8de98c_5021_11ec_96be_0242ac1c0002row1_col5,#T_4c8de98c_5021_11ec_96be_0242ac1c0002row2_col0,#T_4c8de98c_5021_11ec_96be_0242ac1c0002row5_col9,#T_4c8de98c_5021_11ec_96be_0242ac1c0002row9_col8,#T_4c8de98c_5021_11ec_96be_0242ac1c0002row10_col0,#T_4c8de98c_5021_11ec_96be_0242ac1c0002row10_col21,#T_4c8de98c_5021_11ec_96be_0242ac1c0002row10_col24,#T_4c8de98c_5021_11ec_96be_0242ac1c0002row11_col2,#T_4c8de98c_5021_11ec_96be_0242ac1c0002row12_col1,#T_4c8de98c_5021_11ec_96be_0242ac1c0002row13_col15,#T_4c8de98c_5021_11ec_96be_0242ac1c0002row14_col6,#T_4c8de98c_5021_11ec_96be_0242ac1c0002row15_col6,#T_4c8de98c_5021_11ec_96be_0242ac1c0002row16_col3,#T_4c8de98c_5021_11ec_96be_0242ac1c0002row19_col14,#T_4c8de98c_5021_11ec_96be_0242ac1c0002row20_col9,#T_4c8de98c_5021_11ec_96be_0242ac1c0002row22_col1,#T_4c8de98c_5021_11ec_96be_0242ac1c0002row24_col1,#T_4c8de98c_5021_11ec_96be_0242ac1c0002row24_col14{\n",
              "            background-color:  #3f53c6;\n",
              "            color:  #f1f1f1;\n",
              "        }#T_4c8de98c_5021_11ec_96be_0242ac1c0002row0_col22{\n",
              "            background-color:  #bbd1f8;\n",
              "            color:  #000000;\n",
              "        }#T_4c8de98c_5021_11ec_96be_0242ac1c0002row0_col23{\n",
              "            background-color:  #97b8ff;\n",
              "            color:  #000000;\n",
              "        }#T_4c8de98c_5021_11ec_96be_0242ac1c0002row0_col24{\n",
              "            background-color:  #8badfd;\n",
              "            color:  #000000;\n",
              "        }#T_4c8de98c_5021_11ec_96be_0242ac1c0002row0_col25{\n",
              "            background-color:  #98b9ff;\n",
              "            color:  #000000;\n",
              "        }#T_4c8de98c_5021_11ec_96be_0242ac1c0002row1_col2,#T_4c8de98c_5021_11ec_96be_0242ac1c0002row1_col15,#T_4c8de98c_5021_11ec_96be_0242ac1c0002row3_col14,#T_4c8de98c_5021_11ec_96be_0242ac1c0002row6_col0,#T_4c8de98c_5021_11ec_96be_0242ac1c0002row7_col14,#T_4c8de98c_5021_11ec_96be_0242ac1c0002row7_col15,#T_4c8de98c_5021_11ec_96be_0242ac1c0002row8_col19,#T_4c8de98c_5021_11ec_96be_0242ac1c0002row13_col14,#T_4c8de98c_5021_11ec_96be_0242ac1c0002row13_col21,#T_4c8de98c_5021_11ec_96be_0242ac1c0002row14_col12,#T_4c8de98c_5021_11ec_96be_0242ac1c0002row14_col16,#T_4c8de98c_5021_11ec_96be_0242ac1c0002row19_col20,#T_4c8de98c_5021_11ec_96be_0242ac1c0002row20_col6,#T_4c8de98c_5021_11ec_96be_0242ac1c0002row25_col14{\n",
              "            background-color:  #4358cb;\n",
              "            color:  #f1f1f1;\n",
              "        }#T_4c8de98c_5021_11ec_96be_0242ac1c0002row1_col3,#T_4c8de98c_5021_11ec_96be_0242ac1c0002row2_col11,#T_4c8de98c_5021_11ec_96be_0242ac1c0002row2_col21,#T_4c8de98c_5021_11ec_96be_0242ac1c0002row3_col12,#T_4c8de98c_5021_11ec_96be_0242ac1c0002row5_col0,#T_4c8de98c_5021_11ec_96be_0242ac1c0002row5_col15,#T_4c8de98c_5021_11ec_96be_0242ac1c0002row6_col14,#T_4c8de98c_5021_11ec_96be_0242ac1c0002row7_col11,#T_4c8de98c_5021_11ec_96be_0242ac1c0002row7_col24,#T_4c8de98c_5021_11ec_96be_0242ac1c0002row8_col11,#T_4c8de98c_5021_11ec_96be_0242ac1c0002row9_col15,#T_4c8de98c_5021_11ec_96be_0242ac1c0002row12_col18,#T_4c8de98c_5021_11ec_96be_0242ac1c0002row14_col8,#T_4c8de98c_5021_11ec_96be_0242ac1c0002row15_col11,#T_4c8de98c_5021_11ec_96be_0242ac1c0002row21_col2{\n",
              "            background-color:  #3d50c3;\n",
              "            color:  #f1f1f1;\n",
              "        }#T_4c8de98c_5021_11ec_96be_0242ac1c0002row1_col8,#T_4c8de98c_5021_11ec_96be_0242ac1c0002row1_col16,#T_4c8de98c_5021_11ec_96be_0242ac1c0002row2_col16,#T_4c8de98c_5021_11ec_96be_0242ac1c0002row6_col12,#T_4c8de98c_5021_11ec_96be_0242ac1c0002row6_col16,#T_4c8de98c_5021_11ec_96be_0242ac1c0002row7_col1,#T_4c8de98c_5021_11ec_96be_0242ac1c0002row9_col12,#T_4c8de98c_5021_11ec_96be_0242ac1c0002row9_col21,#T_4c8de98c_5021_11ec_96be_0242ac1c0002row12_col9,#T_4c8de98c_5021_11ec_96be_0242ac1c0002row12_col23,#T_4c8de98c_5021_11ec_96be_0242ac1c0002row13_col18,#T_4c8de98c_5021_11ec_96be_0242ac1c0002row14_col22,#T_4c8de98c_5021_11ec_96be_0242ac1c0002row16_col0,#T_4c8de98c_5021_11ec_96be_0242ac1c0002row18_col20,#T_4c8de98c_5021_11ec_96be_0242ac1c0002row21_col6,#T_4c8de98c_5021_11ec_96be_0242ac1c0002row24_col13{\n",
              "            background-color:  #506bda;\n",
              "            color:  #000000;\n",
              "        }#T_4c8de98c_5021_11ec_96be_0242ac1c0002row1_col9,#T_4c8de98c_5021_11ec_96be_0242ac1c0002row2_col8,#T_4c8de98c_5021_11ec_96be_0242ac1c0002row2_col9,#T_4c8de98c_5021_11ec_96be_0242ac1c0002row2_col19,#T_4c8de98c_5021_11ec_96be_0242ac1c0002row3_col20,#T_4c8de98c_5021_11ec_96be_0242ac1c0002row10_col12,#T_4c8de98c_5021_11ec_96be_0242ac1c0002row12_col24,#T_4c8de98c_5021_11ec_96be_0242ac1c0002row15_col16,#T_4c8de98c_5021_11ec_96be_0242ac1c0002row15_col21,#T_4c8de98c_5021_11ec_96be_0242ac1c0002row19_col15,#T_4c8de98c_5021_11ec_96be_0242ac1c0002row19_col21,#T_4c8de98c_5021_11ec_96be_0242ac1c0002row20_col12,#T_4c8de98c_5021_11ec_96be_0242ac1c0002row21_col3,#T_4c8de98c_5021_11ec_96be_0242ac1c0002row21_col14,#T_4c8de98c_5021_11ec_96be_0242ac1c0002row21_col19,#T_4c8de98c_5021_11ec_96be_0242ac1c0002row23_col8,#T_4c8de98c_5021_11ec_96be_0242ac1c0002row23_col14,#T_4c8de98c_5021_11ec_96be_0242ac1c0002row24_col12{\n",
              "            background-color:  #455cce;\n",
              "            color:  #f1f1f1;\n",
              "        }#T_4c8de98c_5021_11ec_96be_0242ac1c0002row1_col10,#T_4c8de98c_5021_11ec_96be_0242ac1c0002row2_col5,#T_4c8de98c_5021_11ec_96be_0242ac1c0002row2_col7,#T_4c8de98c_5021_11ec_96be_0242ac1c0002row5_col22,#T_4c8de98c_5021_11ec_96be_0242ac1c0002row6_col25,#T_4c8de98c_5021_11ec_96be_0242ac1c0002row8_col16,#T_4c8de98c_5021_11ec_96be_0242ac1c0002row14_col13,#T_4c8de98c_5021_11ec_96be_0242ac1c0002row20_col25,#T_4c8de98c_5021_11ec_96be_0242ac1c0002row24_col16{\n",
              "            background-color:  #5875e1;\n",
              "            color:  #000000;\n",
              "        }#T_4c8de98c_5021_11ec_96be_0242ac1c0002row1_col12,#T_4c8de98c_5021_11ec_96be_0242ac1c0002row3_col15,#T_4c8de98c_5021_11ec_96be_0242ac1c0002row7_col9,#T_4c8de98c_5021_11ec_96be_0242ac1c0002row9_col14,#T_4c8de98c_5021_11ec_96be_0242ac1c0002row10_col8,#T_4c8de98c_5021_11ec_96be_0242ac1c0002row13_col2,#T_4c8de98c_5021_11ec_96be_0242ac1c0002row20_col11,#T_4c8de98c_5021_11ec_96be_0242ac1c0002row22_col8,#T_4c8de98c_5021_11ec_96be_0242ac1c0002row22_col14,#T_4c8de98c_5021_11ec_96be_0242ac1c0002row24_col8,#T_4c8de98c_5021_11ec_96be_0242ac1c0002row25_col13{\n",
              "            background-color:  #3c4ec2;\n",
              "            color:  #f1f1f1;\n",
              "        }#T_4c8de98c_5021_11ec_96be_0242ac1c0002row1_col13,#T_4c8de98c_5021_11ec_96be_0242ac1c0002row3_col23{\n",
              "            background-color:  #6687ed;\n",
              "            color:  #000000;\n",
              "        }#T_4c8de98c_5021_11ec_96be_0242ac1c0002row1_col18,#T_4c8de98c_5021_11ec_96be_0242ac1c0002row3_col7,#T_4c8de98c_5021_11ec_96be_0242ac1c0002row5_col20,#T_4c8de98c_5021_11ec_96be_0242ac1c0002row9_col16,#T_4c8de98c_5021_11ec_96be_0242ac1c0002row12_col6,#T_4c8de98c_5021_11ec_96be_0242ac1c0002row12_col22,#T_4c8de98c_5021_11ec_96be_0242ac1c0002row13_col1,#T_4c8de98c_5021_11ec_96be_0242ac1c0002row14_col10,#T_4c8de98c_5021_11ec_96be_0242ac1c0002row21_col16,#T_4c8de98c_5021_11ec_96be_0242ac1c0002row22_col16,#T_4c8de98c_5021_11ec_96be_0242ac1c0002row23_col3,#T_4c8de98c_5021_11ec_96be_0242ac1c0002row23_col21{\n",
              "            background-color:  #5470de;\n",
              "            color:  #000000;\n",
              "        }#T_4c8de98c_5021_11ec_96be_0242ac1c0002row1_col19,#T_4c8de98c_5021_11ec_96be_0242ac1c0002row2_col3,#T_4c8de98c_5021_11ec_96be_0242ac1c0002row5_col12,#T_4c8de98c_5021_11ec_96be_0242ac1c0002row6_col18,#T_4c8de98c_5021_11ec_96be_0242ac1c0002row8_col0,#T_4c8de98c_5021_11ec_96be_0242ac1c0002row8_col20,#T_4c8de98c_5021_11ec_96be_0242ac1c0002row9_col5,#T_4c8de98c_5021_11ec_96be_0242ac1c0002row9_col6,#T_4c8de98c_5021_11ec_96be_0242ac1c0002row11_col18,#T_4c8de98c_5021_11ec_96be_0242ac1c0002row12_col0,#T_4c8de98c_5021_11ec_96be_0242ac1c0002row15_col1,#T_4c8de98c_5021_11ec_96be_0242ac1c0002row15_col18,#T_4c8de98c_5021_11ec_96be_0242ac1c0002row15_col20,#T_4c8de98c_5021_11ec_96be_0242ac1c0002row18_col6,#T_4c8de98c_5021_11ec_96be_0242ac1c0002row18_col8,#T_4c8de98c_5021_11ec_96be_0242ac1c0002row18_col9,#T_4c8de98c_5021_11ec_96be_0242ac1c0002row18_col24,#T_4c8de98c_5021_11ec_96be_0242ac1c0002row19_col10,#T_4c8de98c_5021_11ec_96be_0242ac1c0002row21_col10,#T_4c8de98c_5021_11ec_96be_0242ac1c0002row21_col18,#T_4c8de98c_5021_11ec_96be_0242ac1c0002row22_col6,#T_4c8de98c_5021_11ec_96be_0242ac1c0002row22_col7,#T_4c8de98c_5021_11ec_96be_0242ac1c0002row22_col21,#T_4c8de98c_5021_11ec_96be_0242ac1c0002row24_col10,#T_4c8de98c_5021_11ec_96be_0242ac1c0002row24_col15,#T_4c8de98c_5021_11ec_96be_0242ac1c0002row25_col2,#T_4c8de98c_5021_11ec_96be_0242ac1c0002row25_col7{\n",
              "            background-color:  #4961d2;\n",
              "            color:  #f1f1f1;\n",
              "        }#T_4c8de98c_5021_11ec_96be_0242ac1c0002row1_col21,#T_4c8de98c_5021_11ec_96be_0242ac1c0002row1_col24,#T_4c8de98c_5021_11ec_96be_0242ac1c0002row5_col1,#T_4c8de98c_5021_11ec_96be_0242ac1c0002row5_col16,#T_4c8de98c_5021_11ec_96be_0242ac1c0002row6_col3,#T_4c8de98c_5021_11ec_96be_0242ac1c0002row6_col15,#T_4c8de98c_5021_11ec_96be_0242ac1c0002row7_col6,#T_4c8de98c_5021_11ec_96be_0242ac1c0002row7_col10,#T_4c8de98c_5021_11ec_96be_0242ac1c0002row8_col15,#T_4c8de98c_5021_11ec_96be_0242ac1c0002row10_col7,#T_4c8de98c_5021_11ec_96be_0242ac1c0002row12_col3,#T_4c8de98c_5021_11ec_96be_0242ac1c0002row13_col20,#T_4c8de98c_5021_11ec_96be_0242ac1c0002row13_col22,#T_4c8de98c_5021_11ec_96be_0242ac1c0002row13_col23,#T_4c8de98c_5021_11ec_96be_0242ac1c0002row13_col24,#T_4c8de98c_5021_11ec_96be_0242ac1c0002row13_col25,#T_4c8de98c_5021_11ec_96be_0242ac1c0002row14_col9,#T_4c8de98c_5021_11ec_96be_0242ac1c0002row14_col11,#T_4c8de98c_5021_11ec_96be_0242ac1c0002row15_col3,#T_4c8de98c_5021_11ec_96be_0242ac1c0002row15_col8,#T_4c8de98c_5021_11ec_96be_0242ac1c0002row16_col5,#T_4c8de98c_5021_11ec_96be_0242ac1c0002row16_col14,#T_4c8de98c_5021_11ec_96be_0242ac1c0002row16_col15,#T_4c8de98c_5021_11ec_96be_0242ac1c0002row16_col18,#T_4c8de98c_5021_11ec_96be_0242ac1c0002row18_col12,#T_4c8de98c_5021_11ec_96be_0242ac1c0002row20_col0,#T_4c8de98c_5021_11ec_96be_0242ac1c0002row20_col2,#T_4c8de98c_5021_11ec_96be_0242ac1c0002row20_col3,#T_4c8de98c_5021_11ec_96be_0242ac1c0002row20_col19,#T_4c8de98c_5021_11ec_96be_0242ac1c0002row21_col0,#T_4c8de98c_5021_11ec_96be_0242ac1c0002row22_col13,#T_4c8de98c_5021_11ec_96be_0242ac1c0002row25_col12{\n",
              "            background-color:  #3b4cc0;\n",
              "            color:  #f1f1f1;\n",
              "        }#T_4c8de98c_5021_11ec_96be_0242ac1c0002row1_col22,#T_4c8de98c_5021_11ec_96be_0242ac1c0002row1_col25,#T_4c8de98c_5021_11ec_96be_0242ac1c0002row2_col14,#T_4c8de98c_5021_11ec_96be_0242ac1c0002row5_col23,#T_4c8de98c_5021_11ec_96be_0242ac1c0002row10_col1,#T_4c8de98c_5021_11ec_96be_0242ac1c0002row10_col25,#T_4c8de98c_5021_11ec_96be_0242ac1c0002row12_col5,#T_4c8de98c_5021_11ec_96be_0242ac1c0002row14_col2,#T_4c8de98c_5021_11ec_96be_0242ac1c0002row18_col10,#T_4c8de98c_5021_11ec_96be_0242ac1c0002row20_col23,#T_4c8de98c_5021_11ec_96be_0242ac1c0002row21_col5{\n",
              "            background-color:  #516ddb;\n",
              "            color:  #000000;\n",
              "        }#T_4c8de98c_5021_11ec_96be_0242ac1c0002row1_col23,#T_4c8de98c_5021_11ec_96be_0242ac1c0002row5_col25,#T_4c8de98c_5021_11ec_96be_0242ac1c0002row7_col18,#T_4c8de98c_5021_11ec_96be_0242ac1c0002row8_col1,#T_4c8de98c_5021_11ec_96be_0242ac1c0002row8_col23,#T_4c8de98c_5021_11ec_96be_0242ac1c0002row15_col13,#T_4c8de98c_5021_11ec_96be_0242ac1c0002row22_col3,#T_4c8de98c_5021_11ec_96be_0242ac1c0002row23_col18,#T_4c8de98c_5021_11ec_96be_0242ac1c0002row25_col3{\n",
              "            background-color:  #5673e0;\n",
              "            color:  #000000;\n",
              "        }#T_4c8de98c_5021_11ec_96be_0242ac1c0002row2_col20,#T_4c8de98c_5021_11ec_96be_0242ac1c0002row5_col14,#T_4c8de98c_5021_11ec_96be_0242ac1c0002row5_col24,#T_4c8de98c_5021_11ec_96be_0242ac1c0002row14_col0,#T_4c8de98c_5021_11ec_96be_0242ac1c0002row15_col12,#T_4c8de98c_5021_11ec_96be_0242ac1c0002row23_col13{\n",
              "            background-color:  #4257c9;\n",
              "            color:  #f1f1f1;\n",
              "        }#T_4c8de98c_5021_11ec_96be_0242ac1c0002row2_col23,#T_4c8de98c_5021_11ec_96be_0242ac1c0002row5_col7,#T_4c8de98c_5021_11ec_96be_0242ac1c0002row6_col23,#T_4c8de98c_5021_11ec_96be_0242ac1c0002row7_col5,#T_4c8de98c_5021_11ec_96be_0242ac1c0002row16_col25,#T_4c8de98c_5021_11ec_96be_0242ac1c0002row21_col13{\n",
              "            background-color:  #5977e3;\n",
              "            color:  #000000;\n",
              "        }#T_4c8de98c_5021_11ec_96be_0242ac1c0002row2_col25{\n",
              "            background-color:  #5d7ce6;\n",
              "            color:  #000000;\n",
              "        }#T_4c8de98c_5021_11ec_96be_0242ac1c0002row3_col0{\n",
              "            background-color:  #84a7fc;\n",
              "            color:  #000000;\n",
              "        }#T_4c8de98c_5021_11ec_96be_0242ac1c0002row3_col5,#T_4c8de98c_5021_11ec_96be_0242ac1c0002row5_col13,#T_4c8de98c_5021_11ec_96be_0242ac1c0002row5_col18,#T_4c8de98c_5021_11ec_96be_0242ac1c0002row10_col22,#T_4c8de98c_5021_11ec_96be_0242ac1c0002row21_col25{\n",
              "            background-color:  #5a78e4;\n",
              "            color:  #000000;\n",
              "        }#T_4c8de98c_5021_11ec_96be_0242ac1c0002row3_col6,#T_4c8de98c_5021_11ec_96be_0242ac1c0002row5_col8,#T_4c8de98c_5021_11ec_96be_0242ac1c0002row5_col10,#T_4c8de98c_5021_11ec_96be_0242ac1c0002row5_col19,#T_4c8de98c_5021_11ec_96be_0242ac1c0002row6_col2,#T_4c8de98c_5021_11ec_96be_0242ac1c0002row6_col7,#T_4c8de98c_5021_11ec_96be_0242ac1c0002row6_col8,#T_4c8de98c_5021_11ec_96be_0242ac1c0002row6_col11,#T_4c8de98c_5021_11ec_96be_0242ac1c0002row7_col12,#T_4c8de98c_5021_11ec_96be_0242ac1c0002row8_col9,#T_4c8de98c_5021_11ec_96be_0242ac1c0002row8_col12,#T_4c8de98c_5021_11ec_96be_0242ac1c0002row8_col14,#T_4c8de98c_5021_11ec_96be_0242ac1c0002row8_col21,#T_4c8de98c_5021_11ec_96be_0242ac1c0002row10_col5,#T_4c8de98c_5021_11ec_96be_0242ac1c0002row10_col11,#T_4c8de98c_5021_11ec_96be_0242ac1c0002row12_col15,#T_4c8de98c_5021_11ec_96be_0242ac1c0002row15_col0,#T_4c8de98c_5021_11ec_96be_0242ac1c0002row18_col16,#T_4c8de98c_5021_11ec_96be_0242ac1c0002row19_col8,#T_4c8de98c_5021_11ec_96be_0242ac1c0002row23_col12,#T_4c8de98c_5021_11ec_96be_0242ac1c0002row25_col1{\n",
              "            background-color:  #4055c8;\n",
              "            color:  #f1f1f1;\n",
              "        }#T_4c8de98c_5021_11ec_96be_0242ac1c0002row3_col8,#T_4c8de98c_5021_11ec_96be_0242ac1c0002row5_col2,#T_4c8de98c_5021_11ec_96be_0242ac1c0002row5_col3,#T_4c8de98c_5021_11ec_96be_0242ac1c0002row7_col8,#T_4c8de98c_5021_11ec_96be_0242ac1c0002row7_col16,#T_4c8de98c_5021_11ec_96be_0242ac1c0002row8_col3,#T_4c8de98c_5021_11ec_96be_0242ac1c0002row11_col12,#T_4c8de98c_5021_11ec_96be_0242ac1c0002row12_col10,#T_4c8de98c_5021_11ec_96be_0242ac1c0002row14_col1,#T_4c8de98c_5021_11ec_96be_0242ac1c0002row15_col10,#T_4c8de98c_5021_11ec_96be_0242ac1c0002row16_col7,#T_4c8de98c_5021_11ec_96be_0242ac1c0002row16_col23,#T_4c8de98c_5021_11ec_96be_0242ac1c0002row16_col24,#T_4c8de98c_5021_11ec_96be_0242ac1c0002row20_col16,#T_4c8de98c_5021_11ec_96be_0242ac1c0002row21_col9,#T_4c8de98c_5021_11ec_96be_0242ac1c0002row25_col18{\n",
              "            background-color:  #4f69d9;\n",
              "            color:  #000000;\n",
              "        }#T_4c8de98c_5021_11ec_96be_0242ac1c0002row3_col9,#T_4c8de98c_5021_11ec_96be_0242ac1c0002row18_col13,#T_4c8de98c_5021_11ec_96be_0242ac1c0002row18_col23,#T_4c8de98c_5021_11ec_96be_0242ac1c0002row21_col23{\n",
              "            background-color:  #6384eb;\n",
              "            color:  #000000;\n",
              "        }#T_4c8de98c_5021_11ec_96be_0242ac1c0002row3_col11,#T_4c8de98c_5021_11ec_96be_0242ac1c0002row8_col13,#T_4c8de98c_5021_11ec_96be_0242ac1c0002row11_col3,#T_4c8de98c_5021_11ec_96be_0242ac1c0002row15_col25,#T_4c8de98c_5021_11ec_96be_0242ac1c0002row18_col22{\n",
              "            background-color:  #5f7fe8;\n",
              "            color:  #000000;\n",
              "        }#T_4c8de98c_5021_11ec_96be_0242ac1c0002row3_col13,#T_4c8de98c_5021_11ec_96be_0242ac1c0002row25_col0{\n",
              "            background-color:  #82a6fb;\n",
              "            color:  #000000;\n",
              "        }#T_4c8de98c_5021_11ec_96be_0242ac1c0002row3_col19{\n",
              "            background-color:  #7396f5;\n",
              "            color:  #000000;\n",
              "        }#T_4c8de98c_5021_11ec_96be_0242ac1c0002row3_col22{\n",
              "            background-color:  #6f92f3;\n",
              "            color:  #000000;\n",
              "        }#T_4c8de98c_5021_11ec_96be_0242ac1c0002row3_col25{\n",
              "            background-color:  #6e90f2;\n",
              "            color:  #000000;\n",
              "        }#T_4c8de98c_5021_11ec_96be_0242ac1c0002row5_col11,#T_4c8de98c_5021_11ec_96be_0242ac1c0002row8_col24,#T_4c8de98c_5021_11ec_96be_0242ac1c0002row10_col3,#T_4c8de98c_5021_11ec_96be_0242ac1c0002row10_col19,#T_4c8de98c_5021_11ec_96be_0242ac1c0002row11_col8,#T_4c8de98c_5021_11ec_96be_0242ac1c0002row11_col14,#T_4c8de98c_5021_11ec_96be_0242ac1c0002row11_col15,#T_4c8de98c_5021_11ec_96be_0242ac1c0002row12_col8,#T_4c8de98c_5021_11ec_96be_0242ac1c0002row13_col10,#T_4c8de98c_5021_11ec_96be_0242ac1c0002row14_col3,#T_4c8de98c_5021_11ec_96be_0242ac1c0002row14_col19,#T_4c8de98c_5021_11ec_96be_0242ac1c0002row14_col24,#T_4c8de98c_5021_11ec_96be_0242ac1c0002row15_col9,#T_4c8de98c_5021_11ec_96be_0242ac1c0002row20_col8,#T_4c8de98c_5021_11ec_96be_0242ac1c0002row20_col15,#T_4c8de98c_5021_11ec_96be_0242ac1c0002row21_col1,#T_4c8de98c_5021_11ec_96be_0242ac1c0002row21_col8,#T_4c8de98c_5021_11ec_96be_0242ac1c0002row22_col12{\n",
              "            background-color:  #3e51c5;\n",
              "            color:  #f1f1f1;\n",
              "        }#T_4c8de98c_5021_11ec_96be_0242ac1c0002row6_col22,#T_4c8de98c_5021_11ec_96be_0242ac1c0002row8_col7,#T_4c8de98c_5021_11ec_96be_0242ac1c0002row15_col22,#T_4c8de98c_5021_11ec_96be_0242ac1c0002row20_col22{\n",
              "            background-color:  #5b7ae5;\n",
              "            color:  #000000;\n",
              "        }#T_4c8de98c_5021_11ec_96be_0242ac1c0002row6_col24,#T_4c8de98c_5021_11ec_96be_0242ac1c0002row7_col20,#T_4c8de98c_5021_11ec_96be_0242ac1c0002row9_col1,#T_4c8de98c_5021_11ec_96be_0242ac1c0002row10_col16,#T_4c8de98c_5021_11ec_96be_0242ac1c0002row10_col18,#T_4c8de98c_5021_11ec_96be_0242ac1c0002row11_col5,#T_4c8de98c_5021_11ec_96be_0242ac1c0002row11_col7,#T_4c8de98c_5021_11ec_96be_0242ac1c0002row12_col7,#T_4c8de98c_5021_11ec_96be_0242ac1c0002row13_col12,#T_4c8de98c_5021_11ec_96be_0242ac1c0002row14_col5,#T_4c8de98c_5021_11ec_96be_0242ac1c0002row14_col18,#T_4c8de98c_5021_11ec_96be_0242ac1c0002row15_col24,#T_4c8de98c_5021_11ec_96be_0242ac1c0002row16_col9,#T_4c8de98c_5021_11ec_96be_0242ac1c0002row16_col11,#T_4c8de98c_5021_11ec_96be_0242ac1c0002row19_col5,#T_4c8de98c_5021_11ec_96be_0242ac1c0002row19_col18,#T_4c8de98c_5021_11ec_96be_0242ac1c0002row20_col1,#T_4c8de98c_5021_11ec_96be_0242ac1c0002row23_col2,#T_4c8de98c_5021_11ec_96be_0242ac1c0002row23_col16,#T_4c8de98c_5021_11ec_96be_0242ac1c0002row25_col8,#T_4c8de98c_5021_11ec_96be_0242ac1c0002row25_col15{\n",
              "            background-color:  #4a63d3;\n",
              "            color:  #f1f1f1;\n",
              "        }#T_4c8de98c_5021_11ec_96be_0242ac1c0002row7_col13,#T_4c8de98c_5021_11ec_96be_0242ac1c0002row9_col3{\n",
              "            background-color:  #6282ea;\n",
              "            color:  #000000;\n",
              "        }#T_4c8de98c_5021_11ec_96be_0242ac1c0002row8_col25,#T_4c8de98c_5021_11ec_96be_0242ac1c0002row12_col13,#T_4c8de98c_5021_11ec_96be_0242ac1c0002row16_col22,#T_4c8de98c_5021_11ec_96be_0242ac1c0002row18_col5,#T_4c8de98c_5021_11ec_96be_0242ac1c0002row18_col25{\n",
              "            background-color:  #6180e9;\n",
              "            color:  #000000;\n",
              "        }#T_4c8de98c_5021_11ec_96be_0242ac1c0002row9_col0{\n",
              "            background-color:  #e2dad5;\n",
              "            color:  #000000;\n",
              "        }#T_4c8de98c_5021_11ec_96be_0242ac1c0002row9_col11,#T_4c8de98c_5021_11ec_96be_0242ac1c0002row11_col9{\n",
              "            background-color:  #c53334;\n",
              "            color:  #f1f1f1;\n",
              "        }#T_4c8de98c_5021_11ec_96be_0242ac1c0002row9_col13,#T_4c8de98c_5021_11ec_96be_0242ac1c0002row24_col0{\n",
              "            background-color:  #86a9fc;\n",
              "            color:  #000000;\n",
              "        }#T_4c8de98c_5021_11ec_96be_0242ac1c0002row9_col19,#T_4c8de98c_5021_11ec_96be_0242ac1c0002row19_col9,#T_4c8de98c_5021_11ec_96be_0242ac1c0002row22_col25{\n",
              "            background-color:  #ef886b;\n",
              "            color:  #000000;\n",
              "        }#T_4c8de98c_5021_11ec_96be_0242ac1c0002row9_col22,#T_4c8de98c_5021_11ec_96be_0242ac1c0002row24_col23{\n",
              "            background-color:  #efcebd;\n",
              "            color:  #000000;\n",
              "        }#T_4c8de98c_5021_11ec_96be_0242ac1c0002row9_col23{\n",
              "            background-color:  #ccd9ed;\n",
              "            color:  #000000;\n",
              "        }#T_4c8de98c_5021_11ec_96be_0242ac1c0002row9_col24,#T_4c8de98c_5021_11ec_96be_0242ac1c0002row24_col9{\n",
              "            background-color:  #b9d0f9;\n",
              "            color:  #000000;\n",
              "        }#T_4c8de98c_5021_11ec_96be_0242ac1c0002row9_col25{\n",
              "            background-color:  #cbd8ee;\n",
              "            color:  #000000;\n",
              "        }#T_4c8de98c_5021_11ec_96be_0242ac1c0002row11_col13{\n",
              "            background-color:  #89acfd;\n",
              "            color:  #000000;\n",
              "        }#T_4c8de98c_5021_11ec_96be_0242ac1c0002row11_col19,#T_4c8de98c_5021_11ec_96be_0242ac1c0002row14_col15,#T_4c8de98c_5021_11ec_96be_0242ac1c0002row19_col11,#T_4c8de98c_5021_11ec_96be_0242ac1c0002row22_col23{\n",
              "            background-color:  #f18d6f;\n",
              "            color:  #000000;\n",
              "        }#T_4c8de98c_5021_11ec_96be_0242ac1c0002row11_col22,#T_4c8de98c_5021_11ec_96be_0242ac1c0002row23_col24{\n",
              "            background-color:  #ecd3c5;\n",
              "            color:  #000000;\n",
              "        }#T_4c8de98c_5021_11ec_96be_0242ac1c0002row11_col23{\n",
              "            background-color:  #c5d6f2;\n",
              "            color:  #000000;\n",
              "        }#T_4c8de98c_5021_11ec_96be_0242ac1c0002row11_col24{\n",
              "            background-color:  #b6cefa;\n",
              "            color:  #000000;\n",
              "        }#T_4c8de98c_5021_11ec_96be_0242ac1c0002row11_col25,#T_4c8de98c_5021_11ec_96be_0242ac1c0002row23_col9{\n",
              "            background-color:  #c3d5f4;\n",
              "            color:  #000000;\n",
              "        }#T_4c8de98c_5021_11ec_96be_0242ac1c0002row13_col0{\n",
              "            background-color:  #a3c2fe;\n",
              "            color:  #000000;\n",
              "        }#T_4c8de98c_5021_11ec_96be_0242ac1c0002row13_col3{\n",
              "            background-color:  #6a8bef;\n",
              "            color:  #000000;\n",
              "        }#T_4c8de98c_5021_11ec_96be_0242ac1c0002row13_col9,#T_4c8de98c_5021_11ec_96be_0242ac1c0002row19_col3{\n",
              "            background-color:  #7093f3;\n",
              "            color:  #000000;\n",
              "        }#T_4c8de98c_5021_11ec_96be_0242ac1c0002row13_col11{\n",
              "            background-color:  #7295f4;\n",
              "            color:  #000000;\n",
              "        }#T_4c8de98c_5021_11ec_96be_0242ac1c0002row13_col19{\n",
              "            background-color:  #92b4fe;\n",
              "            color:  #000000;\n",
              "        }#T_4c8de98c_5021_11ec_96be_0242ac1c0002row15_col14,#T_4c8de98c_5021_11ec_96be_0242ac1c0002row23_col22{\n",
              "            background-color:  #f08b6e;\n",
              "            color:  #000000;\n",
              "        }#T_4c8de98c_5021_11ec_96be_0242ac1c0002row16_col13{\n",
              "            background-color:  #6b8df0;\n",
              "            color:  #000000;\n",
              "        }#T_4c8de98c_5021_11ec_96be_0242ac1c0002row19_col0{\n",
              "            background-color:  #f7b194;\n",
              "            color:  #000000;\n",
              "        }#T_4c8de98c_5021_11ec_96be_0242ac1c0002row19_col13{\n",
              "            background-color:  #a5c3fe;\n",
              "            color:  #000000;\n",
              "        }#T_4c8de98c_5021_11ec_96be_0242ac1c0002row19_col22{\n",
              "            background-color:  #f7b89c;\n",
              "            color:  #000000;\n",
              "        }#T_4c8de98c_5021_11ec_96be_0242ac1c0002row19_col23{\n",
              "            background-color:  #dedcdb;\n",
              "            color:  #000000;\n",
              "        }#T_4c8de98c_5021_11ec_96be_0242ac1c0002row19_col24{\n",
              "            background-color:  #c9d7f0;\n",
              "            color:  #000000;\n",
              "        }#T_4c8de98c_5021_11ec_96be_0242ac1c0002row19_col25{\n",
              "            background-color:  #e0dbd8;\n",
              "            color:  #000000;\n",
              "        }#T_4c8de98c_5021_11ec_96be_0242ac1c0002row22_col0{\n",
              "            background-color:  #a7c5fe;\n",
              "            color:  #000000;\n",
              "        }#T_4c8de98c_5021_11ec_96be_0242ac1c0002row22_col9{\n",
              "            background-color:  #e9d5cb;\n",
              "            color:  #000000;\n",
              "        }#T_4c8de98c_5021_11ec_96be_0242ac1c0002row22_col19{\n",
              "            background-color:  #f6bfa6;\n",
              "            color:  #000000;\n",
              "        }#T_4c8de98c_5021_11ec_96be_0242ac1c0002row22_col24{\n",
              "            background-color:  #f5c2aa;\n",
              "            color:  #000000;\n",
              "        }#T_4c8de98c_5021_11ec_96be_0242ac1c0002row23_col11{\n",
              "            background-color:  #bad0f8;\n",
              "            color:  #000000;\n",
              "        }#T_4c8de98c_5021_11ec_96be_0242ac1c0002row23_col19,#T_4c8de98c_5021_11ec_96be_0242ac1c0002row25_col19{\n",
              "            background-color:  #d7dce3;\n",
              "            color:  #000000;\n",
              "        }#T_4c8de98c_5021_11ec_96be_0242ac1c0002row23_col25{\n",
              "            background-color:  #f59c7d;\n",
              "            color:  #000000;\n",
              "        }#T_4c8de98c_5021_11ec_96be_0242ac1c0002row24_col11,#T_4c8de98c_5021_11ec_96be_0242ac1c0002row25_col11{\n",
              "            background-color:  #b3cdfb;\n",
              "            color:  #000000;\n",
              "        }#T_4c8de98c_5021_11ec_96be_0242ac1c0002row24_col19{\n",
              "            background-color:  #c7d7f0;\n",
              "            color:  #000000;\n",
              "        }#T_4c8de98c_5021_11ec_96be_0242ac1c0002row24_col22{\n",
              "            background-color:  #f7ba9f;\n",
              "            color:  #000000;\n",
              "        }#T_4c8de98c_5021_11ec_96be_0242ac1c0002row24_col25{\n",
              "            background-color:  #ebd3c6;\n",
              "            color:  #000000;\n",
              "        }#T_4c8de98c_5021_11ec_96be_0242ac1c0002row25_col9{\n",
              "            background-color:  #bfd3f6;\n",
              "            color:  #000000;\n",
              "        }#T_4c8de98c_5021_11ec_96be_0242ac1c0002row25_col22{\n",
              "            background-color:  #ee8669;\n",
              "            color:  #000000;\n",
              "        }#T_4c8de98c_5021_11ec_96be_0242ac1c0002row25_col23{\n",
              "            background-color:  #f59f80;\n",
              "            color:  #000000;\n",
              "        }#T_4c8de98c_5021_11ec_96be_0242ac1c0002row25_col24{\n",
              "            background-color:  #e4d9d2;\n",
              "            color:  #000000;\n",
              "        }</style><table id=\"T_4c8de98c_5021_11ec_96be_0242ac1c0002\" class=\"dataframe\"><thead>    <tr>        <th class=\"blank level0\" ></th>        <th class=\"col_heading level0 col0\" >Age</th>        <th class=\"col_heading level0 col1\" >DailyRate</th>        <th class=\"col_heading level0 col2\" >DistanceFromHome</th>        <th class=\"col_heading level0 col3\" >Education</th>        <th class=\"col_heading level0 col4\" >EmployeeCount</th>        <th class=\"col_heading level0 col5\" >EmployeeNumber</th>        <th class=\"col_heading level0 col6\" >EnvironmentSatisfaction</th>        <th class=\"col_heading level0 col7\" >HourlyRate</th>        <th class=\"col_heading level0 col8\" >JobInvolvement</th>        <th class=\"col_heading level0 col9\" >JobLevel</th>        <th class=\"col_heading level0 col10\" >JobSatisfaction</th>        <th class=\"col_heading level0 col11\" >MonthlyIncome</th>        <th class=\"col_heading level0 col12\" >MonthlyRate</th>        <th class=\"col_heading level0 col13\" >NumCompaniesWorked</th>        <th class=\"col_heading level0 col14\" >PercentSalaryHike</th>        <th class=\"col_heading level0 col15\" >PerformanceRating</th>        <th class=\"col_heading level0 col16\" >RelationshipSatisfaction</th>        <th class=\"col_heading level0 col17\" >StandardHours</th>        <th class=\"col_heading level0 col18\" >StockOptionLevel</th>        <th class=\"col_heading level0 col19\" >TotalWorkingYears</th>        <th class=\"col_heading level0 col20\" >TrainingTimesLastYear</th>        <th class=\"col_heading level0 col21\" >WorkLifeBalance</th>        <th class=\"col_heading level0 col22\" >YearsAtCompany</th>        <th class=\"col_heading level0 col23\" >YearsInCurrentRole</th>        <th class=\"col_heading level0 col24\" >YearsSinceLastPromotion</th>        <th class=\"col_heading level0 col25\" >YearsWithCurrManager</th>    </tr></thead><tbody>\n",
              "                <tr>\n",
              "                        <th id=\"T_4c8de98c_5021_11ec_96be_0242ac1c0002level0_row0\" class=\"row_heading level0 row0\" >Age</th>\n",
              "                        <td id=\"T_4c8de98c_5021_11ec_96be_0242ac1c0002row0_col0\" class=\"data row0 col0\" >1.000000</td>\n",
              "                        <td id=\"T_4c8de98c_5021_11ec_96be_0242ac1c0002row0_col1\" class=\"data row0 col1\" >0.010661</td>\n",
              "                        <td id=\"T_4c8de98c_5021_11ec_96be_0242ac1c0002row0_col2\" class=\"data row0 col2\" >-0.001686</td>\n",
              "                        <td id=\"T_4c8de98c_5021_11ec_96be_0242ac1c0002row0_col3\" class=\"data row0 col3\" >0.208034</td>\n",
              "                        <td id=\"T_4c8de98c_5021_11ec_96be_0242ac1c0002row0_col4\" class=\"data row0 col4\" >nan</td>\n",
              "                        <td id=\"T_4c8de98c_5021_11ec_96be_0242ac1c0002row0_col5\" class=\"data row0 col5\" >-0.010145</td>\n",
              "                        <td id=\"T_4c8de98c_5021_11ec_96be_0242ac1c0002row0_col6\" class=\"data row0 col6\" >0.010146</td>\n",
              "                        <td id=\"T_4c8de98c_5021_11ec_96be_0242ac1c0002row0_col7\" class=\"data row0 col7\" >0.024287</td>\n",
              "                        <td id=\"T_4c8de98c_5021_11ec_96be_0242ac1c0002row0_col8\" class=\"data row0 col8\" >0.029820</td>\n",
              "                        <td id=\"T_4c8de98c_5021_11ec_96be_0242ac1c0002row0_col9\" class=\"data row0 col9\" >0.509604</td>\n",
              "                        <td id=\"T_4c8de98c_5021_11ec_96be_0242ac1c0002row0_col10\" class=\"data row0 col10\" >-0.004892</td>\n",
              "                        <td id=\"T_4c8de98c_5021_11ec_96be_0242ac1c0002row0_col11\" class=\"data row0 col11\" >0.497855</td>\n",
              "                        <td id=\"T_4c8de98c_5021_11ec_96be_0242ac1c0002row0_col12\" class=\"data row0 col12\" >0.028051</td>\n",
              "                        <td id=\"T_4c8de98c_5021_11ec_96be_0242ac1c0002row0_col13\" class=\"data row0 col13\" >0.299635</td>\n",
              "                        <td id=\"T_4c8de98c_5021_11ec_96be_0242ac1c0002row0_col14\" class=\"data row0 col14\" >0.003634</td>\n",
              "                        <td id=\"T_4c8de98c_5021_11ec_96be_0242ac1c0002row0_col15\" class=\"data row0 col15\" >0.001904</td>\n",
              "                        <td id=\"T_4c8de98c_5021_11ec_96be_0242ac1c0002row0_col16\" class=\"data row0 col16\" >0.053535</td>\n",
              "                        <td id=\"T_4c8de98c_5021_11ec_96be_0242ac1c0002row0_col17\" class=\"data row0 col17\" >nan</td>\n",
              "                        <td id=\"T_4c8de98c_5021_11ec_96be_0242ac1c0002row0_col18\" class=\"data row0 col18\" >0.037510</td>\n",
              "                        <td id=\"T_4c8de98c_5021_11ec_96be_0242ac1c0002row0_col19\" class=\"data row0 col19\" >0.680381</td>\n",
              "                        <td id=\"T_4c8de98c_5021_11ec_96be_0242ac1c0002row0_col20\" class=\"data row0 col20\" >-0.019621</td>\n",
              "                        <td id=\"T_4c8de98c_5021_11ec_96be_0242ac1c0002row0_col21\" class=\"data row0 col21\" >-0.021490</td>\n",
              "                        <td id=\"T_4c8de98c_5021_11ec_96be_0242ac1c0002row0_col22\" class=\"data row0 col22\" >0.311309</td>\n",
              "                        <td id=\"T_4c8de98c_5021_11ec_96be_0242ac1c0002row0_col23\" class=\"data row0 col23\" >0.212901</td>\n",
              "                        <td id=\"T_4c8de98c_5021_11ec_96be_0242ac1c0002row0_col24\" class=\"data row0 col24\" >0.216513</td>\n",
              "                        <td id=\"T_4c8de98c_5021_11ec_96be_0242ac1c0002row0_col25\" class=\"data row0 col25\" >0.202089</td>\n",
              "            </tr>\n",
              "            <tr>\n",
              "                        <th id=\"T_4c8de98c_5021_11ec_96be_0242ac1c0002level0_row1\" class=\"row_heading level0 row1\" >DailyRate</th>\n",
              "                        <td id=\"T_4c8de98c_5021_11ec_96be_0242ac1c0002row1_col0\" class=\"data row1 col0\" >0.010661</td>\n",
              "                        <td id=\"T_4c8de98c_5021_11ec_96be_0242ac1c0002row1_col1\" class=\"data row1 col1\" >1.000000</td>\n",
              "                        <td id=\"T_4c8de98c_5021_11ec_96be_0242ac1c0002row1_col2\" class=\"data row1 col2\" >-0.004985</td>\n",
              "                        <td id=\"T_4c8de98c_5021_11ec_96be_0242ac1c0002row1_col3\" class=\"data row1 col3\" >-0.016806</td>\n",
              "                        <td id=\"T_4c8de98c_5021_11ec_96be_0242ac1c0002row1_col4\" class=\"data row1 col4\" >nan</td>\n",
              "                        <td id=\"T_4c8de98c_5021_11ec_96be_0242ac1c0002row1_col5\" class=\"data row1 col5\" >-0.050990</td>\n",
              "                        <td id=\"T_4c8de98c_5021_11ec_96be_0242ac1c0002row1_col6\" class=\"data row1 col6\" >0.018355</td>\n",
              "                        <td id=\"T_4c8de98c_5021_11ec_96be_0242ac1c0002row1_col7\" class=\"data row1 col7\" >0.023381</td>\n",
              "                        <td id=\"T_4c8de98c_5021_11ec_96be_0242ac1c0002row1_col8\" class=\"data row1 col8\" >0.046135</td>\n",
              "                        <td id=\"T_4c8de98c_5021_11ec_96be_0242ac1c0002row1_col9\" class=\"data row1 col9\" >0.002966</td>\n",
              "                        <td id=\"T_4c8de98c_5021_11ec_96be_0242ac1c0002row1_col10\" class=\"data row1 col10\" >0.030571</td>\n",
              "                        <td id=\"T_4c8de98c_5021_11ec_96be_0242ac1c0002row1_col11\" class=\"data row1 col11\" >0.007707</td>\n",
              "                        <td id=\"T_4c8de98c_5021_11ec_96be_0242ac1c0002row1_col12\" class=\"data row1 col12\" >-0.032182</td>\n",
              "                        <td id=\"T_4c8de98c_5021_11ec_96be_0242ac1c0002row1_col13\" class=\"data row1 col13\" >0.038153</td>\n",
              "                        <td id=\"T_4c8de98c_5021_11ec_96be_0242ac1c0002row1_col14\" class=\"data row1 col14\" >0.022704</td>\n",
              "                        <td id=\"T_4c8de98c_5021_11ec_96be_0242ac1c0002row1_col15\" class=\"data row1 col15\" >0.000473</td>\n",
              "                        <td id=\"T_4c8de98c_5021_11ec_96be_0242ac1c0002row1_col16\" class=\"data row1 col16\" >0.007846</td>\n",
              "                        <td id=\"T_4c8de98c_5021_11ec_96be_0242ac1c0002row1_col17\" class=\"data row1 col17\" >nan</td>\n",
              "                        <td id=\"T_4c8de98c_5021_11ec_96be_0242ac1c0002row1_col18\" class=\"data row1 col18\" >0.042143</td>\n",
              "                        <td id=\"T_4c8de98c_5021_11ec_96be_0242ac1c0002row1_col19\" class=\"data row1 col19\" >0.014515</td>\n",
              "                        <td id=\"T_4c8de98c_5021_11ec_96be_0242ac1c0002row1_col20\" class=\"data row1 col20\" >0.002453</td>\n",
              "                        <td id=\"T_4c8de98c_5021_11ec_96be_0242ac1c0002row1_col21\" class=\"data row1 col21\" >-0.037848</td>\n",
              "                        <td id=\"T_4c8de98c_5021_11ec_96be_0242ac1c0002row1_col22\" class=\"data row1 col22\" >-0.034055</td>\n",
              "                        <td id=\"T_4c8de98c_5021_11ec_96be_0242ac1c0002row1_col23\" class=\"data row1 col23\" >0.009932</td>\n",
              "                        <td id=\"T_4c8de98c_5021_11ec_96be_0242ac1c0002row1_col24\" class=\"data row1 col24\" >-0.033229</td>\n",
              "                        <td id=\"T_4c8de98c_5021_11ec_96be_0242ac1c0002row1_col25\" class=\"data row1 col25\" >-0.026363</td>\n",
              "            </tr>\n",
              "            <tr>\n",
              "                        <th id=\"T_4c8de98c_5021_11ec_96be_0242ac1c0002level0_row2\" class=\"row_heading level0 row2\" >DistanceFromHome</th>\n",
              "                        <td id=\"T_4c8de98c_5021_11ec_96be_0242ac1c0002row2_col0\" class=\"data row2 col0\" >-0.001686</td>\n",
              "                        <td id=\"T_4c8de98c_5021_11ec_96be_0242ac1c0002row2_col1\" class=\"data row2 col1\" >-0.004985</td>\n",
              "                        <td id=\"T_4c8de98c_5021_11ec_96be_0242ac1c0002row2_col2\" class=\"data row2 col2\" >1.000000</td>\n",
              "                        <td id=\"T_4c8de98c_5021_11ec_96be_0242ac1c0002row2_col3\" class=\"data row2 col3\" >0.021042</td>\n",
              "                        <td id=\"T_4c8de98c_5021_11ec_96be_0242ac1c0002row2_col4\" class=\"data row2 col4\" >nan</td>\n",
              "                        <td id=\"T_4c8de98c_5021_11ec_96be_0242ac1c0002row2_col5\" class=\"data row2 col5\" >0.032916</td>\n",
              "                        <td id=\"T_4c8de98c_5021_11ec_96be_0242ac1c0002row2_col6\" class=\"data row2 col6\" >-0.016075</td>\n",
              "                        <td id=\"T_4c8de98c_5021_11ec_96be_0242ac1c0002row2_col7\" class=\"data row2 col7\" >0.031131</td>\n",
              "                        <td id=\"T_4c8de98c_5021_11ec_96be_0242ac1c0002row2_col8\" class=\"data row2 col8\" >0.008783</td>\n",
              "                        <td id=\"T_4c8de98c_5021_11ec_96be_0242ac1c0002row2_col9\" class=\"data row2 col9\" >0.005303</td>\n",
              "                        <td id=\"T_4c8de98c_5021_11ec_96be_0242ac1c0002row2_col10\" class=\"data row2 col10\" >-0.003669</td>\n",
              "                        <td id=\"T_4c8de98c_5021_11ec_96be_0242ac1c0002row2_col11\" class=\"data row2 col11\" >-0.017014</td>\n",
              "                        <td id=\"T_4c8de98c_5021_11ec_96be_0242ac1c0002row2_col12\" class=\"data row2 col12\" >0.027473</td>\n",
              "                        <td id=\"T_4c8de98c_5021_11ec_96be_0242ac1c0002row2_col13\" class=\"data row2 col13\" >-0.029251</td>\n",
              "                        <td id=\"T_4c8de98c_5021_11ec_96be_0242ac1c0002row2_col14\" class=\"data row2 col14\" >0.040235</td>\n",
              "                        <td id=\"T_4c8de98c_5021_11ec_96be_0242ac1c0002row2_col15\" class=\"data row2 col15\" >0.027110</td>\n",
              "                        <td id=\"T_4c8de98c_5021_11ec_96be_0242ac1c0002row2_col16\" class=\"data row2 col16\" >0.006557</td>\n",
              "                        <td id=\"T_4c8de98c_5021_11ec_96be_0242ac1c0002row2_col17\" class=\"data row2 col17\" >nan</td>\n",
              "                        <td id=\"T_4c8de98c_5021_11ec_96be_0242ac1c0002row2_col18\" class=\"data row2 col18\" >0.044872</td>\n",
              "                        <td id=\"T_4c8de98c_5021_11ec_96be_0242ac1c0002row2_col19\" class=\"data row2 col19\" >0.004628</td>\n",
              "                        <td id=\"T_4c8de98c_5021_11ec_96be_0242ac1c0002row2_col20\" class=\"data row2 col20\" >-0.036942</td>\n",
              "                        <td id=\"T_4c8de98c_5021_11ec_96be_0242ac1c0002row2_col21\" class=\"data row2 col21\" >-0.026556</td>\n",
              "                        <td id=\"T_4c8de98c_5021_11ec_96be_0242ac1c0002row2_col22\" class=\"data row2 col22\" >0.009508</td>\n",
              "                        <td id=\"T_4c8de98c_5021_11ec_96be_0242ac1c0002row2_col23\" class=\"data row2 col23\" >0.018845</td>\n",
              "                        <td id=\"T_4c8de98c_5021_11ec_96be_0242ac1c0002row2_col24\" class=\"data row2 col24\" >0.010029</td>\n",
              "                        <td id=\"T_4c8de98c_5021_11ec_96be_0242ac1c0002row2_col25\" class=\"data row2 col25\" >0.014406</td>\n",
              "            </tr>\n",
              "            <tr>\n",
              "                        <th id=\"T_4c8de98c_5021_11ec_96be_0242ac1c0002level0_row3\" class=\"row_heading level0 row3\" >Education</th>\n",
              "                        <td id=\"T_4c8de98c_5021_11ec_96be_0242ac1c0002row3_col0\" class=\"data row3 col0\" >0.208034</td>\n",
              "                        <td id=\"T_4c8de98c_5021_11ec_96be_0242ac1c0002row3_col1\" class=\"data row3 col1\" >-0.016806</td>\n",
              "                        <td id=\"T_4c8de98c_5021_11ec_96be_0242ac1c0002row3_col2\" class=\"data row3 col2\" >0.021042</td>\n",
              "                        <td id=\"T_4c8de98c_5021_11ec_96be_0242ac1c0002row3_col3\" class=\"data row3 col3\" >1.000000</td>\n",
              "                        <td id=\"T_4c8de98c_5021_11ec_96be_0242ac1c0002row3_col4\" class=\"data row3 col4\" >nan</td>\n",
              "                        <td id=\"T_4c8de98c_5021_11ec_96be_0242ac1c0002row3_col5\" class=\"data row3 col5\" >0.042070</td>\n",
              "                        <td id=\"T_4c8de98c_5021_11ec_96be_0242ac1c0002row3_col6\" class=\"data row3 col6\" >-0.027128</td>\n",
              "                        <td id=\"T_4c8de98c_5021_11ec_96be_0242ac1c0002row3_col7\" class=\"data row3 col7\" >0.016775</td>\n",
              "                        <td id=\"T_4c8de98c_5021_11ec_96be_0242ac1c0002row3_col8\" class=\"data row3 col8\" >0.042438</td>\n",
              "                        <td id=\"T_4c8de98c_5021_11ec_96be_0242ac1c0002row3_col9\" class=\"data row3 col9\" >0.101589</td>\n",
              "                        <td id=\"T_4c8de98c_5021_11ec_96be_0242ac1c0002row3_col10\" class=\"data row3 col10\" >-0.011296</td>\n",
              "                        <td id=\"T_4c8de98c_5021_11ec_96be_0242ac1c0002row3_col11\" class=\"data row3 col11\" >0.094961</td>\n",
              "                        <td id=\"T_4c8de98c_5021_11ec_96be_0242ac1c0002row3_col12\" class=\"data row3 col12\" >-0.026084</td>\n",
              "                        <td id=\"T_4c8de98c_5021_11ec_96be_0242ac1c0002row3_col13\" class=\"data row3 col13\" >0.126317</td>\n",
              "                        <td id=\"T_4c8de98c_5021_11ec_96be_0242ac1c0002row3_col14\" class=\"data row3 col14\" >-0.011111</td>\n",
              "                        <td id=\"T_4c8de98c_5021_11ec_96be_0242ac1c0002row3_col15\" class=\"data row3 col15\" >-0.024539</td>\n",
              "                        <td id=\"T_4c8de98c_5021_11ec_96be_0242ac1c0002row3_col16\" class=\"data row3 col16\" >-0.009118</td>\n",
              "                        <td id=\"T_4c8de98c_5021_11ec_96be_0242ac1c0002row3_col17\" class=\"data row3 col17\" >nan</td>\n",
              "                        <td id=\"T_4c8de98c_5021_11ec_96be_0242ac1c0002row3_col18\" class=\"data row3 col18\" >0.018422</td>\n",
              "                        <td id=\"T_4c8de98c_5021_11ec_96be_0242ac1c0002row3_col19\" class=\"data row3 col19\" >0.148280</td>\n",
              "                        <td id=\"T_4c8de98c_5021_11ec_96be_0242ac1c0002row3_col20\" class=\"data row3 col20\" >-0.025100</td>\n",
              "                        <td id=\"T_4c8de98c_5021_11ec_96be_0242ac1c0002row3_col21\" class=\"data row3 col21\" >0.009819</td>\n",
              "                        <td id=\"T_4c8de98c_5021_11ec_96be_0242ac1c0002row3_col22\" class=\"data row3 col22\" >0.069114</td>\n",
              "                        <td id=\"T_4c8de98c_5021_11ec_96be_0242ac1c0002row3_col23\" class=\"data row3 col23\" >0.060236</td>\n",
              "                        <td id=\"T_4c8de98c_5021_11ec_96be_0242ac1c0002row3_col24\" class=\"data row3 col24\" >0.054254</td>\n",
              "                        <td id=\"T_4c8de98c_5021_11ec_96be_0242ac1c0002row3_col25\" class=\"data row3 col25\" >0.069065</td>\n",
              "            </tr>\n",
              "            <tr>\n",
              "                        <th id=\"T_4c8de98c_5021_11ec_96be_0242ac1c0002level0_row4\" class=\"row_heading level0 row4\" >EmployeeCount</th>\n",
              "                        <td id=\"T_4c8de98c_5021_11ec_96be_0242ac1c0002row4_col0\" class=\"data row4 col0\" >nan</td>\n",
              "                        <td id=\"T_4c8de98c_5021_11ec_96be_0242ac1c0002row4_col1\" class=\"data row4 col1\" >nan</td>\n",
              "                        <td id=\"T_4c8de98c_5021_11ec_96be_0242ac1c0002row4_col2\" class=\"data row4 col2\" >nan</td>\n",
              "                        <td id=\"T_4c8de98c_5021_11ec_96be_0242ac1c0002row4_col3\" class=\"data row4 col3\" >nan</td>\n",
              "                        <td id=\"T_4c8de98c_5021_11ec_96be_0242ac1c0002row4_col4\" class=\"data row4 col4\" >nan</td>\n",
              "                        <td id=\"T_4c8de98c_5021_11ec_96be_0242ac1c0002row4_col5\" class=\"data row4 col5\" >nan</td>\n",
              "                        <td id=\"T_4c8de98c_5021_11ec_96be_0242ac1c0002row4_col6\" class=\"data row4 col6\" >nan</td>\n",
              "                        <td id=\"T_4c8de98c_5021_11ec_96be_0242ac1c0002row4_col7\" class=\"data row4 col7\" >nan</td>\n",
              "                        <td id=\"T_4c8de98c_5021_11ec_96be_0242ac1c0002row4_col8\" class=\"data row4 col8\" >nan</td>\n",
              "                        <td id=\"T_4c8de98c_5021_11ec_96be_0242ac1c0002row4_col9\" class=\"data row4 col9\" >nan</td>\n",
              "                        <td id=\"T_4c8de98c_5021_11ec_96be_0242ac1c0002row4_col10\" class=\"data row4 col10\" >nan</td>\n",
              "                        <td id=\"T_4c8de98c_5021_11ec_96be_0242ac1c0002row4_col11\" class=\"data row4 col11\" >nan</td>\n",
              "                        <td id=\"T_4c8de98c_5021_11ec_96be_0242ac1c0002row4_col12\" class=\"data row4 col12\" >nan</td>\n",
              "                        <td id=\"T_4c8de98c_5021_11ec_96be_0242ac1c0002row4_col13\" class=\"data row4 col13\" >nan</td>\n",
              "                        <td id=\"T_4c8de98c_5021_11ec_96be_0242ac1c0002row4_col14\" class=\"data row4 col14\" >nan</td>\n",
              "                        <td id=\"T_4c8de98c_5021_11ec_96be_0242ac1c0002row4_col15\" class=\"data row4 col15\" >nan</td>\n",
              "                        <td id=\"T_4c8de98c_5021_11ec_96be_0242ac1c0002row4_col16\" class=\"data row4 col16\" >nan</td>\n",
              "                        <td id=\"T_4c8de98c_5021_11ec_96be_0242ac1c0002row4_col17\" class=\"data row4 col17\" >nan</td>\n",
              "                        <td id=\"T_4c8de98c_5021_11ec_96be_0242ac1c0002row4_col18\" class=\"data row4 col18\" >nan</td>\n",
              "                        <td id=\"T_4c8de98c_5021_11ec_96be_0242ac1c0002row4_col19\" class=\"data row4 col19\" >nan</td>\n",
              "                        <td id=\"T_4c8de98c_5021_11ec_96be_0242ac1c0002row4_col20\" class=\"data row4 col20\" >nan</td>\n",
              "                        <td id=\"T_4c8de98c_5021_11ec_96be_0242ac1c0002row4_col21\" class=\"data row4 col21\" >nan</td>\n",
              "                        <td id=\"T_4c8de98c_5021_11ec_96be_0242ac1c0002row4_col22\" class=\"data row4 col22\" >nan</td>\n",
              "                        <td id=\"T_4c8de98c_5021_11ec_96be_0242ac1c0002row4_col23\" class=\"data row4 col23\" >nan</td>\n",
              "                        <td id=\"T_4c8de98c_5021_11ec_96be_0242ac1c0002row4_col24\" class=\"data row4 col24\" >nan</td>\n",
              "                        <td id=\"T_4c8de98c_5021_11ec_96be_0242ac1c0002row4_col25\" class=\"data row4 col25\" >nan</td>\n",
              "            </tr>\n",
              "            <tr>\n",
              "                        <th id=\"T_4c8de98c_5021_11ec_96be_0242ac1c0002level0_row5\" class=\"row_heading level0 row5\" >EmployeeNumber</th>\n",
              "                        <td id=\"T_4c8de98c_5021_11ec_96be_0242ac1c0002row5_col0\" class=\"data row5 col0\" >-0.010145</td>\n",
              "                        <td id=\"T_4c8de98c_5021_11ec_96be_0242ac1c0002row5_col1\" class=\"data row5 col1\" >-0.050990</td>\n",
              "                        <td id=\"T_4c8de98c_5021_11ec_96be_0242ac1c0002row5_col2\" class=\"data row5 col2\" >0.032916</td>\n",
              "                        <td id=\"T_4c8de98c_5021_11ec_96be_0242ac1c0002row5_col3\" class=\"data row5 col3\" >0.042070</td>\n",
              "                        <td id=\"T_4c8de98c_5021_11ec_96be_0242ac1c0002row5_col4\" class=\"data row5 col4\" >nan</td>\n",
              "                        <td id=\"T_4c8de98c_5021_11ec_96be_0242ac1c0002row5_col5\" class=\"data row5 col5\" >1.000000</td>\n",
              "                        <td id=\"T_4c8de98c_5021_11ec_96be_0242ac1c0002row5_col6\" class=\"data row5 col6\" >0.017621</td>\n",
              "                        <td id=\"T_4c8de98c_5021_11ec_96be_0242ac1c0002row5_col7\" class=\"data row5 col7\" >0.035179</td>\n",
              "                        <td id=\"T_4c8de98c_5021_11ec_96be_0242ac1c0002row5_col8\" class=\"data row5 col8\" >-0.006888</td>\n",
              "                        <td id=\"T_4c8de98c_5021_11ec_96be_0242ac1c0002row5_col9\" class=\"data row5 col9\" >-0.018519</td>\n",
              "                        <td id=\"T_4c8de98c_5021_11ec_96be_0242ac1c0002row5_col10\" class=\"data row5 col10\" >-0.046247</td>\n",
              "                        <td id=\"T_4c8de98c_5021_11ec_96be_0242ac1c0002row5_col11\" class=\"data row5 col11\" >-0.014829</td>\n",
              "                        <td id=\"T_4c8de98c_5021_11ec_96be_0242ac1c0002row5_col12\" class=\"data row5 col12\" >0.012648</td>\n",
              "                        <td id=\"T_4c8de98c_5021_11ec_96be_0242ac1c0002row5_col13\" class=\"data row5 col13\" >-0.001251</td>\n",
              "                        <td id=\"T_4c8de98c_5021_11ec_96be_0242ac1c0002row5_col14\" class=\"data row5 col14\" >-0.012944</td>\n",
              "                        <td id=\"T_4c8de98c_5021_11ec_96be_0242ac1c0002row5_col15\" class=\"data row5 col15\" >-0.020359</td>\n",
              "                        <td id=\"T_4c8de98c_5021_11ec_96be_0242ac1c0002row5_col16\" class=\"data row5 col16\" >-0.069861</td>\n",
              "                        <td id=\"T_4c8de98c_5021_11ec_96be_0242ac1c0002row5_col17\" class=\"data row5 col17\" >nan</td>\n",
              "                        <td id=\"T_4c8de98c_5021_11ec_96be_0242ac1c0002row5_col18\" class=\"data row5 col18\" >0.062227</td>\n",
              "                        <td id=\"T_4c8de98c_5021_11ec_96be_0242ac1c0002row5_col19\" class=\"data row5 col19\" >-0.014365</td>\n",
              "                        <td id=\"T_4c8de98c_5021_11ec_96be_0242ac1c0002row5_col20\" class=\"data row5 col20\" >0.023603</td>\n",
              "                        <td id=\"T_4c8de98c_5021_11ec_96be_0242ac1c0002row5_col21\" class=\"data row5 col21\" >0.010309</td>\n",
              "                        <td id=\"T_4c8de98c_5021_11ec_96be_0242ac1c0002row5_col22\" class=\"data row5 col22\" >-0.011240</td>\n",
              "                        <td id=\"T_4c8de98c_5021_11ec_96be_0242ac1c0002row5_col23\" class=\"data row5 col23\" >-0.008416</td>\n",
              "                        <td id=\"T_4c8de98c_5021_11ec_96be_0242ac1c0002row5_col24\" class=\"data row5 col24\" >-0.009019</td>\n",
              "                        <td id=\"T_4c8de98c_5021_11ec_96be_0242ac1c0002row5_col25\" class=\"data row5 col25\" >-0.009197</td>\n",
              "            </tr>\n",
              "            <tr>\n",
              "                        <th id=\"T_4c8de98c_5021_11ec_96be_0242ac1c0002level0_row6\" class=\"row_heading level0 row6\" >EnvironmentSatisfaction</th>\n",
              "                        <td id=\"T_4c8de98c_5021_11ec_96be_0242ac1c0002row6_col0\" class=\"data row6 col0\" >0.010146</td>\n",
              "                        <td id=\"T_4c8de98c_5021_11ec_96be_0242ac1c0002row6_col1\" class=\"data row6 col1\" >0.018355</td>\n",
              "                        <td id=\"T_4c8de98c_5021_11ec_96be_0242ac1c0002row6_col2\" class=\"data row6 col2\" >-0.016075</td>\n",
              "                        <td id=\"T_4c8de98c_5021_11ec_96be_0242ac1c0002row6_col3\" class=\"data row6 col3\" >-0.027128</td>\n",
              "                        <td id=\"T_4c8de98c_5021_11ec_96be_0242ac1c0002row6_col4\" class=\"data row6 col4\" >nan</td>\n",
              "                        <td id=\"T_4c8de98c_5021_11ec_96be_0242ac1c0002row6_col5\" class=\"data row6 col5\" >0.017621</td>\n",
              "                        <td id=\"T_4c8de98c_5021_11ec_96be_0242ac1c0002row6_col6\" class=\"data row6 col6\" >1.000000</td>\n",
              "                        <td id=\"T_4c8de98c_5021_11ec_96be_0242ac1c0002row6_col7\" class=\"data row6 col7\" >-0.049857</td>\n",
              "                        <td id=\"T_4c8de98c_5021_11ec_96be_0242ac1c0002row6_col8\" class=\"data row6 col8\" >-0.008278</td>\n",
              "                        <td id=\"T_4c8de98c_5021_11ec_96be_0242ac1c0002row6_col9\" class=\"data row6 col9\" >0.001212</td>\n",
              "                        <td id=\"T_4c8de98c_5021_11ec_96be_0242ac1c0002row6_col10\" class=\"data row6 col10\" >-0.006784</td>\n",
              "                        <td id=\"T_4c8de98c_5021_11ec_96be_0242ac1c0002row6_col11\" class=\"data row6 col11\" >-0.006259</td>\n",
              "                        <td id=\"T_4c8de98c_5021_11ec_96be_0242ac1c0002row6_col12\" class=\"data row6 col12\" >0.037600</td>\n",
              "                        <td id=\"T_4c8de98c_5021_11ec_96be_0242ac1c0002row6_col13\" class=\"data row6 col13\" >0.012594</td>\n",
              "                        <td id=\"T_4c8de98c_5021_11ec_96be_0242ac1c0002row6_col14\" class=\"data row6 col14\" >-0.031701</td>\n",
              "                        <td id=\"T_4c8de98c_5021_11ec_96be_0242ac1c0002row6_col15\" class=\"data row6 col15\" >-0.029548</td>\n",
              "                        <td id=\"T_4c8de98c_5021_11ec_96be_0242ac1c0002row6_col16\" class=\"data row6 col16\" >0.007665</td>\n",
              "                        <td id=\"T_4c8de98c_5021_11ec_96be_0242ac1c0002row6_col17\" class=\"data row6 col17\" >nan</td>\n",
              "                        <td id=\"T_4c8de98c_5021_11ec_96be_0242ac1c0002row6_col18\" class=\"data row6 col18\" >0.003432</td>\n",
              "                        <td id=\"T_4c8de98c_5021_11ec_96be_0242ac1c0002row6_col19\" class=\"data row6 col19\" >-0.002693</td>\n",
              "                        <td id=\"T_4c8de98c_5021_11ec_96be_0242ac1c0002row6_col20\" class=\"data row6 col20\" >-0.019359</td>\n",
              "                        <td id=\"T_4c8de98c_5021_11ec_96be_0242ac1c0002row6_col21\" class=\"data row6 col21\" >0.027627</td>\n",
              "                        <td id=\"T_4c8de98c_5021_11ec_96be_0242ac1c0002row6_col22\" class=\"data row6 col22\" >0.001458</td>\n",
              "                        <td id=\"T_4c8de98c_5021_11ec_96be_0242ac1c0002row6_col23\" class=\"data row6 col23\" >0.018007</td>\n",
              "                        <td id=\"T_4c8de98c_5021_11ec_96be_0242ac1c0002row6_col24\" class=\"data row6 col24\" >0.016194</td>\n",
              "                        <td id=\"T_4c8de98c_5021_11ec_96be_0242ac1c0002row6_col25\" class=\"data row6 col25\" >-0.004999</td>\n",
              "            </tr>\n",
              "            <tr>\n",
              "                        <th id=\"T_4c8de98c_5021_11ec_96be_0242ac1c0002level0_row7\" class=\"row_heading level0 row7\" >HourlyRate</th>\n",
              "                        <td id=\"T_4c8de98c_5021_11ec_96be_0242ac1c0002row7_col0\" class=\"data row7 col0\" >0.024287</td>\n",
              "                        <td id=\"T_4c8de98c_5021_11ec_96be_0242ac1c0002row7_col1\" class=\"data row7 col1\" >0.023381</td>\n",
              "                        <td id=\"T_4c8de98c_5021_11ec_96be_0242ac1c0002row7_col2\" class=\"data row7 col2\" >0.031131</td>\n",
              "                        <td id=\"T_4c8de98c_5021_11ec_96be_0242ac1c0002row7_col3\" class=\"data row7 col3\" >0.016775</td>\n",
              "                        <td id=\"T_4c8de98c_5021_11ec_96be_0242ac1c0002row7_col4\" class=\"data row7 col4\" >nan</td>\n",
              "                        <td id=\"T_4c8de98c_5021_11ec_96be_0242ac1c0002row7_col5\" class=\"data row7 col5\" >0.035179</td>\n",
              "                        <td id=\"T_4c8de98c_5021_11ec_96be_0242ac1c0002row7_col6\" class=\"data row7 col6\" >-0.049857</td>\n",
              "                        <td id=\"T_4c8de98c_5021_11ec_96be_0242ac1c0002row7_col7\" class=\"data row7 col7\" >1.000000</td>\n",
              "                        <td id=\"T_4c8de98c_5021_11ec_96be_0242ac1c0002row7_col8\" class=\"data row7 col8\" >0.042861</td>\n",
              "                        <td id=\"T_4c8de98c_5021_11ec_96be_0242ac1c0002row7_col9\" class=\"data row7 col9\" >-0.027853</td>\n",
              "                        <td id=\"T_4c8de98c_5021_11ec_96be_0242ac1c0002row7_col10\" class=\"data row7 col10\" >-0.071335</td>\n",
              "                        <td id=\"T_4c8de98c_5021_11ec_96be_0242ac1c0002row7_col11\" class=\"data row7 col11\" >-0.015794</td>\n",
              "                        <td id=\"T_4c8de98c_5021_11ec_96be_0242ac1c0002row7_col12\" class=\"data row7 col12\" >-0.015297</td>\n",
              "                        <td id=\"T_4c8de98c_5021_11ec_96be_0242ac1c0002row7_col13\" class=\"data row7 col13\" >0.022157</td>\n",
              "                        <td id=\"T_4c8de98c_5021_11ec_96be_0242ac1c0002row7_col14\" class=\"data row7 col14\" >-0.009062</td>\n",
              "                        <td id=\"T_4c8de98c_5021_11ec_96be_0242ac1c0002row7_col15\" class=\"data row7 col15\" >-0.002172</td>\n",
              "                        <td id=\"T_4c8de98c_5021_11ec_96be_0242ac1c0002row7_col16\" class=\"data row7 col16\" >0.001330</td>\n",
              "                        <td id=\"T_4c8de98c_5021_11ec_96be_0242ac1c0002row7_col17\" class=\"data row7 col17\" >nan</td>\n",
              "                        <td id=\"T_4c8de98c_5021_11ec_96be_0242ac1c0002row7_col18\" class=\"data row7 col18\" >0.050263</td>\n",
              "                        <td id=\"T_4c8de98c_5021_11ec_96be_0242ac1c0002row7_col19\" class=\"data row7 col19\" >-0.002334</td>\n",
              "                        <td id=\"T_4c8de98c_5021_11ec_96be_0242ac1c0002row7_col20\" class=\"data row7 col20\" >-0.008548</td>\n",
              "                        <td id=\"T_4c8de98c_5021_11ec_96be_0242ac1c0002row7_col21\" class=\"data row7 col21\" >-0.004607</td>\n",
              "                        <td id=\"T_4c8de98c_5021_11ec_96be_0242ac1c0002row7_col22\" class=\"data row7 col22\" >-0.019582</td>\n",
              "                        <td id=\"T_4c8de98c_5021_11ec_96be_0242ac1c0002row7_col23\" class=\"data row7 col23\" >-0.024106</td>\n",
              "                        <td id=\"T_4c8de98c_5021_11ec_96be_0242ac1c0002row7_col24\" class=\"data row7 col24\" >-0.026716</td>\n",
              "                        <td id=\"T_4c8de98c_5021_11ec_96be_0242ac1c0002row7_col25\" class=\"data row7 col25\" >-0.020123</td>\n",
              "            </tr>\n",
              "            <tr>\n",
              "                        <th id=\"T_4c8de98c_5021_11ec_96be_0242ac1c0002level0_row8\" class=\"row_heading level0 row8\" >JobInvolvement</th>\n",
              "                        <td id=\"T_4c8de98c_5021_11ec_96be_0242ac1c0002row8_col0\" class=\"data row8 col0\" >0.029820</td>\n",
              "                        <td id=\"T_4c8de98c_5021_11ec_96be_0242ac1c0002row8_col1\" class=\"data row8 col1\" >0.046135</td>\n",
              "                        <td id=\"T_4c8de98c_5021_11ec_96be_0242ac1c0002row8_col2\" class=\"data row8 col2\" >0.008783</td>\n",
              "                        <td id=\"T_4c8de98c_5021_11ec_96be_0242ac1c0002row8_col3\" class=\"data row8 col3\" >0.042438</td>\n",
              "                        <td id=\"T_4c8de98c_5021_11ec_96be_0242ac1c0002row8_col4\" class=\"data row8 col4\" >nan</td>\n",
              "                        <td id=\"T_4c8de98c_5021_11ec_96be_0242ac1c0002row8_col5\" class=\"data row8 col5\" >-0.006888</td>\n",
              "                        <td id=\"T_4c8de98c_5021_11ec_96be_0242ac1c0002row8_col6\" class=\"data row8 col6\" >-0.008278</td>\n",
              "                        <td id=\"T_4c8de98c_5021_11ec_96be_0242ac1c0002row8_col7\" class=\"data row8 col7\" >0.042861</td>\n",
              "                        <td id=\"T_4c8de98c_5021_11ec_96be_0242ac1c0002row8_col8\" class=\"data row8 col8\" >1.000000</td>\n",
              "                        <td id=\"T_4c8de98c_5021_11ec_96be_0242ac1c0002row8_col9\" class=\"data row8 col9\" >-0.012630</td>\n",
              "                        <td id=\"T_4c8de98c_5021_11ec_96be_0242ac1c0002row8_col10\" class=\"data row8 col10\" >-0.021476</td>\n",
              "                        <td id=\"T_4c8de98c_5021_11ec_96be_0242ac1c0002row8_col11\" class=\"data row8 col11\" >-0.015271</td>\n",
              "                        <td id=\"T_4c8de98c_5021_11ec_96be_0242ac1c0002row8_col12\" class=\"data row8 col12\" >-0.016322</td>\n",
              "                        <td id=\"T_4c8de98c_5021_11ec_96be_0242ac1c0002row8_col13\" class=\"data row8 col13\" >0.015012</td>\n",
              "                        <td id=\"T_4c8de98c_5021_11ec_96be_0242ac1c0002row8_col14\" class=\"data row8 col14\" >-0.017205</td>\n",
              "                        <td id=\"T_4c8de98c_5021_11ec_96be_0242ac1c0002row8_col15\" class=\"data row8 col15\" >-0.029071</td>\n",
              "                        <td id=\"T_4c8de98c_5021_11ec_96be_0242ac1c0002row8_col16\" class=\"data row8 col16\" >0.034297</td>\n",
              "                        <td id=\"T_4c8de98c_5021_11ec_96be_0242ac1c0002row8_col17\" class=\"data row8 col17\" >nan</td>\n",
              "                        <td id=\"T_4c8de98c_5021_11ec_96be_0242ac1c0002row8_col18\" class=\"data row8 col18\" >0.021523</td>\n",
              "                        <td id=\"T_4c8de98c_5021_11ec_96be_0242ac1c0002row8_col19\" class=\"data row8 col19\" >-0.005533</td>\n",
              "                        <td id=\"T_4c8de98c_5021_11ec_96be_0242ac1c0002row8_col20\" class=\"data row8 col20\" >-0.015338</td>\n",
              "                        <td id=\"T_4c8de98c_5021_11ec_96be_0242ac1c0002row8_col21\" class=\"data row8 col21\" >-0.014617</td>\n",
              "                        <td id=\"T_4c8de98c_5021_11ec_96be_0242ac1c0002row8_col22\" class=\"data row8 col22\" >-0.021355</td>\n",
              "                        <td id=\"T_4c8de98c_5021_11ec_96be_0242ac1c0002row8_col23\" class=\"data row8 col23\" >0.008717</td>\n",
              "                        <td id=\"T_4c8de98c_5021_11ec_96be_0242ac1c0002row8_col24\" class=\"data row8 col24\" >-0.024184</td>\n",
              "                        <td id=\"T_4c8de98c_5021_11ec_96be_0242ac1c0002row8_col25\" class=\"data row8 col25\" >0.025976</td>\n",
              "            </tr>\n",
              "            <tr>\n",
              "                        <th id=\"T_4c8de98c_5021_11ec_96be_0242ac1c0002level0_row9\" class=\"row_heading level0 row9\" >JobLevel</th>\n",
              "                        <td id=\"T_4c8de98c_5021_11ec_96be_0242ac1c0002row9_col0\" class=\"data row9 col0\" >0.509604</td>\n",
              "                        <td id=\"T_4c8de98c_5021_11ec_96be_0242ac1c0002row9_col1\" class=\"data row9 col1\" >0.002966</td>\n",
              "                        <td id=\"T_4c8de98c_5021_11ec_96be_0242ac1c0002row9_col2\" class=\"data row9 col2\" >0.005303</td>\n",
              "                        <td id=\"T_4c8de98c_5021_11ec_96be_0242ac1c0002row9_col3\" class=\"data row9 col3\" >0.101589</td>\n",
              "                        <td id=\"T_4c8de98c_5021_11ec_96be_0242ac1c0002row9_col4\" class=\"data row9 col4\" >nan</td>\n",
              "                        <td id=\"T_4c8de98c_5021_11ec_96be_0242ac1c0002row9_col5\" class=\"data row9 col5\" >-0.018519</td>\n",
              "                        <td id=\"T_4c8de98c_5021_11ec_96be_0242ac1c0002row9_col6\" class=\"data row9 col6\" >0.001212</td>\n",
              "                        <td id=\"T_4c8de98c_5021_11ec_96be_0242ac1c0002row9_col7\" class=\"data row9 col7\" >-0.027853</td>\n",
              "                        <td id=\"T_4c8de98c_5021_11ec_96be_0242ac1c0002row9_col8\" class=\"data row9 col8\" >-0.012630</td>\n",
              "                        <td id=\"T_4c8de98c_5021_11ec_96be_0242ac1c0002row9_col9\" class=\"data row9 col9\" >1.000000</td>\n",
              "                        <td id=\"T_4c8de98c_5021_11ec_96be_0242ac1c0002row9_col10\" class=\"data row9 col10\" >-0.001944</td>\n",
              "                        <td id=\"T_4c8de98c_5021_11ec_96be_0242ac1c0002row9_col11\" class=\"data row9 col11\" >0.950300</td>\n",
              "                        <td id=\"T_4c8de98c_5021_11ec_96be_0242ac1c0002row9_col12\" class=\"data row9 col12\" >0.039563</td>\n",
              "                        <td id=\"T_4c8de98c_5021_11ec_96be_0242ac1c0002row9_col13\" class=\"data row9 col13\" >0.142501</td>\n",
              "                        <td id=\"T_4c8de98c_5021_11ec_96be_0242ac1c0002row9_col14\" class=\"data row9 col14\" >-0.034730</td>\n",
              "                        <td id=\"T_4c8de98c_5021_11ec_96be_0242ac1c0002row9_col15\" class=\"data row9 col15\" >-0.021222</td>\n",
              "                        <td id=\"T_4c8de98c_5021_11ec_96be_0242ac1c0002row9_col16\" class=\"data row9 col16\" >0.021642</td>\n",
              "                        <td id=\"T_4c8de98c_5021_11ec_96be_0242ac1c0002row9_col17\" class=\"data row9 col17\" >nan</td>\n",
              "                        <td id=\"T_4c8de98c_5021_11ec_96be_0242ac1c0002row9_col18\" class=\"data row9 col18\" >0.013984</td>\n",
              "                        <td id=\"T_4c8de98c_5021_11ec_96be_0242ac1c0002row9_col19\" class=\"data row9 col19\" >0.782208</td>\n",
              "                        <td id=\"T_4c8de98c_5021_11ec_96be_0242ac1c0002row9_col20\" class=\"data row9 col20\" >-0.018191</td>\n",
              "                        <td id=\"T_4c8de98c_5021_11ec_96be_0242ac1c0002row9_col21\" class=\"data row9 col21\" >0.037818</td>\n",
              "                        <td id=\"T_4c8de98c_5021_11ec_96be_0242ac1c0002row9_col22\" class=\"data row9 col22\" >0.534739</td>\n",
              "                        <td id=\"T_4c8de98c_5021_11ec_96be_0242ac1c0002row9_col23\" class=\"data row9 col23\" >0.389447</td>\n",
              "                        <td id=\"T_4c8de98c_5021_11ec_96be_0242ac1c0002row9_col24\" class=\"data row9 col24\" >0.353885</td>\n",
              "                        <td id=\"T_4c8de98c_5021_11ec_96be_0242ac1c0002row9_col25\" class=\"data row9 col25\" >0.375281</td>\n",
              "            </tr>\n",
              "            <tr>\n",
              "                        <th id=\"T_4c8de98c_5021_11ec_96be_0242ac1c0002level0_row10\" class=\"row_heading level0 row10\" >JobSatisfaction</th>\n",
              "                        <td id=\"T_4c8de98c_5021_11ec_96be_0242ac1c0002row10_col0\" class=\"data row10 col0\" >-0.004892</td>\n",
              "                        <td id=\"T_4c8de98c_5021_11ec_96be_0242ac1c0002row10_col1\" class=\"data row10 col1\" >0.030571</td>\n",
              "                        <td id=\"T_4c8de98c_5021_11ec_96be_0242ac1c0002row10_col2\" class=\"data row10 col2\" >-0.003669</td>\n",
              "                        <td id=\"T_4c8de98c_5021_11ec_96be_0242ac1c0002row10_col3\" class=\"data row10 col3\" >-0.011296</td>\n",
              "                        <td id=\"T_4c8de98c_5021_11ec_96be_0242ac1c0002row10_col4\" class=\"data row10 col4\" >nan</td>\n",
              "                        <td id=\"T_4c8de98c_5021_11ec_96be_0242ac1c0002row10_col5\" class=\"data row10 col5\" >-0.046247</td>\n",
              "                        <td id=\"T_4c8de98c_5021_11ec_96be_0242ac1c0002row10_col6\" class=\"data row10 col6\" >-0.006784</td>\n",
              "                        <td id=\"T_4c8de98c_5021_11ec_96be_0242ac1c0002row10_col7\" class=\"data row10 col7\" >-0.071335</td>\n",
              "                        <td id=\"T_4c8de98c_5021_11ec_96be_0242ac1c0002row10_col8\" class=\"data row10 col8\" >-0.021476</td>\n",
              "                        <td id=\"T_4c8de98c_5021_11ec_96be_0242ac1c0002row10_col9\" class=\"data row10 col9\" >-0.001944</td>\n",
              "                        <td id=\"T_4c8de98c_5021_11ec_96be_0242ac1c0002row10_col10\" class=\"data row10 col10\" >1.000000</td>\n",
              "                        <td id=\"T_4c8de98c_5021_11ec_96be_0242ac1c0002row10_col11\" class=\"data row10 col11\" >-0.007157</td>\n",
              "                        <td id=\"T_4c8de98c_5021_11ec_96be_0242ac1c0002row10_col12\" class=\"data row10 col12\" >0.000644</td>\n",
              "                        <td id=\"T_4c8de98c_5021_11ec_96be_0242ac1c0002row10_col13\" class=\"data row10 col13\" >-0.055699</td>\n",
              "                        <td id=\"T_4c8de98c_5021_11ec_96be_0242ac1c0002row10_col14\" class=\"data row10 col14\" >0.020002</td>\n",
              "                        <td id=\"T_4c8de98c_5021_11ec_96be_0242ac1c0002row10_col15\" class=\"data row10 col15\" >0.002297</td>\n",
              "                        <td id=\"T_4c8de98c_5021_11ec_96be_0242ac1c0002row10_col16\" class=\"data row10 col16\" >-0.012454</td>\n",
              "                        <td id=\"T_4c8de98c_5021_11ec_96be_0242ac1c0002row10_col17\" class=\"data row10 col17\" >nan</td>\n",
              "                        <td id=\"T_4c8de98c_5021_11ec_96be_0242ac1c0002row10_col18\" class=\"data row10 col18\" >0.010690</td>\n",
              "                        <td id=\"T_4c8de98c_5021_11ec_96be_0242ac1c0002row10_col19\" class=\"data row10 col19\" >-0.020185</td>\n",
              "                        <td id=\"T_4c8de98c_5021_11ec_96be_0242ac1c0002row10_col20\" class=\"data row10 col20\" >-0.005779</td>\n",
              "                        <td id=\"T_4c8de98c_5021_11ec_96be_0242ac1c0002row10_col21\" class=\"data row10 col21\" >-0.019459</td>\n",
              "                        <td id=\"T_4c8de98c_5021_11ec_96be_0242ac1c0002row10_col22\" class=\"data row10 col22\" >-0.003803</td>\n",
              "                        <td id=\"T_4c8de98c_5021_11ec_96be_0242ac1c0002row10_col23\" class=\"data row10 col23\" >-0.002305</td>\n",
              "                        <td id=\"T_4c8de98c_5021_11ec_96be_0242ac1c0002row10_col24\" class=\"data row10 col24\" >-0.018214</td>\n",
              "                        <td id=\"T_4c8de98c_5021_11ec_96be_0242ac1c0002row10_col25\" class=\"data row10 col25\" >-0.027656</td>\n",
              "            </tr>\n",
              "            <tr>\n",
              "                        <th id=\"T_4c8de98c_5021_11ec_96be_0242ac1c0002level0_row11\" class=\"row_heading level0 row11\" >MonthlyIncome</th>\n",
              "                        <td id=\"T_4c8de98c_5021_11ec_96be_0242ac1c0002row11_col0\" class=\"data row11 col0\" >0.497855</td>\n",
              "                        <td id=\"T_4c8de98c_5021_11ec_96be_0242ac1c0002row11_col1\" class=\"data row11 col1\" >0.007707</td>\n",
              "                        <td id=\"T_4c8de98c_5021_11ec_96be_0242ac1c0002row11_col2\" class=\"data row11 col2\" >-0.017014</td>\n",
              "                        <td id=\"T_4c8de98c_5021_11ec_96be_0242ac1c0002row11_col3\" class=\"data row11 col3\" >0.094961</td>\n",
              "                        <td id=\"T_4c8de98c_5021_11ec_96be_0242ac1c0002row11_col4\" class=\"data row11 col4\" >nan</td>\n",
              "                        <td id=\"T_4c8de98c_5021_11ec_96be_0242ac1c0002row11_col5\" class=\"data row11 col5\" >-0.014829</td>\n",
              "                        <td id=\"T_4c8de98c_5021_11ec_96be_0242ac1c0002row11_col6\" class=\"data row11 col6\" >-0.006259</td>\n",
              "                        <td id=\"T_4c8de98c_5021_11ec_96be_0242ac1c0002row11_col7\" class=\"data row11 col7\" >-0.015794</td>\n",
              "                        <td id=\"T_4c8de98c_5021_11ec_96be_0242ac1c0002row11_col8\" class=\"data row11 col8\" >-0.015271</td>\n",
              "                        <td id=\"T_4c8de98c_5021_11ec_96be_0242ac1c0002row11_col9\" class=\"data row11 col9\" >0.950300</td>\n",
              "                        <td id=\"T_4c8de98c_5021_11ec_96be_0242ac1c0002row11_col10\" class=\"data row11 col10\" >-0.007157</td>\n",
              "                        <td id=\"T_4c8de98c_5021_11ec_96be_0242ac1c0002row11_col11\" class=\"data row11 col11\" >1.000000</td>\n",
              "                        <td id=\"T_4c8de98c_5021_11ec_96be_0242ac1c0002row11_col12\" class=\"data row11 col12\" >0.034814</td>\n",
              "                        <td id=\"T_4c8de98c_5021_11ec_96be_0242ac1c0002row11_col13\" class=\"data row11 col13\" >0.149515</td>\n",
              "                        <td id=\"T_4c8de98c_5021_11ec_96be_0242ac1c0002row11_col14\" class=\"data row11 col14\" >-0.027269</td>\n",
              "                        <td id=\"T_4c8de98c_5021_11ec_96be_0242ac1c0002row11_col15\" class=\"data row11 col15\" >-0.017120</td>\n",
              "                        <td id=\"T_4c8de98c_5021_11ec_96be_0242ac1c0002row11_col16\" class=\"data row11 col16\" >0.025873</td>\n",
              "                        <td id=\"T_4c8de98c_5021_11ec_96be_0242ac1c0002row11_col17\" class=\"data row11 col17\" >nan</td>\n",
              "                        <td id=\"T_4c8de98c_5021_11ec_96be_0242ac1c0002row11_col18\" class=\"data row11 col18\" >0.005408</td>\n",
              "                        <td id=\"T_4c8de98c_5021_11ec_96be_0242ac1c0002row11_col19\" class=\"data row11 col19\" >0.772893</td>\n",
              "                        <td id=\"T_4c8de98c_5021_11ec_96be_0242ac1c0002row11_col20\" class=\"data row11 col20\" >-0.021736</td>\n",
              "                        <td id=\"T_4c8de98c_5021_11ec_96be_0242ac1c0002row11_col21\" class=\"data row11 col21\" >0.030683</td>\n",
              "                        <td id=\"T_4c8de98c_5021_11ec_96be_0242ac1c0002row11_col22\" class=\"data row11 col22\" >0.514285</td>\n",
              "                        <td id=\"T_4c8de98c_5021_11ec_96be_0242ac1c0002row11_col23\" class=\"data row11 col23\" >0.363818</td>\n",
              "                        <td id=\"T_4c8de98c_5021_11ec_96be_0242ac1c0002row11_col24\" class=\"data row11 col24\" >0.344978</td>\n",
              "                        <td id=\"T_4c8de98c_5021_11ec_96be_0242ac1c0002row11_col25\" class=\"data row11 col25\" >0.344079</td>\n",
              "            </tr>\n",
              "            <tr>\n",
              "                        <th id=\"T_4c8de98c_5021_11ec_96be_0242ac1c0002level0_row12\" class=\"row_heading level0 row12\" >MonthlyRate</th>\n",
              "                        <td id=\"T_4c8de98c_5021_11ec_96be_0242ac1c0002row12_col0\" class=\"data row12 col0\" >0.028051</td>\n",
              "                        <td id=\"T_4c8de98c_5021_11ec_96be_0242ac1c0002row12_col1\" class=\"data row12 col1\" >-0.032182</td>\n",
              "                        <td id=\"T_4c8de98c_5021_11ec_96be_0242ac1c0002row12_col2\" class=\"data row12 col2\" >0.027473</td>\n",
              "                        <td id=\"T_4c8de98c_5021_11ec_96be_0242ac1c0002row12_col3\" class=\"data row12 col3\" >-0.026084</td>\n",
              "                        <td id=\"T_4c8de98c_5021_11ec_96be_0242ac1c0002row12_col4\" class=\"data row12 col4\" >nan</td>\n",
              "                        <td id=\"T_4c8de98c_5021_11ec_96be_0242ac1c0002row12_col5\" class=\"data row12 col5\" >0.012648</td>\n",
              "                        <td id=\"T_4c8de98c_5021_11ec_96be_0242ac1c0002row12_col6\" class=\"data row12 col6\" >0.037600</td>\n",
              "                        <td id=\"T_4c8de98c_5021_11ec_96be_0242ac1c0002row12_col7\" class=\"data row12 col7\" >-0.015297</td>\n",
              "                        <td id=\"T_4c8de98c_5021_11ec_96be_0242ac1c0002row12_col8\" class=\"data row12 col8\" >-0.016322</td>\n",
              "                        <td id=\"T_4c8de98c_5021_11ec_96be_0242ac1c0002row12_col9\" class=\"data row12 col9\" >0.039563</td>\n",
              "                        <td id=\"T_4c8de98c_5021_11ec_96be_0242ac1c0002row12_col10\" class=\"data row12 col10\" >0.000644</td>\n",
              "                        <td id=\"T_4c8de98c_5021_11ec_96be_0242ac1c0002row12_col11\" class=\"data row12 col11\" >0.034814</td>\n",
              "                        <td id=\"T_4c8de98c_5021_11ec_96be_0242ac1c0002row12_col12\" class=\"data row12 col12\" >1.000000</td>\n",
              "                        <td id=\"T_4c8de98c_5021_11ec_96be_0242ac1c0002row12_col13\" class=\"data row12 col13\" >0.017521</td>\n",
              "                        <td id=\"T_4c8de98c_5021_11ec_96be_0242ac1c0002row12_col14\" class=\"data row12 col14\" >-0.006429</td>\n",
              "                        <td id=\"T_4c8de98c_5021_11ec_96be_0242ac1c0002row12_col15\" class=\"data row12 col15\" >-0.009811</td>\n",
              "                        <td id=\"T_4c8de98c_5021_11ec_96be_0242ac1c0002row12_col16\" class=\"data row12 col16\" >-0.004085</td>\n",
              "                        <td id=\"T_4c8de98c_5021_11ec_96be_0242ac1c0002row12_col17\" class=\"data row12 col17\" >nan</td>\n",
              "                        <td id=\"T_4c8de98c_5021_11ec_96be_0242ac1c0002row12_col18\" class=\"data row12 col18\" >-0.034323</td>\n",
              "                        <td id=\"T_4c8de98c_5021_11ec_96be_0242ac1c0002row12_col19\" class=\"data row12 col19\" >0.026442</td>\n",
              "                        <td id=\"T_4c8de98c_5021_11ec_96be_0242ac1c0002row12_col20\" class=\"data row12 col20\" >0.001467</td>\n",
              "                        <td id=\"T_4c8de98c_5021_11ec_96be_0242ac1c0002row12_col21\" class=\"data row12 col21\" >0.007963</td>\n",
              "                        <td id=\"T_4c8de98c_5021_11ec_96be_0242ac1c0002row12_col22\" class=\"data row12 col22\" >-0.023655</td>\n",
              "                        <td id=\"T_4c8de98c_5021_11ec_96be_0242ac1c0002row12_col23\" class=\"data row12 col23\" >-0.012815</td>\n",
              "                        <td id=\"T_4c8de98c_5021_11ec_96be_0242ac1c0002row12_col24\" class=\"data row12 col24\" >0.001567</td>\n",
              "                        <td id=\"T_4c8de98c_5021_11ec_96be_0242ac1c0002row12_col25\" class=\"data row12 col25\" >-0.036746</td>\n",
              "            </tr>\n",
              "            <tr>\n",
              "                        <th id=\"T_4c8de98c_5021_11ec_96be_0242ac1c0002level0_row13\" class=\"row_heading level0 row13\" >NumCompaniesWorked</th>\n",
              "                        <td id=\"T_4c8de98c_5021_11ec_96be_0242ac1c0002row13_col0\" class=\"data row13 col0\" >0.299635</td>\n",
              "                        <td id=\"T_4c8de98c_5021_11ec_96be_0242ac1c0002row13_col1\" class=\"data row13 col1\" >0.038153</td>\n",
              "                        <td id=\"T_4c8de98c_5021_11ec_96be_0242ac1c0002row13_col2\" class=\"data row13 col2\" >-0.029251</td>\n",
              "                        <td id=\"T_4c8de98c_5021_11ec_96be_0242ac1c0002row13_col3\" class=\"data row13 col3\" >0.126317</td>\n",
              "                        <td id=\"T_4c8de98c_5021_11ec_96be_0242ac1c0002row13_col4\" class=\"data row13 col4\" >nan</td>\n",
              "                        <td id=\"T_4c8de98c_5021_11ec_96be_0242ac1c0002row13_col5\" class=\"data row13 col5\" >-0.001251</td>\n",
              "                        <td id=\"T_4c8de98c_5021_11ec_96be_0242ac1c0002row13_col6\" class=\"data row13 col6\" >0.012594</td>\n",
              "                        <td id=\"T_4c8de98c_5021_11ec_96be_0242ac1c0002row13_col7\" class=\"data row13 col7\" >0.022157</td>\n",
              "                        <td id=\"T_4c8de98c_5021_11ec_96be_0242ac1c0002row13_col8\" class=\"data row13 col8\" >0.015012</td>\n",
              "                        <td id=\"T_4c8de98c_5021_11ec_96be_0242ac1c0002row13_col9\" class=\"data row13 col9\" >0.142501</td>\n",
              "                        <td id=\"T_4c8de98c_5021_11ec_96be_0242ac1c0002row13_col10\" class=\"data row13 col10\" >-0.055699</td>\n",
              "                        <td id=\"T_4c8de98c_5021_11ec_96be_0242ac1c0002row13_col11\" class=\"data row13 col11\" >0.149515</td>\n",
              "                        <td id=\"T_4c8de98c_5021_11ec_96be_0242ac1c0002row13_col12\" class=\"data row13 col12\" >0.017521</td>\n",
              "                        <td id=\"T_4c8de98c_5021_11ec_96be_0242ac1c0002row13_col13\" class=\"data row13 col13\" >1.000000</td>\n",
              "                        <td id=\"T_4c8de98c_5021_11ec_96be_0242ac1c0002row13_col14\" class=\"data row13 col14\" >-0.010238</td>\n",
              "                        <td id=\"T_4c8de98c_5021_11ec_96be_0242ac1c0002row13_col15\" class=\"data row13 col15\" >-0.014095</td>\n",
              "                        <td id=\"T_4c8de98c_5021_11ec_96be_0242ac1c0002row13_col16\" class=\"data row13 col16\" >0.052733</td>\n",
              "                        <td id=\"T_4c8de98c_5021_11ec_96be_0242ac1c0002row13_col17\" class=\"data row13 col17\" >nan</td>\n",
              "                        <td id=\"T_4c8de98c_5021_11ec_96be_0242ac1c0002row13_col18\" class=\"data row13 col18\" >0.030075</td>\n",
              "                        <td id=\"T_4c8de98c_5021_11ec_96be_0242ac1c0002row13_col19\" class=\"data row13 col19\" >0.237639</td>\n",
              "                        <td id=\"T_4c8de98c_5021_11ec_96be_0242ac1c0002row13_col20\" class=\"data row13 col20\" >-0.066054</td>\n",
              "                        <td id=\"T_4c8de98c_5021_11ec_96be_0242ac1c0002row13_col21\" class=\"data row13 col21\" >-0.008366</td>\n",
              "                        <td id=\"T_4c8de98c_5021_11ec_96be_0242ac1c0002row13_col22\" class=\"data row13 col22\" >-0.118421</td>\n",
              "                        <td id=\"T_4c8de98c_5021_11ec_96be_0242ac1c0002row13_col23\" class=\"data row13 col23\" >-0.090754</td>\n",
              "                        <td id=\"T_4c8de98c_5021_11ec_96be_0242ac1c0002row13_col24\" class=\"data row13 col24\" >-0.036814</td>\n",
              "                        <td id=\"T_4c8de98c_5021_11ec_96be_0242ac1c0002row13_col25\" class=\"data row13 col25\" >-0.110319</td>\n",
              "            </tr>\n",
              "            <tr>\n",
              "                        <th id=\"T_4c8de98c_5021_11ec_96be_0242ac1c0002level0_row14\" class=\"row_heading level0 row14\" >PercentSalaryHike</th>\n",
              "                        <td id=\"T_4c8de98c_5021_11ec_96be_0242ac1c0002row14_col0\" class=\"data row14 col0\" >0.003634</td>\n",
              "                        <td id=\"T_4c8de98c_5021_11ec_96be_0242ac1c0002row14_col1\" class=\"data row14 col1\" >0.022704</td>\n",
              "                        <td id=\"T_4c8de98c_5021_11ec_96be_0242ac1c0002row14_col2\" class=\"data row14 col2\" >0.040235</td>\n",
              "                        <td id=\"T_4c8de98c_5021_11ec_96be_0242ac1c0002row14_col3\" class=\"data row14 col3\" >-0.011111</td>\n",
              "                        <td id=\"T_4c8de98c_5021_11ec_96be_0242ac1c0002row14_col4\" class=\"data row14 col4\" >nan</td>\n",
              "                        <td id=\"T_4c8de98c_5021_11ec_96be_0242ac1c0002row14_col5\" class=\"data row14 col5\" >-0.012944</td>\n",
              "                        <td id=\"T_4c8de98c_5021_11ec_96be_0242ac1c0002row14_col6\" class=\"data row14 col6\" >-0.031701</td>\n",
              "                        <td id=\"T_4c8de98c_5021_11ec_96be_0242ac1c0002row14_col7\" class=\"data row14 col7\" >-0.009062</td>\n",
              "                        <td id=\"T_4c8de98c_5021_11ec_96be_0242ac1c0002row14_col8\" class=\"data row14 col8\" >-0.017205</td>\n",
              "                        <td id=\"T_4c8de98c_5021_11ec_96be_0242ac1c0002row14_col9\" class=\"data row14 col9\" >-0.034730</td>\n",
              "                        <td id=\"T_4c8de98c_5021_11ec_96be_0242ac1c0002row14_col10\" class=\"data row14 col10\" >0.020002</td>\n",
              "                        <td id=\"T_4c8de98c_5021_11ec_96be_0242ac1c0002row14_col11\" class=\"data row14 col11\" >-0.027269</td>\n",
              "                        <td id=\"T_4c8de98c_5021_11ec_96be_0242ac1c0002row14_col12\" class=\"data row14 col12\" >-0.006429</td>\n",
              "                        <td id=\"T_4c8de98c_5021_11ec_96be_0242ac1c0002row14_col13\" class=\"data row14 col13\" >-0.010238</td>\n",
              "                        <td id=\"T_4c8de98c_5021_11ec_96be_0242ac1c0002row14_col14\" class=\"data row14 col14\" >1.000000</td>\n",
              "                        <td id=\"T_4c8de98c_5021_11ec_96be_0242ac1c0002row14_col15\" class=\"data row14 col15\" >0.773550</td>\n",
              "                        <td id=\"T_4c8de98c_5021_11ec_96be_0242ac1c0002row14_col16\" class=\"data row14 col16\" >-0.040490</td>\n",
              "                        <td id=\"T_4c8de98c_5021_11ec_96be_0242ac1c0002row14_col17\" class=\"data row14 col17\" >nan</td>\n",
              "                        <td id=\"T_4c8de98c_5021_11ec_96be_0242ac1c0002row14_col18\" class=\"data row14 col18\" >0.007528</td>\n",
              "                        <td id=\"T_4c8de98c_5021_11ec_96be_0242ac1c0002row14_col19\" class=\"data row14 col19\" >-0.020608</td>\n",
              "                        <td id=\"T_4c8de98c_5021_11ec_96be_0242ac1c0002row14_col20\" class=\"data row14 col20\" >-0.005221</td>\n",
              "                        <td id=\"T_4c8de98c_5021_11ec_96be_0242ac1c0002row14_col21\" class=\"data row14 col21\" >-0.003280</td>\n",
              "                        <td id=\"T_4c8de98c_5021_11ec_96be_0242ac1c0002row14_col22\" class=\"data row14 col22\" >-0.035991</td>\n",
              "                        <td id=\"T_4c8de98c_5021_11ec_96be_0242ac1c0002row14_col23\" class=\"data row14 col23\" >-0.001520</td>\n",
              "                        <td id=\"T_4c8de98c_5021_11ec_96be_0242ac1c0002row14_col24\" class=\"data row14 col24\" >-0.022154</td>\n",
              "                        <td id=\"T_4c8de98c_5021_11ec_96be_0242ac1c0002row14_col25\" class=\"data row14 col25\" >-0.011985</td>\n",
              "            </tr>\n",
              "            <tr>\n",
              "                        <th id=\"T_4c8de98c_5021_11ec_96be_0242ac1c0002level0_row15\" class=\"row_heading level0 row15\" >PerformanceRating</th>\n",
              "                        <td id=\"T_4c8de98c_5021_11ec_96be_0242ac1c0002row15_col0\" class=\"data row15 col0\" >0.001904</td>\n",
              "                        <td id=\"T_4c8de98c_5021_11ec_96be_0242ac1c0002row15_col1\" class=\"data row15 col1\" >0.000473</td>\n",
              "                        <td id=\"T_4c8de98c_5021_11ec_96be_0242ac1c0002row15_col2\" class=\"data row15 col2\" >0.027110</td>\n",
              "                        <td id=\"T_4c8de98c_5021_11ec_96be_0242ac1c0002row15_col3\" class=\"data row15 col3\" >-0.024539</td>\n",
              "                        <td id=\"T_4c8de98c_5021_11ec_96be_0242ac1c0002row15_col4\" class=\"data row15 col4\" >nan</td>\n",
              "                        <td id=\"T_4c8de98c_5021_11ec_96be_0242ac1c0002row15_col5\" class=\"data row15 col5\" >-0.020359</td>\n",
              "                        <td id=\"T_4c8de98c_5021_11ec_96be_0242ac1c0002row15_col6\" class=\"data row15 col6\" >-0.029548</td>\n",
              "                        <td id=\"T_4c8de98c_5021_11ec_96be_0242ac1c0002row15_col7\" class=\"data row15 col7\" >-0.002172</td>\n",
              "                        <td id=\"T_4c8de98c_5021_11ec_96be_0242ac1c0002row15_col8\" class=\"data row15 col8\" >-0.029071</td>\n",
              "                        <td id=\"T_4c8de98c_5021_11ec_96be_0242ac1c0002row15_col9\" class=\"data row15 col9\" >-0.021222</td>\n",
              "                        <td id=\"T_4c8de98c_5021_11ec_96be_0242ac1c0002row15_col10\" class=\"data row15 col10\" >0.002297</td>\n",
              "                        <td id=\"T_4c8de98c_5021_11ec_96be_0242ac1c0002row15_col11\" class=\"data row15 col11\" >-0.017120</td>\n",
              "                        <td id=\"T_4c8de98c_5021_11ec_96be_0242ac1c0002row15_col12\" class=\"data row15 col12\" >-0.009811</td>\n",
              "                        <td id=\"T_4c8de98c_5021_11ec_96be_0242ac1c0002row15_col13\" class=\"data row15 col13\" >-0.014095</td>\n",
              "                        <td id=\"T_4c8de98c_5021_11ec_96be_0242ac1c0002row15_col14\" class=\"data row15 col14\" >0.773550</td>\n",
              "                        <td id=\"T_4c8de98c_5021_11ec_96be_0242ac1c0002row15_col15\" class=\"data row15 col15\" >1.000000</td>\n",
              "                        <td id=\"T_4c8de98c_5021_11ec_96be_0242ac1c0002row15_col16\" class=\"data row15 col16\" >-0.031351</td>\n",
              "                        <td id=\"T_4c8de98c_5021_11ec_96be_0242ac1c0002row15_col17\" class=\"data row15 col17\" >nan</td>\n",
              "                        <td id=\"T_4c8de98c_5021_11ec_96be_0242ac1c0002row15_col18\" class=\"data row15 col18\" >0.003506</td>\n",
              "                        <td id=\"T_4c8de98c_5021_11ec_96be_0242ac1c0002row15_col19\" class=\"data row15 col19\" >0.006744</td>\n",
              "                        <td id=\"T_4c8de98c_5021_11ec_96be_0242ac1c0002row15_col20\" class=\"data row15 col20\" >-0.015579</td>\n",
              "                        <td id=\"T_4c8de98c_5021_11ec_96be_0242ac1c0002row15_col21\" class=\"data row15 col21\" >0.002572</td>\n",
              "                        <td id=\"T_4c8de98c_5021_11ec_96be_0242ac1c0002row15_col22\" class=\"data row15 col22\" >0.003435</td>\n",
              "                        <td id=\"T_4c8de98c_5021_11ec_96be_0242ac1c0002row15_col23\" class=\"data row15 col23\" >0.034986</td>\n",
              "                        <td id=\"T_4c8de98c_5021_11ec_96be_0242ac1c0002row15_col24\" class=\"data row15 col24\" >0.017896</td>\n",
              "                        <td id=\"T_4c8de98c_5021_11ec_96be_0242ac1c0002row15_col25\" class=\"data row15 col25\" >0.022827</td>\n",
              "            </tr>\n",
              "            <tr>\n",
              "                        <th id=\"T_4c8de98c_5021_11ec_96be_0242ac1c0002level0_row16\" class=\"row_heading level0 row16\" >RelationshipSatisfaction</th>\n",
              "                        <td id=\"T_4c8de98c_5021_11ec_96be_0242ac1c0002row16_col0\" class=\"data row16 col0\" >0.053535</td>\n",
              "                        <td id=\"T_4c8de98c_5021_11ec_96be_0242ac1c0002row16_col1\" class=\"data row16 col1\" >0.007846</td>\n",
              "                        <td id=\"T_4c8de98c_5021_11ec_96be_0242ac1c0002row16_col2\" class=\"data row16 col2\" >0.006557</td>\n",
              "                        <td id=\"T_4c8de98c_5021_11ec_96be_0242ac1c0002row16_col3\" class=\"data row16 col3\" >-0.009118</td>\n",
              "                        <td id=\"T_4c8de98c_5021_11ec_96be_0242ac1c0002row16_col4\" class=\"data row16 col4\" >nan</td>\n",
              "                        <td id=\"T_4c8de98c_5021_11ec_96be_0242ac1c0002row16_col5\" class=\"data row16 col5\" >-0.069861</td>\n",
              "                        <td id=\"T_4c8de98c_5021_11ec_96be_0242ac1c0002row16_col6\" class=\"data row16 col6\" >0.007665</td>\n",
              "                        <td id=\"T_4c8de98c_5021_11ec_96be_0242ac1c0002row16_col7\" class=\"data row16 col7\" >0.001330</td>\n",
              "                        <td id=\"T_4c8de98c_5021_11ec_96be_0242ac1c0002row16_col8\" class=\"data row16 col8\" >0.034297</td>\n",
              "                        <td id=\"T_4c8de98c_5021_11ec_96be_0242ac1c0002row16_col9\" class=\"data row16 col9\" >0.021642</td>\n",
              "                        <td id=\"T_4c8de98c_5021_11ec_96be_0242ac1c0002row16_col10\" class=\"data row16 col10\" >-0.012454</td>\n",
              "                        <td id=\"T_4c8de98c_5021_11ec_96be_0242ac1c0002row16_col11\" class=\"data row16 col11\" >0.025873</td>\n",
              "                        <td id=\"T_4c8de98c_5021_11ec_96be_0242ac1c0002row16_col12\" class=\"data row16 col12\" >-0.004085</td>\n",
              "                        <td id=\"T_4c8de98c_5021_11ec_96be_0242ac1c0002row16_col13\" class=\"data row16 col13\" >0.052733</td>\n",
              "                        <td id=\"T_4c8de98c_5021_11ec_96be_0242ac1c0002row16_col14\" class=\"data row16 col14\" >-0.040490</td>\n",
              "                        <td id=\"T_4c8de98c_5021_11ec_96be_0242ac1c0002row16_col15\" class=\"data row16 col15\" >-0.031351</td>\n",
              "                        <td id=\"T_4c8de98c_5021_11ec_96be_0242ac1c0002row16_col16\" class=\"data row16 col16\" >1.000000</td>\n",
              "                        <td id=\"T_4c8de98c_5021_11ec_96be_0242ac1c0002row16_col17\" class=\"data row16 col17\" >nan</td>\n",
              "                        <td id=\"T_4c8de98c_5021_11ec_96be_0242ac1c0002row16_col18\" class=\"data row16 col18\" >-0.045952</td>\n",
              "                        <td id=\"T_4c8de98c_5021_11ec_96be_0242ac1c0002row16_col19\" class=\"data row16 col19\" >0.024054</td>\n",
              "                        <td id=\"T_4c8de98c_5021_11ec_96be_0242ac1c0002row16_col20\" class=\"data row16 col20\" >0.002497</td>\n",
              "                        <td id=\"T_4c8de98c_5021_11ec_96be_0242ac1c0002row16_col21\" class=\"data row16 col21\" >0.019604</td>\n",
              "                        <td id=\"T_4c8de98c_5021_11ec_96be_0242ac1c0002row16_col22\" class=\"data row16 col22\" >0.019367</td>\n",
              "                        <td id=\"T_4c8de98c_5021_11ec_96be_0242ac1c0002row16_col23\" class=\"data row16 col23\" >-0.015123</td>\n",
              "                        <td id=\"T_4c8de98c_5021_11ec_96be_0242ac1c0002row16_col24\" class=\"data row16 col24\" >0.033493</td>\n",
              "                        <td id=\"T_4c8de98c_5021_11ec_96be_0242ac1c0002row16_col25\" class=\"data row16 col25\" >-0.000867</td>\n",
              "            </tr>\n",
              "            <tr>\n",
              "                        <th id=\"T_4c8de98c_5021_11ec_96be_0242ac1c0002level0_row17\" class=\"row_heading level0 row17\" >StandardHours</th>\n",
              "                        <td id=\"T_4c8de98c_5021_11ec_96be_0242ac1c0002row17_col0\" class=\"data row17 col0\" >nan</td>\n",
              "                        <td id=\"T_4c8de98c_5021_11ec_96be_0242ac1c0002row17_col1\" class=\"data row17 col1\" >nan</td>\n",
              "                        <td id=\"T_4c8de98c_5021_11ec_96be_0242ac1c0002row17_col2\" class=\"data row17 col2\" >nan</td>\n",
              "                        <td id=\"T_4c8de98c_5021_11ec_96be_0242ac1c0002row17_col3\" class=\"data row17 col3\" >nan</td>\n",
              "                        <td id=\"T_4c8de98c_5021_11ec_96be_0242ac1c0002row17_col4\" class=\"data row17 col4\" >nan</td>\n",
              "                        <td id=\"T_4c8de98c_5021_11ec_96be_0242ac1c0002row17_col5\" class=\"data row17 col5\" >nan</td>\n",
              "                        <td id=\"T_4c8de98c_5021_11ec_96be_0242ac1c0002row17_col6\" class=\"data row17 col6\" >nan</td>\n",
              "                        <td id=\"T_4c8de98c_5021_11ec_96be_0242ac1c0002row17_col7\" class=\"data row17 col7\" >nan</td>\n",
              "                        <td id=\"T_4c8de98c_5021_11ec_96be_0242ac1c0002row17_col8\" class=\"data row17 col8\" >nan</td>\n",
              "                        <td id=\"T_4c8de98c_5021_11ec_96be_0242ac1c0002row17_col9\" class=\"data row17 col9\" >nan</td>\n",
              "                        <td id=\"T_4c8de98c_5021_11ec_96be_0242ac1c0002row17_col10\" class=\"data row17 col10\" >nan</td>\n",
              "                        <td id=\"T_4c8de98c_5021_11ec_96be_0242ac1c0002row17_col11\" class=\"data row17 col11\" >nan</td>\n",
              "                        <td id=\"T_4c8de98c_5021_11ec_96be_0242ac1c0002row17_col12\" class=\"data row17 col12\" >nan</td>\n",
              "                        <td id=\"T_4c8de98c_5021_11ec_96be_0242ac1c0002row17_col13\" class=\"data row17 col13\" >nan</td>\n",
              "                        <td id=\"T_4c8de98c_5021_11ec_96be_0242ac1c0002row17_col14\" class=\"data row17 col14\" >nan</td>\n",
              "                        <td id=\"T_4c8de98c_5021_11ec_96be_0242ac1c0002row17_col15\" class=\"data row17 col15\" >nan</td>\n",
              "                        <td id=\"T_4c8de98c_5021_11ec_96be_0242ac1c0002row17_col16\" class=\"data row17 col16\" >nan</td>\n",
              "                        <td id=\"T_4c8de98c_5021_11ec_96be_0242ac1c0002row17_col17\" class=\"data row17 col17\" >nan</td>\n",
              "                        <td id=\"T_4c8de98c_5021_11ec_96be_0242ac1c0002row17_col18\" class=\"data row17 col18\" >nan</td>\n",
              "                        <td id=\"T_4c8de98c_5021_11ec_96be_0242ac1c0002row17_col19\" class=\"data row17 col19\" >nan</td>\n",
              "                        <td id=\"T_4c8de98c_5021_11ec_96be_0242ac1c0002row17_col20\" class=\"data row17 col20\" >nan</td>\n",
              "                        <td id=\"T_4c8de98c_5021_11ec_96be_0242ac1c0002row17_col21\" class=\"data row17 col21\" >nan</td>\n",
              "                        <td id=\"T_4c8de98c_5021_11ec_96be_0242ac1c0002row17_col22\" class=\"data row17 col22\" >nan</td>\n",
              "                        <td id=\"T_4c8de98c_5021_11ec_96be_0242ac1c0002row17_col23\" class=\"data row17 col23\" >nan</td>\n",
              "                        <td id=\"T_4c8de98c_5021_11ec_96be_0242ac1c0002row17_col24\" class=\"data row17 col24\" >nan</td>\n",
              "                        <td id=\"T_4c8de98c_5021_11ec_96be_0242ac1c0002row17_col25\" class=\"data row17 col25\" >nan</td>\n",
              "            </tr>\n",
              "            <tr>\n",
              "                        <th id=\"T_4c8de98c_5021_11ec_96be_0242ac1c0002level0_row18\" class=\"row_heading level0 row18\" >StockOptionLevel</th>\n",
              "                        <td id=\"T_4c8de98c_5021_11ec_96be_0242ac1c0002row18_col0\" class=\"data row18 col0\" >0.037510</td>\n",
              "                        <td id=\"T_4c8de98c_5021_11ec_96be_0242ac1c0002row18_col1\" class=\"data row18 col1\" >0.042143</td>\n",
              "                        <td id=\"T_4c8de98c_5021_11ec_96be_0242ac1c0002row18_col2\" class=\"data row18 col2\" >0.044872</td>\n",
              "                        <td id=\"T_4c8de98c_5021_11ec_96be_0242ac1c0002row18_col3\" class=\"data row18 col3\" >0.018422</td>\n",
              "                        <td id=\"T_4c8de98c_5021_11ec_96be_0242ac1c0002row18_col4\" class=\"data row18 col4\" >nan</td>\n",
              "                        <td id=\"T_4c8de98c_5021_11ec_96be_0242ac1c0002row18_col5\" class=\"data row18 col5\" >0.062227</td>\n",
              "                        <td id=\"T_4c8de98c_5021_11ec_96be_0242ac1c0002row18_col6\" class=\"data row18 col6\" >0.003432</td>\n",
              "                        <td id=\"T_4c8de98c_5021_11ec_96be_0242ac1c0002row18_col7\" class=\"data row18 col7\" >0.050263</td>\n",
              "                        <td id=\"T_4c8de98c_5021_11ec_96be_0242ac1c0002row18_col8\" class=\"data row18 col8\" >0.021523</td>\n",
              "                        <td id=\"T_4c8de98c_5021_11ec_96be_0242ac1c0002row18_col9\" class=\"data row18 col9\" >0.013984</td>\n",
              "                        <td id=\"T_4c8de98c_5021_11ec_96be_0242ac1c0002row18_col10\" class=\"data row18 col10\" >0.010690</td>\n",
              "                        <td id=\"T_4c8de98c_5021_11ec_96be_0242ac1c0002row18_col11\" class=\"data row18 col11\" >0.005408</td>\n",
              "                        <td id=\"T_4c8de98c_5021_11ec_96be_0242ac1c0002row18_col12\" class=\"data row18 col12\" >-0.034323</td>\n",
              "                        <td id=\"T_4c8de98c_5021_11ec_96be_0242ac1c0002row18_col13\" class=\"data row18 col13\" >0.030075</td>\n",
              "                        <td id=\"T_4c8de98c_5021_11ec_96be_0242ac1c0002row18_col14\" class=\"data row18 col14\" >0.007528</td>\n",
              "                        <td id=\"T_4c8de98c_5021_11ec_96be_0242ac1c0002row18_col15\" class=\"data row18 col15\" >0.003506</td>\n",
              "                        <td id=\"T_4c8de98c_5021_11ec_96be_0242ac1c0002row18_col16\" class=\"data row18 col16\" >-0.045952</td>\n",
              "                        <td id=\"T_4c8de98c_5021_11ec_96be_0242ac1c0002row18_col17\" class=\"data row18 col17\" >nan</td>\n",
              "                        <td id=\"T_4c8de98c_5021_11ec_96be_0242ac1c0002row18_col18\" class=\"data row18 col18\" >1.000000</td>\n",
              "                        <td id=\"T_4c8de98c_5021_11ec_96be_0242ac1c0002row18_col19\" class=\"data row18 col19\" >0.010136</td>\n",
              "                        <td id=\"T_4c8de98c_5021_11ec_96be_0242ac1c0002row18_col20\" class=\"data row18 col20\" >0.011274</td>\n",
              "                        <td id=\"T_4c8de98c_5021_11ec_96be_0242ac1c0002row18_col21\" class=\"data row18 col21\" >0.004129</td>\n",
              "                        <td id=\"T_4c8de98c_5021_11ec_96be_0242ac1c0002row18_col22\" class=\"data row18 col22\" >0.015058</td>\n",
              "                        <td id=\"T_4c8de98c_5021_11ec_96be_0242ac1c0002row18_col23\" class=\"data row18 col23\" >0.050818</td>\n",
              "                        <td id=\"T_4c8de98c_5021_11ec_96be_0242ac1c0002row18_col24\" class=\"data row18 col24\" >0.014352</td>\n",
              "                        <td id=\"T_4c8de98c_5021_11ec_96be_0242ac1c0002row18_col25\" class=\"data row18 col25\" >0.024698</td>\n",
              "            </tr>\n",
              "            <tr>\n",
              "                        <th id=\"T_4c8de98c_5021_11ec_96be_0242ac1c0002level0_row19\" class=\"row_heading level0 row19\" >TotalWorkingYears</th>\n",
              "                        <td id=\"T_4c8de98c_5021_11ec_96be_0242ac1c0002row19_col0\" class=\"data row19 col0\" >0.680381</td>\n",
              "                        <td id=\"T_4c8de98c_5021_11ec_96be_0242ac1c0002row19_col1\" class=\"data row19 col1\" >0.014515</td>\n",
              "                        <td id=\"T_4c8de98c_5021_11ec_96be_0242ac1c0002row19_col2\" class=\"data row19 col2\" >0.004628</td>\n",
              "                        <td id=\"T_4c8de98c_5021_11ec_96be_0242ac1c0002row19_col3\" class=\"data row19 col3\" >0.148280</td>\n",
              "                        <td id=\"T_4c8de98c_5021_11ec_96be_0242ac1c0002row19_col4\" class=\"data row19 col4\" >nan</td>\n",
              "                        <td id=\"T_4c8de98c_5021_11ec_96be_0242ac1c0002row19_col5\" class=\"data row19 col5\" >-0.014365</td>\n",
              "                        <td id=\"T_4c8de98c_5021_11ec_96be_0242ac1c0002row19_col6\" class=\"data row19 col6\" >-0.002693</td>\n",
              "                        <td id=\"T_4c8de98c_5021_11ec_96be_0242ac1c0002row19_col7\" class=\"data row19 col7\" >-0.002334</td>\n",
              "                        <td id=\"T_4c8de98c_5021_11ec_96be_0242ac1c0002row19_col8\" class=\"data row19 col8\" >-0.005533</td>\n",
              "                        <td id=\"T_4c8de98c_5021_11ec_96be_0242ac1c0002row19_col9\" class=\"data row19 col9\" >0.782208</td>\n",
              "                        <td id=\"T_4c8de98c_5021_11ec_96be_0242ac1c0002row19_col10\" class=\"data row19 col10\" >-0.020185</td>\n",
              "                        <td id=\"T_4c8de98c_5021_11ec_96be_0242ac1c0002row19_col11\" class=\"data row19 col11\" >0.772893</td>\n",
              "                        <td id=\"T_4c8de98c_5021_11ec_96be_0242ac1c0002row19_col12\" class=\"data row19 col12\" >0.026442</td>\n",
              "                        <td id=\"T_4c8de98c_5021_11ec_96be_0242ac1c0002row19_col13\" class=\"data row19 col13\" >0.237639</td>\n",
              "                        <td id=\"T_4c8de98c_5021_11ec_96be_0242ac1c0002row19_col14\" class=\"data row19 col14\" >-0.020608</td>\n",
              "                        <td id=\"T_4c8de98c_5021_11ec_96be_0242ac1c0002row19_col15\" class=\"data row19 col15\" >0.006744</td>\n",
              "                        <td id=\"T_4c8de98c_5021_11ec_96be_0242ac1c0002row19_col16\" class=\"data row19 col16\" >0.024054</td>\n",
              "                        <td id=\"T_4c8de98c_5021_11ec_96be_0242ac1c0002row19_col17\" class=\"data row19 col17\" >nan</td>\n",
              "                        <td id=\"T_4c8de98c_5021_11ec_96be_0242ac1c0002row19_col18\" class=\"data row19 col18\" >0.010136</td>\n",
              "                        <td id=\"T_4c8de98c_5021_11ec_96be_0242ac1c0002row19_col19\" class=\"data row19 col19\" >1.000000</td>\n",
              "                        <td id=\"T_4c8de98c_5021_11ec_96be_0242ac1c0002row19_col20\" class=\"data row19 col20\" >-0.035662</td>\n",
              "                        <td id=\"T_4c8de98c_5021_11ec_96be_0242ac1c0002row19_col21\" class=\"data row19 col21\" >0.001008</td>\n",
              "                        <td id=\"T_4c8de98c_5021_11ec_96be_0242ac1c0002row19_col22\" class=\"data row19 col22\" >0.628133</td>\n",
              "                        <td id=\"T_4c8de98c_5021_11ec_96be_0242ac1c0002row19_col23\" class=\"data row19 col23\" >0.460365</td>\n",
              "                        <td id=\"T_4c8de98c_5021_11ec_96be_0242ac1c0002row19_col24\" class=\"data row19 col24\" >0.404858</td>\n",
              "                        <td id=\"T_4c8de98c_5021_11ec_96be_0242ac1c0002row19_col25\" class=\"data row19 col25\" >0.459188</td>\n",
              "            </tr>\n",
              "            <tr>\n",
              "                        <th id=\"T_4c8de98c_5021_11ec_96be_0242ac1c0002level0_row20\" class=\"row_heading level0 row20\" >TrainingTimesLastYear</th>\n",
              "                        <td id=\"T_4c8de98c_5021_11ec_96be_0242ac1c0002row20_col0\" class=\"data row20 col0\" >-0.019621</td>\n",
              "                        <td id=\"T_4c8de98c_5021_11ec_96be_0242ac1c0002row20_col1\" class=\"data row20 col1\" >0.002453</td>\n",
              "                        <td id=\"T_4c8de98c_5021_11ec_96be_0242ac1c0002row20_col2\" class=\"data row20 col2\" >-0.036942</td>\n",
              "                        <td id=\"T_4c8de98c_5021_11ec_96be_0242ac1c0002row20_col3\" class=\"data row20 col3\" >-0.025100</td>\n",
              "                        <td id=\"T_4c8de98c_5021_11ec_96be_0242ac1c0002row20_col4\" class=\"data row20 col4\" >nan</td>\n",
              "                        <td id=\"T_4c8de98c_5021_11ec_96be_0242ac1c0002row20_col5\" class=\"data row20 col5\" >0.023603</td>\n",
              "                        <td id=\"T_4c8de98c_5021_11ec_96be_0242ac1c0002row20_col6\" class=\"data row20 col6\" >-0.019359</td>\n",
              "                        <td id=\"T_4c8de98c_5021_11ec_96be_0242ac1c0002row20_col7\" class=\"data row20 col7\" >-0.008548</td>\n",
              "                        <td id=\"T_4c8de98c_5021_11ec_96be_0242ac1c0002row20_col8\" class=\"data row20 col8\" >-0.015338</td>\n",
              "                        <td id=\"T_4c8de98c_5021_11ec_96be_0242ac1c0002row20_col9\" class=\"data row20 col9\" >-0.018191</td>\n",
              "                        <td id=\"T_4c8de98c_5021_11ec_96be_0242ac1c0002row20_col10\" class=\"data row20 col10\" >-0.005779</td>\n",
              "                        <td id=\"T_4c8de98c_5021_11ec_96be_0242ac1c0002row20_col11\" class=\"data row20 col11\" >-0.021736</td>\n",
              "                        <td id=\"T_4c8de98c_5021_11ec_96be_0242ac1c0002row20_col12\" class=\"data row20 col12\" >0.001467</td>\n",
              "                        <td id=\"T_4c8de98c_5021_11ec_96be_0242ac1c0002row20_col13\" class=\"data row20 col13\" >-0.066054</td>\n",
              "                        <td id=\"T_4c8de98c_5021_11ec_96be_0242ac1c0002row20_col14\" class=\"data row20 col14\" >-0.005221</td>\n",
              "                        <td id=\"T_4c8de98c_5021_11ec_96be_0242ac1c0002row20_col15\" class=\"data row20 col15\" >-0.015579</td>\n",
              "                        <td id=\"T_4c8de98c_5021_11ec_96be_0242ac1c0002row20_col16\" class=\"data row20 col16\" >0.002497</td>\n",
              "                        <td id=\"T_4c8de98c_5021_11ec_96be_0242ac1c0002row20_col17\" class=\"data row20 col17\" >nan</td>\n",
              "                        <td id=\"T_4c8de98c_5021_11ec_96be_0242ac1c0002row20_col18\" class=\"data row20 col18\" >0.011274</td>\n",
              "                        <td id=\"T_4c8de98c_5021_11ec_96be_0242ac1c0002row20_col19\" class=\"data row20 col19\" >-0.035662</td>\n",
              "                        <td id=\"T_4c8de98c_5021_11ec_96be_0242ac1c0002row20_col20\" class=\"data row20 col20\" >1.000000</td>\n",
              "                        <td id=\"T_4c8de98c_5021_11ec_96be_0242ac1c0002row20_col21\" class=\"data row20 col21\" >0.028072</td>\n",
              "                        <td id=\"T_4c8de98c_5021_11ec_96be_0242ac1c0002row20_col22\" class=\"data row20 col22\" >0.003569</td>\n",
              "                        <td id=\"T_4c8de98c_5021_11ec_96be_0242ac1c0002row20_col23\" class=\"data row20 col23\" >-0.005738</td>\n",
              "                        <td id=\"T_4c8de98c_5021_11ec_96be_0242ac1c0002row20_col24\" class=\"data row20 col24\" >-0.002067</td>\n",
              "                        <td id=\"T_4c8de98c_5021_11ec_96be_0242ac1c0002row20_col25\" class=\"data row20 col25\" >-0.004096</td>\n",
              "            </tr>\n",
              "            <tr>\n",
              "                        <th id=\"T_4c8de98c_5021_11ec_96be_0242ac1c0002level0_row21\" class=\"row_heading level0 row21\" >WorkLifeBalance</th>\n",
              "                        <td id=\"T_4c8de98c_5021_11ec_96be_0242ac1c0002row21_col0\" class=\"data row21 col0\" >-0.021490</td>\n",
              "                        <td id=\"T_4c8de98c_5021_11ec_96be_0242ac1c0002row21_col1\" class=\"data row21 col1\" >-0.037848</td>\n",
              "                        <td id=\"T_4c8de98c_5021_11ec_96be_0242ac1c0002row21_col2\" class=\"data row21 col2\" >-0.026556</td>\n",
              "                        <td id=\"T_4c8de98c_5021_11ec_96be_0242ac1c0002row21_col3\" class=\"data row21 col3\" >0.009819</td>\n",
              "                        <td id=\"T_4c8de98c_5021_11ec_96be_0242ac1c0002row21_col4\" class=\"data row21 col4\" >nan</td>\n",
              "                        <td id=\"T_4c8de98c_5021_11ec_96be_0242ac1c0002row21_col5\" class=\"data row21 col5\" >0.010309</td>\n",
              "                        <td id=\"T_4c8de98c_5021_11ec_96be_0242ac1c0002row21_col6\" class=\"data row21 col6\" >0.027627</td>\n",
              "                        <td id=\"T_4c8de98c_5021_11ec_96be_0242ac1c0002row21_col7\" class=\"data row21 col7\" >-0.004607</td>\n",
              "                        <td id=\"T_4c8de98c_5021_11ec_96be_0242ac1c0002row21_col8\" class=\"data row21 col8\" >-0.014617</td>\n",
              "                        <td id=\"T_4c8de98c_5021_11ec_96be_0242ac1c0002row21_col9\" class=\"data row21 col9\" >0.037818</td>\n",
              "                        <td id=\"T_4c8de98c_5021_11ec_96be_0242ac1c0002row21_col10\" class=\"data row21 col10\" >-0.019459</td>\n",
              "                        <td id=\"T_4c8de98c_5021_11ec_96be_0242ac1c0002row21_col11\" class=\"data row21 col11\" >0.030683</td>\n",
              "                        <td id=\"T_4c8de98c_5021_11ec_96be_0242ac1c0002row21_col12\" class=\"data row21 col12\" >0.007963</td>\n",
              "                        <td id=\"T_4c8de98c_5021_11ec_96be_0242ac1c0002row21_col13\" class=\"data row21 col13\" >-0.008366</td>\n",
              "                        <td id=\"T_4c8de98c_5021_11ec_96be_0242ac1c0002row21_col14\" class=\"data row21 col14\" >-0.003280</td>\n",
              "                        <td id=\"T_4c8de98c_5021_11ec_96be_0242ac1c0002row21_col15\" class=\"data row21 col15\" >0.002572</td>\n",
              "                        <td id=\"T_4c8de98c_5021_11ec_96be_0242ac1c0002row21_col16\" class=\"data row21 col16\" >0.019604</td>\n",
              "                        <td id=\"T_4c8de98c_5021_11ec_96be_0242ac1c0002row21_col17\" class=\"data row21 col17\" >nan</td>\n",
              "                        <td id=\"T_4c8de98c_5021_11ec_96be_0242ac1c0002row21_col18\" class=\"data row21 col18\" >0.004129</td>\n",
              "                        <td id=\"T_4c8de98c_5021_11ec_96be_0242ac1c0002row21_col19\" class=\"data row21 col19\" >0.001008</td>\n",
              "                        <td id=\"T_4c8de98c_5021_11ec_96be_0242ac1c0002row21_col20\" class=\"data row21 col20\" >0.028072</td>\n",
              "                        <td id=\"T_4c8de98c_5021_11ec_96be_0242ac1c0002row21_col21\" class=\"data row21 col21\" >1.000000</td>\n",
              "                        <td id=\"T_4c8de98c_5021_11ec_96be_0242ac1c0002row21_col22\" class=\"data row21 col22\" >0.012089</td>\n",
              "                        <td id=\"T_4c8de98c_5021_11ec_96be_0242ac1c0002row21_col23\" class=\"data row21 col23\" >0.049856</td>\n",
              "                        <td id=\"T_4c8de98c_5021_11ec_96be_0242ac1c0002row21_col24\" class=\"data row21 col24\" >0.008941</td>\n",
              "                        <td id=\"T_4c8de98c_5021_11ec_96be_0242ac1c0002row21_col25\" class=\"data row21 col25\" >0.002759</td>\n",
              "            </tr>\n",
              "            <tr>\n",
              "                        <th id=\"T_4c8de98c_5021_11ec_96be_0242ac1c0002level0_row22\" class=\"row_heading level0 row22\" >YearsAtCompany</th>\n",
              "                        <td id=\"T_4c8de98c_5021_11ec_96be_0242ac1c0002row22_col0\" class=\"data row22 col0\" >0.311309</td>\n",
              "                        <td id=\"T_4c8de98c_5021_11ec_96be_0242ac1c0002row22_col1\" class=\"data row22 col1\" >-0.034055</td>\n",
              "                        <td id=\"T_4c8de98c_5021_11ec_96be_0242ac1c0002row22_col2\" class=\"data row22 col2\" >0.009508</td>\n",
              "                        <td id=\"T_4c8de98c_5021_11ec_96be_0242ac1c0002row22_col3\" class=\"data row22 col3\" >0.069114</td>\n",
              "                        <td id=\"T_4c8de98c_5021_11ec_96be_0242ac1c0002row22_col4\" class=\"data row22 col4\" >nan</td>\n",
              "                        <td id=\"T_4c8de98c_5021_11ec_96be_0242ac1c0002row22_col5\" class=\"data row22 col5\" >-0.011240</td>\n",
              "                        <td id=\"T_4c8de98c_5021_11ec_96be_0242ac1c0002row22_col6\" class=\"data row22 col6\" >0.001458</td>\n",
              "                        <td id=\"T_4c8de98c_5021_11ec_96be_0242ac1c0002row22_col7\" class=\"data row22 col7\" >-0.019582</td>\n",
              "                        <td id=\"T_4c8de98c_5021_11ec_96be_0242ac1c0002row22_col8\" class=\"data row22 col8\" >-0.021355</td>\n",
              "                        <td id=\"T_4c8de98c_5021_11ec_96be_0242ac1c0002row22_col9\" class=\"data row22 col9\" >0.534739</td>\n",
              "                        <td id=\"T_4c8de98c_5021_11ec_96be_0242ac1c0002row22_col10\" class=\"data row22 col10\" >-0.003803</td>\n",
              "                        <td id=\"T_4c8de98c_5021_11ec_96be_0242ac1c0002row22_col11\" class=\"data row22 col11\" >0.514285</td>\n",
              "                        <td id=\"T_4c8de98c_5021_11ec_96be_0242ac1c0002row22_col12\" class=\"data row22 col12\" >-0.023655</td>\n",
              "                        <td id=\"T_4c8de98c_5021_11ec_96be_0242ac1c0002row22_col13\" class=\"data row22 col13\" >-0.118421</td>\n",
              "                        <td id=\"T_4c8de98c_5021_11ec_96be_0242ac1c0002row22_col14\" class=\"data row22 col14\" >-0.035991</td>\n",
              "                        <td id=\"T_4c8de98c_5021_11ec_96be_0242ac1c0002row22_col15\" class=\"data row22 col15\" >0.003435</td>\n",
              "                        <td id=\"T_4c8de98c_5021_11ec_96be_0242ac1c0002row22_col16\" class=\"data row22 col16\" >0.019367</td>\n",
              "                        <td id=\"T_4c8de98c_5021_11ec_96be_0242ac1c0002row22_col17\" class=\"data row22 col17\" >nan</td>\n",
              "                        <td id=\"T_4c8de98c_5021_11ec_96be_0242ac1c0002row22_col18\" class=\"data row22 col18\" >0.015058</td>\n",
              "                        <td id=\"T_4c8de98c_5021_11ec_96be_0242ac1c0002row22_col19\" class=\"data row22 col19\" >0.628133</td>\n",
              "                        <td id=\"T_4c8de98c_5021_11ec_96be_0242ac1c0002row22_col20\" class=\"data row22 col20\" >0.003569</td>\n",
              "                        <td id=\"T_4c8de98c_5021_11ec_96be_0242ac1c0002row22_col21\" class=\"data row22 col21\" >0.012089</td>\n",
              "                        <td id=\"T_4c8de98c_5021_11ec_96be_0242ac1c0002row22_col22\" class=\"data row22 col22\" >1.000000</td>\n",
              "                        <td id=\"T_4c8de98c_5021_11ec_96be_0242ac1c0002row22_col23\" class=\"data row22 col23\" >0.758754</td>\n",
              "                        <td id=\"T_4c8de98c_5021_11ec_96be_0242ac1c0002row22_col24\" class=\"data row22 col24\" >0.618409</td>\n",
              "                        <td id=\"T_4c8de98c_5021_11ec_96be_0242ac1c0002row22_col25\" class=\"data row22 col25\" >0.769212</td>\n",
              "            </tr>\n",
              "            <tr>\n",
              "                        <th id=\"T_4c8de98c_5021_11ec_96be_0242ac1c0002level0_row23\" class=\"row_heading level0 row23\" >YearsInCurrentRole</th>\n",
              "                        <td id=\"T_4c8de98c_5021_11ec_96be_0242ac1c0002row23_col0\" class=\"data row23 col0\" >0.212901</td>\n",
              "                        <td id=\"T_4c8de98c_5021_11ec_96be_0242ac1c0002row23_col1\" class=\"data row23 col1\" >0.009932</td>\n",
              "                        <td id=\"T_4c8de98c_5021_11ec_96be_0242ac1c0002row23_col2\" class=\"data row23 col2\" >0.018845</td>\n",
              "                        <td id=\"T_4c8de98c_5021_11ec_96be_0242ac1c0002row23_col3\" class=\"data row23 col3\" >0.060236</td>\n",
              "                        <td id=\"T_4c8de98c_5021_11ec_96be_0242ac1c0002row23_col4\" class=\"data row23 col4\" >nan</td>\n",
              "                        <td id=\"T_4c8de98c_5021_11ec_96be_0242ac1c0002row23_col5\" class=\"data row23 col5\" >-0.008416</td>\n",
              "                        <td id=\"T_4c8de98c_5021_11ec_96be_0242ac1c0002row23_col6\" class=\"data row23 col6\" >0.018007</td>\n",
              "                        <td id=\"T_4c8de98c_5021_11ec_96be_0242ac1c0002row23_col7\" class=\"data row23 col7\" >-0.024106</td>\n",
              "                        <td id=\"T_4c8de98c_5021_11ec_96be_0242ac1c0002row23_col8\" class=\"data row23 col8\" >0.008717</td>\n",
              "                        <td id=\"T_4c8de98c_5021_11ec_96be_0242ac1c0002row23_col9\" class=\"data row23 col9\" >0.389447</td>\n",
              "                        <td id=\"T_4c8de98c_5021_11ec_96be_0242ac1c0002row23_col10\" class=\"data row23 col10\" >-0.002305</td>\n",
              "                        <td id=\"T_4c8de98c_5021_11ec_96be_0242ac1c0002row23_col11\" class=\"data row23 col11\" >0.363818</td>\n",
              "                        <td id=\"T_4c8de98c_5021_11ec_96be_0242ac1c0002row23_col12\" class=\"data row23 col12\" >-0.012815</td>\n",
              "                        <td id=\"T_4c8de98c_5021_11ec_96be_0242ac1c0002row23_col13\" class=\"data row23 col13\" >-0.090754</td>\n",
              "                        <td id=\"T_4c8de98c_5021_11ec_96be_0242ac1c0002row23_col14\" class=\"data row23 col14\" >-0.001520</td>\n",
              "                        <td id=\"T_4c8de98c_5021_11ec_96be_0242ac1c0002row23_col15\" class=\"data row23 col15\" >0.034986</td>\n",
              "                        <td id=\"T_4c8de98c_5021_11ec_96be_0242ac1c0002row23_col16\" class=\"data row23 col16\" >-0.015123</td>\n",
              "                        <td id=\"T_4c8de98c_5021_11ec_96be_0242ac1c0002row23_col17\" class=\"data row23 col17\" >nan</td>\n",
              "                        <td id=\"T_4c8de98c_5021_11ec_96be_0242ac1c0002row23_col18\" class=\"data row23 col18\" >0.050818</td>\n",
              "                        <td id=\"T_4c8de98c_5021_11ec_96be_0242ac1c0002row23_col19\" class=\"data row23 col19\" >0.460365</td>\n",
              "                        <td id=\"T_4c8de98c_5021_11ec_96be_0242ac1c0002row23_col20\" class=\"data row23 col20\" >-0.005738</td>\n",
              "                        <td id=\"T_4c8de98c_5021_11ec_96be_0242ac1c0002row23_col21\" class=\"data row23 col21\" >0.049856</td>\n",
              "                        <td id=\"T_4c8de98c_5021_11ec_96be_0242ac1c0002row23_col22\" class=\"data row23 col22\" >0.758754</td>\n",
              "                        <td id=\"T_4c8de98c_5021_11ec_96be_0242ac1c0002row23_col23\" class=\"data row23 col23\" >1.000000</td>\n",
              "                        <td id=\"T_4c8de98c_5021_11ec_96be_0242ac1c0002row23_col24\" class=\"data row23 col24\" >0.548056</td>\n",
              "                        <td id=\"T_4c8de98c_5021_11ec_96be_0242ac1c0002row23_col25\" class=\"data row23 col25\" >0.714365</td>\n",
              "            </tr>\n",
              "            <tr>\n",
              "                        <th id=\"T_4c8de98c_5021_11ec_96be_0242ac1c0002level0_row24\" class=\"row_heading level0 row24\" >YearsSinceLastPromotion</th>\n",
              "                        <td id=\"T_4c8de98c_5021_11ec_96be_0242ac1c0002row24_col0\" class=\"data row24 col0\" >0.216513</td>\n",
              "                        <td id=\"T_4c8de98c_5021_11ec_96be_0242ac1c0002row24_col1\" class=\"data row24 col1\" >-0.033229</td>\n",
              "                        <td id=\"T_4c8de98c_5021_11ec_96be_0242ac1c0002row24_col2\" class=\"data row24 col2\" >0.010029</td>\n",
              "                        <td id=\"T_4c8de98c_5021_11ec_96be_0242ac1c0002row24_col3\" class=\"data row24 col3\" >0.054254</td>\n",
              "                        <td id=\"T_4c8de98c_5021_11ec_96be_0242ac1c0002row24_col4\" class=\"data row24 col4\" >nan</td>\n",
              "                        <td id=\"T_4c8de98c_5021_11ec_96be_0242ac1c0002row24_col5\" class=\"data row24 col5\" >-0.009019</td>\n",
              "                        <td id=\"T_4c8de98c_5021_11ec_96be_0242ac1c0002row24_col6\" class=\"data row24 col6\" >0.016194</td>\n",
              "                        <td id=\"T_4c8de98c_5021_11ec_96be_0242ac1c0002row24_col7\" class=\"data row24 col7\" >-0.026716</td>\n",
              "                        <td id=\"T_4c8de98c_5021_11ec_96be_0242ac1c0002row24_col8\" class=\"data row24 col8\" >-0.024184</td>\n",
              "                        <td id=\"T_4c8de98c_5021_11ec_96be_0242ac1c0002row24_col9\" class=\"data row24 col9\" >0.353885</td>\n",
              "                        <td id=\"T_4c8de98c_5021_11ec_96be_0242ac1c0002row24_col10\" class=\"data row24 col10\" >-0.018214</td>\n",
              "                        <td id=\"T_4c8de98c_5021_11ec_96be_0242ac1c0002row24_col11\" class=\"data row24 col11\" >0.344978</td>\n",
              "                        <td id=\"T_4c8de98c_5021_11ec_96be_0242ac1c0002row24_col12\" class=\"data row24 col12\" >0.001567</td>\n",
              "                        <td id=\"T_4c8de98c_5021_11ec_96be_0242ac1c0002row24_col13\" class=\"data row24 col13\" >-0.036814</td>\n",
              "                        <td id=\"T_4c8de98c_5021_11ec_96be_0242ac1c0002row24_col14\" class=\"data row24 col14\" >-0.022154</td>\n",
              "                        <td id=\"T_4c8de98c_5021_11ec_96be_0242ac1c0002row24_col15\" class=\"data row24 col15\" >0.017896</td>\n",
              "                        <td id=\"T_4c8de98c_5021_11ec_96be_0242ac1c0002row24_col16\" class=\"data row24 col16\" >0.033493</td>\n",
              "                        <td id=\"T_4c8de98c_5021_11ec_96be_0242ac1c0002row24_col17\" class=\"data row24 col17\" >nan</td>\n",
              "                        <td id=\"T_4c8de98c_5021_11ec_96be_0242ac1c0002row24_col18\" class=\"data row24 col18\" >0.014352</td>\n",
              "                        <td id=\"T_4c8de98c_5021_11ec_96be_0242ac1c0002row24_col19\" class=\"data row24 col19\" >0.404858</td>\n",
              "                        <td id=\"T_4c8de98c_5021_11ec_96be_0242ac1c0002row24_col20\" class=\"data row24 col20\" >-0.002067</td>\n",
              "                        <td id=\"T_4c8de98c_5021_11ec_96be_0242ac1c0002row24_col21\" class=\"data row24 col21\" >0.008941</td>\n",
              "                        <td id=\"T_4c8de98c_5021_11ec_96be_0242ac1c0002row24_col22\" class=\"data row24 col22\" >0.618409</td>\n",
              "                        <td id=\"T_4c8de98c_5021_11ec_96be_0242ac1c0002row24_col23\" class=\"data row24 col23\" >0.548056</td>\n",
              "                        <td id=\"T_4c8de98c_5021_11ec_96be_0242ac1c0002row24_col24\" class=\"data row24 col24\" >1.000000</td>\n",
              "                        <td id=\"T_4c8de98c_5021_11ec_96be_0242ac1c0002row24_col25\" class=\"data row24 col25\" >0.510224</td>\n",
              "            </tr>\n",
              "            <tr>\n",
              "                        <th id=\"T_4c8de98c_5021_11ec_96be_0242ac1c0002level0_row25\" class=\"row_heading level0 row25\" >YearsWithCurrManager</th>\n",
              "                        <td id=\"T_4c8de98c_5021_11ec_96be_0242ac1c0002row25_col0\" class=\"data row25 col0\" >0.202089</td>\n",
              "                        <td id=\"T_4c8de98c_5021_11ec_96be_0242ac1c0002row25_col1\" class=\"data row25 col1\" >-0.026363</td>\n",
              "                        <td id=\"T_4c8de98c_5021_11ec_96be_0242ac1c0002row25_col2\" class=\"data row25 col2\" >0.014406</td>\n",
              "                        <td id=\"T_4c8de98c_5021_11ec_96be_0242ac1c0002row25_col3\" class=\"data row25 col3\" >0.069065</td>\n",
              "                        <td id=\"T_4c8de98c_5021_11ec_96be_0242ac1c0002row25_col4\" class=\"data row25 col4\" >nan</td>\n",
              "                        <td id=\"T_4c8de98c_5021_11ec_96be_0242ac1c0002row25_col5\" class=\"data row25 col5\" >-0.009197</td>\n",
              "                        <td id=\"T_4c8de98c_5021_11ec_96be_0242ac1c0002row25_col6\" class=\"data row25 col6\" >-0.004999</td>\n",
              "                        <td id=\"T_4c8de98c_5021_11ec_96be_0242ac1c0002row25_col7\" class=\"data row25 col7\" >-0.020123</td>\n",
              "                        <td id=\"T_4c8de98c_5021_11ec_96be_0242ac1c0002row25_col8\" class=\"data row25 col8\" >0.025976</td>\n",
              "                        <td id=\"T_4c8de98c_5021_11ec_96be_0242ac1c0002row25_col9\" class=\"data row25 col9\" >0.375281</td>\n",
              "                        <td id=\"T_4c8de98c_5021_11ec_96be_0242ac1c0002row25_col10\" class=\"data row25 col10\" >-0.027656</td>\n",
              "                        <td id=\"T_4c8de98c_5021_11ec_96be_0242ac1c0002row25_col11\" class=\"data row25 col11\" >0.344079</td>\n",
              "                        <td id=\"T_4c8de98c_5021_11ec_96be_0242ac1c0002row25_col12\" class=\"data row25 col12\" >-0.036746</td>\n",
              "                        <td id=\"T_4c8de98c_5021_11ec_96be_0242ac1c0002row25_col13\" class=\"data row25 col13\" >-0.110319</td>\n",
              "                        <td id=\"T_4c8de98c_5021_11ec_96be_0242ac1c0002row25_col14\" class=\"data row25 col14\" >-0.011985</td>\n",
              "                        <td id=\"T_4c8de98c_5021_11ec_96be_0242ac1c0002row25_col15\" class=\"data row25 col15\" >0.022827</td>\n",
              "                        <td id=\"T_4c8de98c_5021_11ec_96be_0242ac1c0002row25_col16\" class=\"data row25 col16\" >-0.000867</td>\n",
              "                        <td id=\"T_4c8de98c_5021_11ec_96be_0242ac1c0002row25_col17\" class=\"data row25 col17\" >nan</td>\n",
              "                        <td id=\"T_4c8de98c_5021_11ec_96be_0242ac1c0002row25_col18\" class=\"data row25 col18\" >0.024698</td>\n",
              "                        <td id=\"T_4c8de98c_5021_11ec_96be_0242ac1c0002row25_col19\" class=\"data row25 col19\" >0.459188</td>\n",
              "                        <td id=\"T_4c8de98c_5021_11ec_96be_0242ac1c0002row25_col20\" class=\"data row25 col20\" >-0.004096</td>\n",
              "                        <td id=\"T_4c8de98c_5021_11ec_96be_0242ac1c0002row25_col21\" class=\"data row25 col21\" >0.002759</td>\n",
              "                        <td id=\"T_4c8de98c_5021_11ec_96be_0242ac1c0002row25_col22\" class=\"data row25 col22\" >0.769212</td>\n",
              "                        <td id=\"T_4c8de98c_5021_11ec_96be_0242ac1c0002row25_col23\" class=\"data row25 col23\" >0.714365</td>\n",
              "                        <td id=\"T_4c8de98c_5021_11ec_96be_0242ac1c0002row25_col24\" class=\"data row25 col24\" >0.510224</td>\n",
              "                        <td id=\"T_4c8de98c_5021_11ec_96be_0242ac1c0002row25_col25\" class=\"data row25 col25\" >1.000000</td>\n",
              "            </tr>\n",
              "    </tbody></table>"
            ],
            "text/plain": [
              "<pandas.io.formats.style.Styler at 0x7ff84caa6290>"
            ]
          },
          "metadata": {},
          "execution_count": 30
        }
      ]
    },
    {
      "cell_type": "markdown",
      "metadata": {
        "id": "0Ti8GlQdb432"
      },
      "source": [
        "When you divide by zero, you get NaN. Another way of putting it, the standard deviation of x or y cannot be 0. When you have a vector of identical values, the std is 0. The NaN, in this case, is interpretted as no correlation between the two variables."
      ]
    },
    {
      "cell_type": "markdown",
      "metadata": {
        "id": "WnuFHChtb7b4"
      },
      "source": [
        "##Histograms"
      ]
    },
    {
      "cell_type": "code",
      "metadata": {
        "colab": {
          "base_uri": "https://localhost:8080/"
        },
        "id": "hN4C5mDuT3n_",
        "outputId": "37870d99-be2a-4890-a99d-d1517a77552d"
      },
      "source": [
        "plt.title('Age');\n",
        "plt.hist(df['Age']);"
      ],
      "execution_count": null,
      "outputs": [
        {
          "output_type": "display_data",
          "data": {
            "image/png": "[encoded data removed]",
            "text/plain": [
              "<Figure size 432x288 with 1 Axes>"
            ]
          },
          "metadata": {
            "needs_background": "light"
          }
        }
      ]
    },
    {
      "cell_type": "code",
      "metadata": {
        "colab": {
          "base_uri": "https://localhost:8080/"
        },
        "id": "r3UZ0oB7T3jf",
        "outputId": "26d09fbd-960f-40e5-8be9-9682a0e8f220"
      },
      "source": [
        "plt.title('DailyRate');\n",
        "plt.hist(df['DailyRate'],color='orange');"
      ],
      "execution_count": null,
      "outputs": [
        {
          "output_type": "display_data",
          "data": {
            "image/png": "[encoded data removed]",
            "text/plain": [
              "<Figure size 432x288 with 1 Axes>"
            ]
          },
          "metadata": {
            "needs_background": "light"
          }
        }
      ]
    },
    {
      "cell_type": "code",
      "metadata": {
        "colab": {
          "base_uri": "https://localhost:8080/"
        },
        "id": "9s0Zk2vaTjql",
        "outputId": "55c5997e-a1b7-4e76-ae08-14f8f474645d"
      },
      "source": [
        "plt.title('DistanceFromHome');\n",
        "plt.hist(df['DistanceFromHome'],color='green');"
      ],
      "execution_count": null,
      "outputs": [
        {
          "output_type": "display_data",
          "data": {
            "image/png": "[encoded data removed]",
            "text/plain": [
              "<Figure size 432x288 with 1 Axes>"
            ]
          },
          "metadata": {
            "needs_background": "light"
          }
        }
      ]
    },
    {
      "cell_type": "code",
      "metadata": {
        "colab": {
          "base_uri": "https://localhost:8080/"
        },
        "id": "FEqsY9ucTjoY",
        "outputId": "dea99056-f44a-4b50-8467-f7e9bae57976"
      },
      "source": [
        "plt.title('HourlyRate');\n",
        "plt.hist(df['HourlyRate'],color='violet');"
      ],
      "execution_count": null,
      "outputs": [
        {
          "output_type": "display_data",
          "data": {
            "image/png": "[encoded data removed]",
            "text/plain": [
              "<Figure size 432x288 with 1 Axes>"
            ]
          },
          "metadata": {
            "needs_background": "light"
          }
        }
      ]
    },
    {
      "cell_type": "code",
      "metadata": {
        "colab": {
          "base_uri": "https://localhost:8080/"
        },
        "id": "0-hvbSA3UDM1",
        "outputId": "ebc661de-9540-4717-dc09-410944610cfe"
      },
      "source": [
        "plt.title('MonthlyIncome');\n",
        "plt.hist(df['MonthlyIncome'],color='red');"
      ],
      "execution_count": null,
      "outputs": [
        {
          "output_type": "display_data",
          "data": {
            "image/png": "[encoded data removed]",
            "text/plain": [
              "<Figure size 432x288 with 1 Axes>"
            ]
          },
          "metadata": {
            "needs_background": "light"
          }
        }
      ]
    },
    {
      "cell_type": "code",
      "metadata": {
        "colab": {
          "base_uri": "https://localhost:8080/"
        },
        "id": "wvuqDeKvUFMj",
        "outputId": "bef5c687-85c4-4cb4-ed55-8e055b4a8dc0"
      },
      "source": [
        "plt.title('PercentSalaryHike');\n",
        "plt.hist(df['PercentSalaryHike'],color='yellow');"
      ],
      "execution_count": null,
      "outputs": [
        {
          "output_type": "display_data",
          "data": {
            "image/png": "[encoded data removed]",
            "text/plain": [
              "<Figure size 432x288 with 1 Axes>"
            ]
          },
          "metadata": {
            "needs_background": "light"
          }
        }
      ]
    },
    {
      "cell_type": "markdown",
      "metadata": {
        "id": "tnSl7a6ZcAqE"
      },
      "source": [
        "##Bar graphs"
      ]
    },
    {
      "cell_type": "code",
      "metadata": {
        "colab": {
          "base_uri": "https://localhost:8080/"
        },
        "id": "SG3dJ8XUUHjp",
        "outputId": "39541fa7-cdbb-4d67-ceaa-9281d13bfd66"
      },
      "source": [
        "df['EducationField'].value_counts().plot(kind='barh').invert_yaxis()\n",
        "plt.title('Frequency of professionals from different Education Fields');"
      ],
      "execution_count": null,
      "outputs": [
        {
          "output_type": "display_data",
          "data": {
            "image/png": "[encoded data removed]",
            "text/plain": [
              "<Figure size 432x288 with 1 Axes>"
            ]
          },
          "metadata": {
            "needs_background": "light"
          }
        }
      ]
    },
    {
      "cell_type": "code",
      "metadata": {
        "colab": {
          "base_uri": "https://localhost:8080/"
        },
        "id": "8KID764uUJWT",
        "outputId": "73d5b158-2224-4972-a602-9cec2afee70d"
      },
      "source": [
        "df['JobRole'].value_counts().plot(kind='barh',color='orange').invert_yaxis()\n",
        "plt.title('Frequency of professionals from different Job Roles');"
      ],
      "execution_count": null,
      "outputs": [
        {
          "output_type": "display_data",
          "data": {
            "image/png": "[encoded data removed]",
            "text/plain": [
              "<Figure size 432x288 with 1 Axes>"
            ]
          },
          "metadata": {
            "needs_background": "light"
          }
        }
      ]
    },
    {
      "cell_type": "code",
      "metadata": {
        "colab": {
          "base_uri": "https://localhost:8080/"
        },
        "id": "BwXhhJNbULL5",
        "outputId": "5564a3bc-7e93-4257-aae4-519666fb1137"
      },
      "source": [
        "df['BusinessTravel'].value_counts().plot(kind='barh',color='green').invert_yaxis()\n",
        "plt.title('Frequency of travelling habits of professionals');"
      ],
      "execution_count": null,
      "outputs": [
        {
          "output_type": "display_data",
          "data": {
            "image/png": "[encoded data removed]",
            "text/plain": [
              "<Figure size 432x288 with 1 Axes>"
            ]
          },
          "metadata": {
            "needs_background": "light"
          }
        }
      ]
    },
    {
      "cell_type": "markdown",
      "metadata": {
        "id": "Og3Fl5wbdv93"
      },
      "source": [
        "##Pie Charts"
      ]
    },
    {
      "cell_type": "code",
      "metadata": {
        "colab": {
          "base_uri": "https://localhost:8080/"
        },
        "id": "qnW89gT7UNkC",
        "outputId": "f4c36e28-ea6b-4b20-d0a6-5660c211115b"
      },
      "source": [
        "#Piechart for JobSatisfaction\n",
        "jobsat_level = df.groupby('JobSatisfaction').agg('count')\n",
        "jobsat_labels = jobsat_level.Age.sort_values().index \n",
        "jobsat_counts = jobsat_level.Age.sort_values()\n",
        "\n",
        "plt.pie(jobsat_counts, labels = jobsat_labels, autopct='%1.1f%%');\n",
        "plt.title('Piechart indicating JobSatisfaction levels in employees');"
      ],
      "execution_count": null,
      "outputs": [
        {
          "output_type": "display_data",
          "data": {
            "image/png": "[encoded data removed]",
            "text/plain": [
              "<Figure size 432x288 with 1 Axes>"
            ]
          },
          "metadata": {}
        }
      ]
    },
    {
      "cell_type": "code",
      "metadata": {
        "colab": {
          "base_uri": "https://localhost:8080/"
        },
        "id": "YNMFPczMUP17",
        "outputId": "b0a87a83-4172-4112-f263-dee0c6167733"
      },
      "source": [
        "#Piechart for WorkLifeBalance\n",
        "WL_level = df.groupby('WorkLifeBalance').agg('count')\n",
        "WL_labels = WL_level.Age.sort_values().index \n",
        "WL_counts = WL_level.Age.sort_values()\n",
        "\n",
        "cmap = plt.get_cmap('Spectral')\n",
        "colors = [cmap(i) for i in np.linspace(0, 1, 8)]\n",
        "\n",
        "plt.pie(WL_counts, labels = WL_labels, colors=colors, autopct='%1.1f%%');\n",
        "plt.title('Piechart indicating WorkLifeBalance levels in employees');"
      ],
      "execution_count": null,
      "outputs": [
        {
          "output_type": "display_data",
          "data": {
            "image/png": "[encoded data removed]",
            "text/plain": [
              "<Figure size 432x288 with 1 Axes>"
            ]
          },
          "metadata": {}
        }
      ]
    },
    {
      "cell_type": "markdown",
      "metadata": {
        "id": "qESnwfkdd8ub"
      },
      "source": [
        "##Scatter Plot"
      ]
    },
    {
      "cell_type": "code",
      "metadata": {
        "colab": {
          "base_uri": "https://localhost:8080/"
        },
        "id": "GWflxUExUSk5",
        "outputId": "6603065a-343f-410c-bbbb-c69753be7f62"
      },
      "source": [
        "df.plot.scatter(x='TotalWorkingYears',y='MonthlyIncome');\n",
        "plt.title('Scatter Plot showing distribution of Monthly Income for employees based on total working years at company');"
      ],
      "execution_count": null,
      "outputs": [
        {
          "output_type": "display_data",
          "data": {
            "image/png": "[encoded data removed]",
            "text/plain": [
              "<Figure size 432x288 with 1 Axes>"
            ]
          },
          "metadata": {
            "needs_background": "light"
          }
        }
      ]
    },
    {
      "cell_type": "markdown",
      "metadata": {
        "id": "vE-tJDnGeBFq"
      },
      "source": [
        "##Bar graphs differentiating employees who stayed and left the firm"
      ]
    },
    {
      "cell_type": "code",
      "metadata": {
        "colab": {
          "base_uri": "https://localhost:8080/"
        },
        "id": "6XnF-VekUVdL",
        "outputId": "3948331f-fca5-4f64-abeb-c7c237d1b904"
      },
      "source": [
        "#For monthly income based on attrition\n",
        "df1 = df\n",
        "monthlyincome_range = []\n",
        "for row in df1['MonthlyIncome']:\n",
        "        if row < 2000 :    monthlyincome_range.append('<2000')\n",
        "        elif row < 4000:   monthlyincome_range.append('2001-4000')\n",
        "        elif row < 6000:   monthlyincome_range.append('4001-6000')\n",
        "        elif row < 8000:   monthlyincome_range.append('6001-8000')\n",
        "        elif row < 10000:  monthlyincome_range.append('8001-10000')\n",
        "        else:           monthlyincome_range.append('>10000')\n",
        "\n",
        "df1['monthlyincome_range'] = monthlyincome_range\n",
        "df1.head()"
      ],
      "execution_count": null,
      "outputs": [
        {
          "output_type": "execute_result",
          "data": {
            "text/html": [
              "<div>\n",
              "<style scoped>\n",
              "    .dataframe tbody tr th:only-of-type {\n",
              "        vertical-align: middle;\n",
              "    }\n",
              "\n",
              "    .dataframe tbody tr th {\n",
              "        vertical-align: top;\n",
              "    }\n",
              "\n",
              "    .dataframe thead th {\n",
              "        text-align: right;\n",
              "    }\n",
              "</style>\n",
              "<table border=\"1\" class=\"dataframe\">\n",
              "  <thead>\n",
              "    <tr style=\"text-align: right;\">\n",
              "      <th></th>\n",
              "      <th>Age</th>\n",
              "      <th>Attrition</th>\n",
              "      <th>BusinessTravel</th>\n",
              "      <th>DailyRate</th>\n",
              "      <th>Department</th>\n",
              "      <th>DistanceFromHome</th>\n",
              "      <th>Education</th>\n",
              "      <th>EducationField</th>\n",
              "      <th>EmployeeCount</th>\n",
              "      <th>EmployeeNumber</th>\n",
              "      <th>EnvironmentSatisfaction</th>\n",
              "      <th>Gender</th>\n",
              "      <th>HourlyRate</th>\n",
              "      <th>JobInvolvement</th>\n",
              "      <th>JobLevel</th>\n",
              "      <th>JobRole</th>\n",
              "      <th>JobSatisfaction</th>\n",
              "      <th>MaritalStatus</th>\n",
              "      <th>MonthlyIncome</th>\n",
              "      <th>MonthlyRate</th>\n",
              "      <th>NumCompaniesWorked</th>\n",
              "      <th>Over18</th>\n",
              "      <th>OverTime</th>\n",
              "      <th>PercentSalaryHike</th>\n",
              "      <th>PerformanceRating</th>\n",
              "      <th>RelationshipSatisfaction</th>\n",
              "      <th>StandardHours</th>\n",
              "      <th>StockOptionLevel</th>\n",
              "      <th>TotalWorkingYears</th>\n",
              "      <th>TrainingTimesLastYear</th>\n",
              "      <th>WorkLifeBalance</th>\n",
              "      <th>YearsAtCompany</th>\n",
              "      <th>YearsInCurrentRole</th>\n",
              "      <th>YearsSinceLastPromotion</th>\n",
              "      <th>YearsWithCurrManager</th>\n",
              "      <th>monthlyincome_range</th>\n",
              "      <th>age_range</th>\n",
              "      <th>DistanceFromHome_range</th>\n",
              "      <th>TotalWorkingYears_range</th>\n",
              "    </tr>\n",
              "  </thead>\n",
              "  <tbody>\n",
              "    <tr>\n",
              "      <th>0</th>\n",
              "      <td>41</td>\n",
              "      <td>Yes</td>\n",
              "      <td>Travel_Rarely</td>\n",
              "      <td>1102</td>\n",
              "      <td>Sales</td>\n",
              "      <td>1</td>\n",
              "      <td>2</td>\n",
              "      <td>Life Sciences</td>\n",
              "      <td>1</td>\n",
              "      <td>1</td>\n",
              "      <td>2</td>\n",
              "      <td>Female</td>\n",
              "      <td>94</td>\n",
              "      <td>3</td>\n",
              "      <td>2</td>\n",
              "      <td>Sales Executive</td>\n",
              "      <td>4</td>\n",
              "      <td>Single</td>\n",
              "      <td>5993</td>\n",
              "      <td>19479</td>\n",
              "      <td>8</td>\n",
              "      <td>Y</td>\n",
              "      <td>Yes</td>\n",
              "      <td>11</td>\n",
              "      <td>3</td>\n",
              "      <td>1</td>\n",
              "      <td>80</td>\n",
              "      <td>0</td>\n",
              "      <td>8</td>\n",
              "      <td>0</td>\n",
              "      <td>1</td>\n",
              "      <td>6</td>\n",
              "      <td>4</td>\n",
              "      <td>0</td>\n",
              "      <td>5</td>\n",
              "      <td>4001-6000</td>\n",
              "      <td>40-49</td>\n",
              "      <td>0-5</td>\n",
              "      <td>6-10</td>\n",
              "    </tr>\n",
              "    <tr>\n",
              "      <th>1</th>\n",
              "      <td>49</td>\n",
              "      <td>No</td>\n",
              "      <td>Travel_Frequently</td>\n",
              "      <td>279</td>\n",
              "      <td>Research &amp; Development</td>\n",
              "      <td>8</td>\n",
              "      <td>1</td>\n",
              "      <td>Life Sciences</td>\n",
              "      <td>1</td>\n",
              "      <td>2</td>\n",
              "      <td>3</td>\n",
              "      <td>Male</td>\n",
              "      <td>61</td>\n",
              "      <td>2</td>\n",
              "      <td>2</td>\n",
              "      <td>Research Scientist</td>\n",
              "      <td>2</td>\n",
              "      <td>Married</td>\n",
              "      <td>5130</td>\n",
              "      <td>24907</td>\n",
              "      <td>1</td>\n",
              "      <td>Y</td>\n",
              "      <td>No</td>\n",
              "      <td>23</td>\n",
              "      <td>4</td>\n",
              "      <td>4</td>\n",
              "      <td>80</td>\n",
              "      <td>1</td>\n",
              "      <td>10</td>\n",
              "      <td>3</td>\n",
              "      <td>3</td>\n",
              "      <td>10</td>\n",
              "      <td>7</td>\n",
              "      <td>1</td>\n",
              "      <td>7</td>\n",
              "      <td>4001-6000</td>\n",
              "      <td>40-49</td>\n",
              "      <td>6-10</td>\n",
              "      <td>6-10</td>\n",
              "    </tr>\n",
              "    <tr>\n",
              "      <th>2</th>\n",
              "      <td>37</td>\n",
              "      <td>Yes</td>\n",
              "      <td>Travel_Rarely</td>\n",
              "      <td>1373</td>\n",
              "      <td>Research &amp; Development</td>\n",
              "      <td>2</td>\n",
              "      <td>2</td>\n",
              "      <td>Other</td>\n",
              "      <td>1</td>\n",
              "      <td>4</td>\n",
              "      <td>4</td>\n",
              "      <td>Male</td>\n",
              "      <td>92</td>\n",
              "      <td>2</td>\n",
              "      <td>1</td>\n",
              "      <td>Laboratory Technician</td>\n",
              "      <td>3</td>\n",
              "      <td>Single</td>\n",
              "      <td>2090</td>\n",
              "      <td>2396</td>\n",
              "      <td>6</td>\n",
              "      <td>Y</td>\n",
              "      <td>Yes</td>\n",
              "      <td>15</td>\n",
              "      <td>3</td>\n",
              "      <td>2</td>\n",
              "      <td>80</td>\n",
              "      <td>0</td>\n",
              "      <td>7</td>\n",
              "      <td>3</td>\n",
              "      <td>3</td>\n",
              "      <td>0</td>\n",
              "      <td>0</td>\n",
              "      <td>0</td>\n",
              "      <td>0</td>\n",
              "      <td>2001-4000</td>\n",
              "      <td>30-39</td>\n",
              "      <td>0-5</td>\n",
              "      <td>6-10</td>\n",
              "    </tr>\n",
              "    <tr>\n",
              "      <th>3</th>\n",
              "      <td>33</td>\n",
              "      <td>No</td>\n",
              "      <td>Travel_Frequently</td>\n",
              "      <td>1392</td>\n",
              "      <td>Research &amp; Development</td>\n",
              "      <td>3</td>\n",
              "      <td>4</td>\n",
              "      <td>Life Sciences</td>\n",
              "      <td>1</td>\n",
              "      <td>5</td>\n",
              "      <td>4</td>\n",
              "      <td>Female</td>\n",
              "      <td>56</td>\n",
              "      <td>3</td>\n",
              "      <td>1</td>\n",
              "      <td>Research Scientist</td>\n",
              "      <td>3</td>\n",
              "      <td>Married</td>\n",
              "      <td>2909</td>\n",
              "      <td>23159</td>\n",
              "      <td>1</td>\n",
              "      <td>Y</td>\n",
              "      <td>Yes</td>\n",
              "      <td>11</td>\n",
              "      <td>3</td>\n",
              "      <td>3</td>\n",
              "      <td>80</td>\n",
              "      <td>0</td>\n",
              "      <td>8</td>\n",
              "      <td>3</td>\n",
              "      <td>3</td>\n",
              "      <td>8</td>\n",
              "      <td>7</td>\n",
              "      <td>3</td>\n",
              "      <td>0</td>\n",
              "      <td>2001-4000</td>\n",
              "      <td>30-39</td>\n",
              "      <td>0-5</td>\n",
              "      <td>6-10</td>\n",
              "    </tr>\n",
              "    <tr>\n",
              "      <th>4</th>\n",
              "      <td>27</td>\n",
              "      <td>No</td>\n",
              "      <td>Travel_Rarely</td>\n",
              "      <td>591</td>\n",
              "      <td>Research &amp; Development</td>\n",
              "      <td>2</td>\n",
              "      <td>1</td>\n",
              "      <td>Medical</td>\n",
              "      <td>1</td>\n",
              "      <td>7</td>\n",
              "      <td>1</td>\n",
              "      <td>Male</td>\n",
              "      <td>40</td>\n",
              "      <td>3</td>\n",
              "      <td>1</td>\n",
              "      <td>Laboratory Technician</td>\n",
              "      <td>2</td>\n",
              "      <td>Married</td>\n",
              "      <td>3468</td>\n",
              "      <td>16632</td>\n",
              "      <td>9</td>\n",
              "      <td>Y</td>\n",
              "      <td>No</td>\n",
              "      <td>12</td>\n",
              "      <td>3</td>\n",
              "      <td>4</td>\n",
              "      <td>80</td>\n",
              "      <td>1</td>\n",
              "      <td>6</td>\n",
              "      <td>3</td>\n",
              "      <td>3</td>\n",
              "      <td>2</td>\n",
              "      <td>2</td>\n",
              "      <td>2</td>\n",
              "      <td>2</td>\n",
              "      <td>2001-4000</td>\n",
              "      <td>20-29</td>\n",
              "      <td>0-5</td>\n",
              "      <td>6-10</td>\n",
              "    </tr>\n",
              "  </tbody>\n",
              "</table>\n",
              "</div>"
            ],
            "text/plain": [
              "   Age Attrition  ... DistanceFromHome_range  TotalWorkingYears_range\n",
              "0   41       Yes  ...                    0-5                     6-10\n",
              "1   49        No  ...                   6-10                     6-10\n",
              "2   37       Yes  ...                    0-5                     6-10\n",
              "3   33        No  ...                    0-5                     6-10\n",
              "4   27        No  ...                    0-5                     6-10\n",
              "\n",
              "[5 rows x 39 columns]"
            ]
          },
          "metadata": {},
          "execution_count": 73
        }
      ]
    },
    {
      "cell_type": "code",
      "metadata": {
        "colab": {
          "base_uri": "https://localhost:8080/"
        },
        "id": "Uoe4PXvZUXrI",
        "outputId": "fb1782cb-2e56-4698-d72b-5bb38921defe"
      },
      "source": [
        "df1['monthlyincome_range'].value_counts()"
      ],
      "execution_count": null,
      "outputs": [
        {
          "output_type": "execute_result",
          "data": {
            "text/plain": [
              "2001-4000     509\n",
              "4001-6000     372\n",
              ">10000        281\n",
              "6001-8000     175\n",
              "8001-10000    100\n",
              "<2000          33\n",
              "Name: monthlyincome_range, dtype: int64"
            ]
          },
          "metadata": {},
          "execution_count": 74
        }
      ]
    },
    {
      "cell_type": "code",
      "metadata": {
        "colab": {
          "base_uri": "https://localhost:8080/"
        },
        "id": "P-FKlj2SUZpE",
        "outputId": "561fb221-909d-4aa9-c850-1c618eae7520"
      },
      "source": [
        "df2 = df1[df1['Attrition']=='Yes']\n",
        "df2['monthlyincome_range'].value_counts()"
      ],
      "execution_count": null,
      "outputs": [
        {
          "output_type": "execute_result",
          "data": {
            "text/plain": [
              "2001-4000     119\n",
              "4001-6000      42\n",
              ">10000         25\n",
              "6001-8000      18\n",
              "<2000          18\n",
              "8001-10000     15\n",
              "Name: monthlyincome_range, dtype: int64"
            ]
          },
          "metadata": {},
          "execution_count": 75
        }
      ]
    },
    {
      "cell_type": "code",
      "metadata": {
        "colab": {
          "base_uri": "https://localhost:8080/"
        },
        "id": "hJiSTfyGUbaG",
        "outputId": "61766f17-af91-44c3-9140-886e09bc7b3b"
      },
      "source": [
        "df3 = df1[df1['Attrition']=='No']\n",
        "df3['monthlyincome_range'].value_counts()"
      ],
      "execution_count": null,
      "outputs": [
        {
          "output_type": "execute_result",
          "data": {
            "text/plain": [
              "2001-4000     390\n",
              "4001-6000     330\n",
              ">10000        256\n",
              "6001-8000     157\n",
              "8001-10000     85\n",
              "<2000          15\n",
              "Name: monthlyincome_range, dtype: int64"
            ]
          },
          "metadata": {},
          "execution_count": 76
        }
      ]
    },
    {
      "cell_type": "code",
      "metadata": {
        "colab": {
          "base_uri": "https://localhost:8080/"
        },
        "id": "nvJy7QE1Udnl",
        "outputId": "e663944f-5b0a-43fb-d205-2f76484b72ee"
      },
      "source": [
        "# creating dataframe\n",
        "df_a = pd.DataFrame({\n",
        "    'MonthlyIncomeRange': ['<2000', '2001-4000', '4001-6000','6001-8000','8001-10000','>10000'],\n",
        "    'Yes': [18, 119, 42, 18, 15, 25],\n",
        "    'No': [15, 390, 330, 157, 85, 256]\n",
        "})\n",
        "  \n",
        "df_a.plot(x=\"MonthlyIncomeRange\", y=[\"Yes\", \"No\"], kind=\"bar\");\n",
        "plt.title('Monthly Income Ranges Bar graph based on attrition');"
      ],
      "execution_count": null,
      "outputs": [
        {
          "output_type": "display_data",
          "data": {
            "image/png": "[encoded data removed]",
            "text/plain": [
              "<Figure size 432x288 with 1 Axes>"
            ]
          },
          "metadata": {
            "needs_background": "light"
          }
        }
      ]
    },
    {
      "cell_type": "code",
      "metadata": {
        "colab": {
          "base_uri": "https://localhost:8080/"
        },
        "id": "xhoJxbBDUgKe",
        "outputId": "f934fb55-46b3-4621-8c1a-8fcec8980703"
      },
      "source": [
        "#Age range based on attrition\n",
        "\n",
        "df4 = df\n",
        "age_range = []\n",
        "for row in df4['Age']:\n",
        "        if row < 20 :    age_range.append('18-19')\n",
        "        elif row < 30:   age_range.append('20-29')\n",
        "        elif row < 40:   age_range.append('30-39')\n",
        "        elif row < 50:   age_range.append('40-49')\n",
        "        else:           age_range.append('50+')\n",
        "\n",
        "df4['age_range'] = age_range\n",
        "df4.head()"
      ],
      "execution_count": null,
      "outputs": [
        {
          "output_type": "execute_result",
          "data": {
            "text/html": [
              "<div>\n",
              "<style scoped>\n",
              "    .dataframe tbody tr th:only-of-type {\n",
              "        vertical-align: middle;\n",
              "    }\n",
              "\n",
              "    .dataframe tbody tr th {\n",
              "        vertical-align: top;\n",
              "    }\n",
              "\n",
              "    .dataframe thead th {\n",
              "        text-align: right;\n",
              "    }\n",
              "</style>\n",
              "<table border=\"1\" class=\"dataframe\">\n",
              "  <thead>\n",
              "    <tr style=\"text-align: right;\">\n",
              "      <th></th>\n",
              "      <th>Age</th>\n",
              "      <th>Attrition</th>\n",
              "      <th>BusinessTravel</th>\n",
              "      <th>DailyRate</th>\n",
              "      <th>Department</th>\n",
              "      <th>DistanceFromHome</th>\n",
              "      <th>Education</th>\n",
              "      <th>EducationField</th>\n",
              "      <th>EmployeeCount</th>\n",
              "      <th>EmployeeNumber</th>\n",
              "      <th>EnvironmentSatisfaction</th>\n",
              "      <th>Gender</th>\n",
              "      <th>HourlyRate</th>\n",
              "      <th>JobInvolvement</th>\n",
              "      <th>JobLevel</th>\n",
              "      <th>JobRole</th>\n",
              "      <th>JobSatisfaction</th>\n",
              "      <th>MaritalStatus</th>\n",
              "      <th>MonthlyIncome</th>\n",
              "      <th>MonthlyRate</th>\n",
              "      <th>NumCompaniesWorked</th>\n",
              "      <th>Over18</th>\n",
              "      <th>OverTime</th>\n",
              "      <th>PercentSalaryHike</th>\n",
              "      <th>PerformanceRating</th>\n",
              "      <th>RelationshipSatisfaction</th>\n",
              "      <th>StandardHours</th>\n",
              "      <th>StockOptionLevel</th>\n",
              "      <th>TotalWorkingYears</th>\n",
              "      <th>TrainingTimesLastYear</th>\n",
              "      <th>WorkLifeBalance</th>\n",
              "      <th>YearsAtCompany</th>\n",
              "      <th>YearsInCurrentRole</th>\n",
              "      <th>YearsSinceLastPromotion</th>\n",
              "      <th>YearsWithCurrManager</th>\n",
              "      <th>monthlyincome_range</th>\n",
              "      <th>age_range</th>\n",
              "      <th>DistanceFromHome_range</th>\n",
              "      <th>TotalWorkingYears_range</th>\n",
              "    </tr>\n",
              "  </thead>\n",
              "  <tbody>\n",
              "    <tr>\n",
              "      <th>0</th>\n",
              "      <td>41</td>\n",
              "      <td>Yes</td>\n",
              "      <td>Travel_Rarely</td>\n",
              "      <td>1102</td>\n",
              "      <td>Sales</td>\n",
              "      <td>1</td>\n",
              "      <td>2</td>\n",
              "      <td>Life Sciences</td>\n",
              "      <td>1</td>\n",
              "      <td>1</td>\n",
              "      <td>2</td>\n",
              "      <td>Female</td>\n",
              "      <td>94</td>\n",
              "      <td>3</td>\n",
              "      <td>2</td>\n",
              "      <td>Sales Executive</td>\n",
              "      <td>4</td>\n",
              "      <td>Single</td>\n",
              "      <td>5993</td>\n",
              "      <td>19479</td>\n",
              "      <td>8</td>\n",
              "      <td>Y</td>\n",
              "      <td>Yes</td>\n",
              "      <td>11</td>\n",
              "      <td>3</td>\n",
              "      <td>1</td>\n",
              "      <td>80</td>\n",
              "      <td>0</td>\n",
              "      <td>8</td>\n",
              "      <td>0</td>\n",
              "      <td>1</td>\n",
              "      <td>6</td>\n",
              "      <td>4</td>\n",
              "      <td>0</td>\n",
              "      <td>5</td>\n",
              "      <td>4001-6000</td>\n",
              "      <td>40-49</td>\n",
              "      <td>0-5</td>\n",
              "      <td>6-10</td>\n",
              "    </tr>\n",
              "    <tr>\n",
              "      <th>1</th>\n",
              "      <td>49</td>\n",
              "      <td>No</td>\n",
              "      <td>Travel_Frequently</td>\n",
              "      <td>279</td>\n",
              "      <td>Research &amp; Development</td>\n",
              "      <td>8</td>\n",
              "      <td>1</td>\n",
              "      <td>Life Sciences</td>\n",
              "      <td>1</td>\n",
              "      <td>2</td>\n",
              "      <td>3</td>\n",
              "      <td>Male</td>\n",
              "      <td>61</td>\n",
              "      <td>2</td>\n",
              "      <td>2</td>\n",
              "      <td>Research Scientist</td>\n",
              "      <td>2</td>\n",
              "      <td>Married</td>\n",
              "      <td>5130</td>\n",
              "      <td>24907</td>\n",
              "      <td>1</td>\n",
              "      <td>Y</td>\n",
              "      <td>No</td>\n",
              "      <td>23</td>\n",
              "      <td>4</td>\n",
              "      <td>4</td>\n",
              "      <td>80</td>\n",
              "      <td>1</td>\n",
              "      <td>10</td>\n",
              "      <td>3</td>\n",
              "      <td>3</td>\n",
              "      <td>10</td>\n",
              "      <td>7</td>\n",
              "      <td>1</td>\n",
              "      <td>7</td>\n",
              "      <td>4001-6000</td>\n",
              "      <td>40-49</td>\n",
              "      <td>6-10</td>\n",
              "      <td>6-10</td>\n",
              "    </tr>\n",
              "    <tr>\n",
              "      <th>2</th>\n",
              "      <td>37</td>\n",
              "      <td>Yes</td>\n",
              "      <td>Travel_Rarely</td>\n",
              "      <td>1373</td>\n",
              "      <td>Research &amp; Development</td>\n",
              "      <td>2</td>\n",
              "      <td>2</td>\n",
              "      <td>Other</td>\n",
              "      <td>1</td>\n",
              "      <td>4</td>\n",
              "      <td>4</td>\n",
              "      <td>Male</td>\n",
              "      <td>92</td>\n",
              "      <td>2</td>\n",
              "      <td>1</td>\n",
              "      <td>Laboratory Technician</td>\n",
              "      <td>3</td>\n",
              "      <td>Single</td>\n",
              "      <td>2090</td>\n",
              "      <td>2396</td>\n",
              "      <td>6</td>\n",
              "      <td>Y</td>\n",
              "      <td>Yes</td>\n",
              "      <td>15</td>\n",
              "      <td>3</td>\n",
              "      <td>2</td>\n",
              "      <td>80</td>\n",
              "      <td>0</td>\n",
              "      <td>7</td>\n",
              "      <td>3</td>\n",
              "      <td>3</td>\n",
              "      <td>0</td>\n",
              "      <td>0</td>\n",
              "      <td>0</td>\n",
              "      <td>0</td>\n",
              "      <td>2001-4000</td>\n",
              "      <td>30-39</td>\n",
              "      <td>0-5</td>\n",
              "      <td>6-10</td>\n",
              "    </tr>\n",
              "    <tr>\n",
              "      <th>3</th>\n",
              "      <td>33</td>\n",
              "      <td>No</td>\n",
              "      <td>Travel_Frequently</td>\n",
              "      <td>1392</td>\n",
              "      <td>Research &amp; Development</td>\n",
              "      <td>3</td>\n",
              "      <td>4</td>\n",
              "      <td>Life Sciences</td>\n",
              "      <td>1</td>\n",
              "      <td>5</td>\n",
              "      <td>4</td>\n",
              "      <td>Female</td>\n",
              "      <td>56</td>\n",
              "      <td>3</td>\n",
              "      <td>1</td>\n",
              "      <td>Research Scientist</td>\n",
              "      <td>3</td>\n",
              "      <td>Married</td>\n",
              "      <td>2909</td>\n",
              "      <td>23159</td>\n",
              "      <td>1</td>\n",
              "      <td>Y</td>\n",
              "      <td>Yes</td>\n",
              "      <td>11</td>\n",
              "      <td>3</td>\n",
              "      <td>3</td>\n",
              "      <td>80</td>\n",
              "      <td>0</td>\n",
              "      <td>8</td>\n",
              "      <td>3</td>\n",
              "      <td>3</td>\n",
              "      <td>8</td>\n",
              "      <td>7</td>\n",
              "      <td>3</td>\n",
              "      <td>0</td>\n",
              "      <td>2001-4000</td>\n",
              "      <td>30-39</td>\n",
              "      <td>0-5</td>\n",
              "      <td>6-10</td>\n",
              "    </tr>\n",
              "    <tr>\n",
              "      <th>4</th>\n",
              "      <td>27</td>\n",
              "      <td>No</td>\n",
              "      <td>Travel_Rarely</td>\n",
              "      <td>591</td>\n",
              "      <td>Research &amp; Development</td>\n",
              "      <td>2</td>\n",
              "      <td>1</td>\n",
              "      <td>Medical</td>\n",
              "      <td>1</td>\n",
              "      <td>7</td>\n",
              "      <td>1</td>\n",
              "      <td>Male</td>\n",
              "      <td>40</td>\n",
              "      <td>3</td>\n",
              "      <td>1</td>\n",
              "      <td>Laboratory Technician</td>\n",
              "      <td>2</td>\n",
              "      <td>Married</td>\n",
              "      <td>3468</td>\n",
              "      <td>16632</td>\n",
              "      <td>9</td>\n",
              "      <td>Y</td>\n",
              "      <td>No</td>\n",
              "      <td>12</td>\n",
              "      <td>3</td>\n",
              "      <td>4</td>\n",
              "      <td>80</td>\n",
              "      <td>1</td>\n",
              "      <td>6</td>\n",
              "      <td>3</td>\n",
              "      <td>3</td>\n",
              "      <td>2</td>\n",
              "      <td>2</td>\n",
              "      <td>2</td>\n",
              "      <td>2</td>\n",
              "      <td>2001-4000</td>\n",
              "      <td>20-29</td>\n",
              "      <td>0-5</td>\n",
              "      <td>6-10</td>\n",
              "    </tr>\n",
              "  </tbody>\n",
              "</table>\n",
              "</div>"
            ],
            "text/plain": [
              "   Age Attrition  ... DistanceFromHome_range  TotalWorkingYears_range\n",
              "0   41       Yes  ...                    0-5                     6-10\n",
              "1   49        No  ...                   6-10                     6-10\n",
              "2   37       Yes  ...                    0-5                     6-10\n",
              "3   33        No  ...                    0-5                     6-10\n",
              "4   27        No  ...                    0-5                     6-10\n",
              "\n",
              "[5 rows x 39 columns]"
            ]
          },
          "metadata": {},
          "execution_count": 78
        }
      ]
    },
    {
      "cell_type": "code",
      "metadata": {
        "colab": {
          "base_uri": "https://localhost:8080/"
        },
        "id": "7nCGSUT7UkWI",
        "outputId": "d85bcc31-970d-436f-936a-753d99d099ae"
      },
      "source": [
        "df4['age_range'].value_counts()"
      ],
      "execution_count": null,
      "outputs": [
        {
          "output_type": "execute_result",
          "data": {
            "text/plain": [
              "30-39    622\n",
              "40-49    349\n",
              "20-29    309\n",
              "50+      173\n",
              "18-19     17\n",
              "Name: age_range, dtype: int64"
            ]
          },
          "metadata": {},
          "execution_count": 79
        }
      ]
    },
    {
      "cell_type": "code",
      "metadata": {
        "colab": {
          "base_uri": "https://localhost:8080/"
        },
        "id": "XslblpvMUl85",
        "outputId": "d46de36a-d1dd-4c50-c8ee-3f27262c683c"
      },
      "source": [
        "df5 = df4[df4['Attrition']=='Yes']\n",
        "df5['age_range'].value_counts()"
      ],
      "execution_count": null,
      "outputs": [
        {
          "output_type": "execute_result",
          "data": {
            "text/plain": [
              "30-39    89\n",
              "20-29    81\n",
              "40-49    34\n",
              "50+      23\n",
              "18-19    10\n",
              "Name: age_range, dtype: int64"
            ]
          },
          "metadata": {},
          "execution_count": 80
        }
      ]
    },
    {
      "cell_type": "code",
      "metadata": {
        "colab": {
          "base_uri": "https://localhost:8080/"
        },
        "id": "PgG6_kOrUnoK",
        "outputId": "32ec4af4-9f8b-45ae-9fa7-ef649315ea81"
      },
      "source": [
        "df6 = df4[df4['Attrition']=='No']\n",
        "df6['age_range'].value_counts()"
      ],
      "execution_count": null,
      "outputs": [
        {
          "output_type": "execute_result",
          "data": {
            "text/plain": [
              "30-39    533\n",
              "40-49    315\n",
              "20-29    228\n",
              "50+      150\n",
              "18-19      7\n",
              "Name: age_range, dtype: int64"
            ]
          },
          "metadata": {},
          "execution_count": 81
        }
      ]
    },
    {
      "cell_type": "code",
      "metadata": {
        "colab": {
          "base_uri": "https://localhost:8080/"
        },
        "id": "u2HF3uHsUptA",
        "outputId": "e93b5534-87b1-42fa-b5d2-ed8be243abfc"
      },
      "source": [
        "# creating dataframe\n",
        "df_a = pd.DataFrame({\n",
        "    'AgeRange': ['18-19', '20-29', '30-39','40-49','50+'],\n",
        "    'Yes': [10, 81, 89, 34, 23],\n",
        "    'No': [7, 228, 533, 315, 150]\n",
        "})\n",
        "  \n",
        "df_a.plot(x=\"AgeRange\", y=[\"Yes\", \"No\"], kind=\"bar\");\n",
        "plt.title('Age Ranges Bar graph based on attrition');"
      ],
      "execution_count": null,
      "outputs": [
        {
          "output_type": "display_data",
          "data": {
            "image/png": "[encoded data removed]",
            "text/plain": [
              "<Figure size 432x288 with 1 Axes>"
            ]
          },
          "metadata": {
            "needs_background": "light"
          }
        }
      ]
    },
    {
      "cell_type": "code",
      "metadata": {
        "colab": {
          "base_uri": "https://localhost:8080/"
        },
        "id": "uYpciySMUruV",
        "outputId": "1accbe8b-e5ff-41ef-fbb1-859e55a7a1d1"
      },
      "source": [
        "#Distance From Home range based on attrition\n",
        "\n",
        "df7 = df\n",
        "DistanceFromHome_range = []\n",
        "for row in df7['DistanceFromHome']:\n",
        "        if row < 6 :    DistanceFromHome_range.append('0-5')\n",
        "        elif row < 11:   DistanceFromHome_range.append('6-10')\n",
        "        elif row < 16:   DistanceFromHome_range.append('11-15')\n",
        "        elif row < 21:   DistanceFromHome_range.append('16-20')\n",
        "        else:          DistanceFromHome_range.append('>20')\n",
        "\n",
        "df7['DistanceFromHome_range'] = DistanceFromHome_range\n",
        "df7.head()"
      ],
      "execution_count": null,
      "outputs": [
        {
          "output_type": "execute_result",
          "data": {
            "text/html": [
              "<div>\n",
              "<style scoped>\n",
              "    .dataframe tbody tr th:only-of-type {\n",
              "        vertical-align: middle;\n",
              "    }\n",
              "\n",
              "    .dataframe tbody tr th {\n",
              "        vertical-align: top;\n",
              "    }\n",
              "\n",
              "    .dataframe thead th {\n",
              "        text-align: right;\n",
              "    }\n",
              "</style>\n",
              "<table border=\"1\" class=\"dataframe\">\n",
              "  <thead>\n",
              "    <tr style=\"text-align: right;\">\n",
              "      <th></th>\n",
              "      <th>Age</th>\n",
              "      <th>Attrition</th>\n",
              "      <th>BusinessTravel</th>\n",
              "      <th>DailyRate</th>\n",
              "      <th>Department</th>\n",
              "      <th>DistanceFromHome</th>\n",
              "      <th>Education</th>\n",
              "      <th>EducationField</th>\n",
              "      <th>EmployeeCount</th>\n",
              "      <th>EmployeeNumber</th>\n",
              "      <th>EnvironmentSatisfaction</th>\n",
              "      <th>Gender</th>\n",
              "      <th>HourlyRate</th>\n",
              "      <th>JobInvolvement</th>\n",
              "      <th>JobLevel</th>\n",
              "      <th>JobRole</th>\n",
              "      <th>JobSatisfaction</th>\n",
              "      <th>MaritalStatus</th>\n",
              "      <th>MonthlyIncome</th>\n",
              "      <th>MonthlyRate</th>\n",
              "      <th>NumCompaniesWorked</th>\n",
              "      <th>Over18</th>\n",
              "      <th>OverTime</th>\n",
              "      <th>PercentSalaryHike</th>\n",
              "      <th>PerformanceRating</th>\n",
              "      <th>RelationshipSatisfaction</th>\n",
              "      <th>StandardHours</th>\n",
              "      <th>StockOptionLevel</th>\n",
              "      <th>TotalWorkingYears</th>\n",
              "      <th>TrainingTimesLastYear</th>\n",
              "      <th>WorkLifeBalance</th>\n",
              "      <th>YearsAtCompany</th>\n",
              "      <th>YearsInCurrentRole</th>\n",
              "      <th>YearsSinceLastPromotion</th>\n",
              "      <th>YearsWithCurrManager</th>\n",
              "      <th>monthlyincome_range</th>\n",
              "      <th>age_range</th>\n",
              "      <th>DistanceFromHome_range</th>\n",
              "      <th>TotalWorkingYears_range</th>\n",
              "    </tr>\n",
              "  </thead>\n",
              "  <tbody>\n",
              "    <tr>\n",
              "      <th>0</th>\n",
              "      <td>41</td>\n",
              "      <td>Yes</td>\n",
              "      <td>Travel_Rarely</td>\n",
              "      <td>1102</td>\n",
              "      <td>Sales</td>\n",
              "      <td>1</td>\n",
              "      <td>2</td>\n",
              "      <td>Life Sciences</td>\n",
              "      <td>1</td>\n",
              "      <td>1</td>\n",
              "      <td>2</td>\n",
              "      <td>Female</td>\n",
              "      <td>94</td>\n",
              "      <td>3</td>\n",
              "      <td>2</td>\n",
              "      <td>Sales Executive</td>\n",
              "      <td>4</td>\n",
              "      <td>Single</td>\n",
              "      <td>5993</td>\n",
              "      <td>19479</td>\n",
              "      <td>8</td>\n",
              "      <td>Y</td>\n",
              "      <td>Yes</td>\n",
              "      <td>11</td>\n",
              "      <td>3</td>\n",
              "      <td>1</td>\n",
              "      <td>80</td>\n",
              "      <td>0</td>\n",
              "      <td>8</td>\n",
              "      <td>0</td>\n",
              "      <td>1</td>\n",
              "      <td>6</td>\n",
              "      <td>4</td>\n",
              "      <td>0</td>\n",
              "      <td>5</td>\n",
              "      <td>4001-6000</td>\n",
              "      <td>40-49</td>\n",
              "      <td>0-5</td>\n",
              "      <td>6-10</td>\n",
              "    </tr>\n",
              "    <tr>\n",
              "      <th>1</th>\n",
              "      <td>49</td>\n",
              "      <td>No</td>\n",
              "      <td>Travel_Frequently</td>\n",
              "      <td>279</td>\n",
              "      <td>Research &amp; Development</td>\n",
              "      <td>8</td>\n",
              "      <td>1</td>\n",
              "      <td>Life Sciences</td>\n",
              "      <td>1</td>\n",
              "      <td>2</td>\n",
              "      <td>3</td>\n",
              "      <td>Male</td>\n",
              "      <td>61</td>\n",
              "      <td>2</td>\n",
              "      <td>2</td>\n",
              "      <td>Research Scientist</td>\n",
              "      <td>2</td>\n",
              "      <td>Married</td>\n",
              "      <td>5130</td>\n",
              "      <td>24907</td>\n",
              "      <td>1</td>\n",
              "      <td>Y</td>\n",
              "      <td>No</td>\n",
              "      <td>23</td>\n",
              "      <td>4</td>\n",
              "      <td>4</td>\n",
              "      <td>80</td>\n",
              "      <td>1</td>\n",
              "      <td>10</td>\n",
              "      <td>3</td>\n",
              "      <td>3</td>\n",
              "      <td>10</td>\n",
              "      <td>7</td>\n",
              "      <td>1</td>\n",
              "      <td>7</td>\n",
              "      <td>4001-6000</td>\n",
              "      <td>40-49</td>\n",
              "      <td>6-10</td>\n",
              "      <td>6-10</td>\n",
              "    </tr>\n",
              "    <tr>\n",
              "      <th>2</th>\n",
              "      <td>37</td>\n",
              "      <td>Yes</td>\n",
              "      <td>Travel_Rarely</td>\n",
              "      <td>1373</td>\n",
              "      <td>Research &amp; Development</td>\n",
              "      <td>2</td>\n",
              "      <td>2</td>\n",
              "      <td>Other</td>\n",
              "      <td>1</td>\n",
              "      <td>4</td>\n",
              "      <td>4</td>\n",
              "      <td>Male</td>\n",
              "      <td>92</td>\n",
              "      <td>2</td>\n",
              "      <td>1</td>\n",
              "      <td>Laboratory Technician</td>\n",
              "      <td>3</td>\n",
              "      <td>Single</td>\n",
              "      <td>2090</td>\n",
              "      <td>2396</td>\n",
              "      <td>6</td>\n",
              "      <td>Y</td>\n",
              "      <td>Yes</td>\n",
              "      <td>15</td>\n",
              "      <td>3</td>\n",
              "      <td>2</td>\n",
              "      <td>80</td>\n",
              "      <td>0</td>\n",
              "      <td>7</td>\n",
              "      <td>3</td>\n",
              "      <td>3</td>\n",
              "      <td>0</td>\n",
              "      <td>0</td>\n",
              "      <td>0</td>\n",
              "      <td>0</td>\n",
              "      <td>2001-4000</td>\n",
              "      <td>30-39</td>\n",
              "      <td>0-5</td>\n",
              "      <td>6-10</td>\n",
              "    </tr>\n",
              "    <tr>\n",
              "      <th>3</th>\n",
              "      <td>33</td>\n",
              "      <td>No</td>\n",
              "      <td>Travel_Frequently</td>\n",
              "      <td>1392</td>\n",
              "      <td>Research &amp; Development</td>\n",
              "      <td>3</td>\n",
              "      <td>4</td>\n",
              "      <td>Life Sciences</td>\n",
              "      <td>1</td>\n",
              "      <td>5</td>\n",
              "      <td>4</td>\n",
              "      <td>Female</td>\n",
              "      <td>56</td>\n",
              "      <td>3</td>\n",
              "      <td>1</td>\n",
              "      <td>Research Scientist</td>\n",
              "      <td>3</td>\n",
              "      <td>Married</td>\n",
              "      <td>2909</td>\n",
              "      <td>23159</td>\n",
              "      <td>1</td>\n",
              "      <td>Y</td>\n",
              "      <td>Yes</td>\n",
              "      <td>11</td>\n",
              "      <td>3</td>\n",
              "      <td>3</td>\n",
              "      <td>80</td>\n",
              "      <td>0</td>\n",
              "      <td>8</td>\n",
              "      <td>3</td>\n",
              "      <td>3</td>\n",
              "      <td>8</td>\n",
              "      <td>7</td>\n",
              "      <td>3</td>\n",
              "      <td>0</td>\n",
              "      <td>2001-4000</td>\n",
              "      <td>30-39</td>\n",
              "      <td>0-5</td>\n",
              "      <td>6-10</td>\n",
              "    </tr>\n",
              "    <tr>\n",
              "      <th>4</th>\n",
              "      <td>27</td>\n",
              "      <td>No</td>\n",
              "      <td>Travel_Rarely</td>\n",
              "      <td>591</td>\n",
              "      <td>Research &amp; Development</td>\n",
              "      <td>2</td>\n",
              "      <td>1</td>\n",
              "      <td>Medical</td>\n",
              "      <td>1</td>\n",
              "      <td>7</td>\n",
              "      <td>1</td>\n",
              "      <td>Male</td>\n",
              "      <td>40</td>\n",
              "      <td>3</td>\n",
              "      <td>1</td>\n",
              "      <td>Laboratory Technician</td>\n",
              "      <td>2</td>\n",
              "      <td>Married</td>\n",
              "      <td>3468</td>\n",
              "      <td>16632</td>\n",
              "      <td>9</td>\n",
              "      <td>Y</td>\n",
              "      <td>No</td>\n",
              "      <td>12</td>\n",
              "      <td>3</td>\n",
              "      <td>4</td>\n",
              "      <td>80</td>\n",
              "      <td>1</td>\n",
              "      <td>6</td>\n",
              "      <td>3</td>\n",
              "      <td>3</td>\n",
              "      <td>2</td>\n",
              "      <td>2</td>\n",
              "      <td>2</td>\n",
              "      <td>2</td>\n",
              "      <td>2001-4000</td>\n",
              "      <td>20-29</td>\n",
              "      <td>0-5</td>\n",
              "      <td>6-10</td>\n",
              "    </tr>\n",
              "  </tbody>\n",
              "</table>\n",
              "</div>"
            ],
            "text/plain": [
              "   Age Attrition  ... DistanceFromHome_range  TotalWorkingYears_range\n",
              "0   41       Yes  ...                    0-5                     6-10\n",
              "1   49        No  ...                   6-10                     6-10\n",
              "2   37       Yes  ...                    0-5                     6-10\n",
              "3   33        No  ...                    0-5                     6-10\n",
              "4   27        No  ...                    0-5                     6-10\n",
              "\n",
              "[5 rows x 39 columns]"
            ]
          },
          "metadata": {},
          "execution_count": 83
        }
      ]
    },
    {
      "cell_type": "code",
      "metadata": {
        "colab": {
          "base_uri": "https://localhost:8080/"
        },
        "id": "tT_FddnDUt6g",
        "outputId": "95625419-3aa3-4443-dacd-fddfd3ebcc10"
      },
      "source": [
        "df7['DistanceFromHome_range'].value_counts()"
      ],
      "execution_count": null,
      "outputs": [
        {
          "output_type": "execute_result",
          "data": {
            "text/plain": [
              "0-5      632\n",
              "6-10     394\n",
              ">20      204\n",
              "16-20    125\n",
              "11-15    115\n",
              "Name: DistanceFromHome_range, dtype: int64"
            ]
          },
          "metadata": {},
          "execution_count": 84
        }
      ]
    },
    {
      "cell_type": "code",
      "metadata": {
        "colab": {
          "base_uri": "https://localhost:8080/"
        },
        "id": "BV278eiPUwCq",
        "outputId": "908295b1-dc16-4519-cd17-e77b413046c5"
      },
      "source": [
        "df8 = df7[df7['Attrition']=='Yes']\n",
        "df8['DistanceFromHome_range'].value_counts()"
      ],
      "execution_count": null,
      "outputs": [
        {
          "output_type": "execute_result",
          "data": {
            "text/plain": [
              "0-5      87\n",
              "6-10     57\n",
              ">20      45\n",
              "11-15    25\n",
              "16-20    23\n",
              "Name: DistanceFromHome_range, dtype: int64"
            ]
          },
          "metadata": {},
          "execution_count": 85
        }
      ]
    },
    {
      "cell_type": "code",
      "metadata": {
        "colab": {
          "base_uri": "https://localhost:8080/"
        },
        "id": "TehPuujyUxj_",
        "outputId": "7b047fb9-2f26-4b98-998a-5547e8fb8101"
      },
      "source": [
        "df9 = df7[df7['Attrition']=='No']\n",
        "df9['DistanceFromHome_range'].value_counts()"
      ],
      "execution_count": null,
      "outputs": [
        {
          "output_type": "execute_result",
          "data": {
            "text/plain": [
              "0-5      545\n",
              "6-10     337\n",
              ">20      159\n",
              "16-20    102\n",
              "11-15     90\n",
              "Name: DistanceFromHome_range, dtype: int64"
            ]
          },
          "metadata": {},
          "execution_count": 86
        }
      ]
    },
    {
      "cell_type": "code",
      "metadata": {
        "colab": {
          "base_uri": "https://localhost:8080/"
        },
        "id": "vTNdf4y4U2A_",
        "outputId": "4e88895e-7ea2-4ec6-ca20-8275598f2259"
      },
      "source": [
        "# creating dataframe\n",
        "df_a = pd.DataFrame({\n",
        "    'DistanceFromHomeRange': ['0-5', '6-10', '11-15','16-20','>20'],\n",
        "    'Yes': [87, 57, 25, 23, 45],\n",
        "    'No': [545, 337, 90, 102, 159]\n",
        "})\n",
        "  \n",
        "df_a.plot(\"DistanceFromHomeRange\", y=[\"Yes\", \"No\"], kind=\"bar\");\n",
        "plt.title('Distance From Home Ranges Bar graph based on attrition');"
      ],
      "execution_count": null,
      "outputs": [
        {
          "output_type": "display_data",
          "data": {
            "image/png": "[encoded data removed]",
            "text/plain": [
              "<Figure size 432x288 with 1 Axes>"
            ]
          },
          "metadata": {
            "needs_background": "light"
          }
        }
      ]
    },
    {
      "cell_type": "code",
      "metadata": {
        "colab": {
          "base_uri": "https://localhost:8080/"
        },
        "id": "3_IK65KKU31X",
        "outputId": "86a174a3-28cb-4a9c-8309-6e671af2de29"
      },
      "source": [
        "#Total Working years range based on attrition\n",
        "\n",
        "df10 = df\n",
        "TotalWorkingYears_range = []\n",
        "for row in df10['TotalWorkingYears']:\n",
        "        if row < 6 :    TotalWorkingYears_range.append('0-5')\n",
        "        elif row < 11:   TotalWorkingYears_range.append('6-10')\n",
        "        elif row < 21:   TotalWorkingYears_range.append('11-20')\n",
        "        elif row < 31:   TotalWorkingYears_range.append('21-30')\n",
        "        else:           TotalWorkingYears_range.append('>30')\n",
        "\n",
        "df10['TotalWorkingYears_range'] = TotalWorkingYears_range\n",
        "df10.head()"
      ],
      "execution_count": null,
      "outputs": [
        {
          "output_type": "execute_result",
          "data": {
            "text/html": [
              "<div>\n",
              "<style scoped>\n",
              "    .dataframe tbody tr th:only-of-type {\n",
              "        vertical-align: middle;\n",
              "    }\n",
              "\n",
              "    .dataframe tbody tr th {\n",
              "        vertical-align: top;\n",
              "    }\n",
              "\n",
              "    .dataframe thead th {\n",
              "        text-align: right;\n",
              "    }\n",
              "</style>\n",
              "<table border=\"1\" class=\"dataframe\">\n",
              "  <thead>\n",
              "    <tr style=\"text-align: right;\">\n",
              "      <th></th>\n",
              "      <th>Age</th>\n",
              "      <th>Attrition</th>\n",
              "      <th>BusinessTravel</th>\n",
              "      <th>DailyRate</th>\n",
              "      <th>Department</th>\n",
              "      <th>DistanceFromHome</th>\n",
              "      <th>Education</th>\n",
              "      <th>EducationField</th>\n",
              "      <th>EmployeeCount</th>\n",
              "      <th>EmployeeNumber</th>\n",
              "      <th>EnvironmentSatisfaction</th>\n",
              "      <th>Gender</th>\n",
              "      <th>HourlyRate</th>\n",
              "      <th>JobInvolvement</th>\n",
              "      <th>JobLevel</th>\n",
              "      <th>JobRole</th>\n",
              "      <th>JobSatisfaction</th>\n",
              "      <th>MaritalStatus</th>\n",
              "      <th>MonthlyIncome</th>\n",
              "      <th>MonthlyRate</th>\n",
              "      <th>NumCompaniesWorked</th>\n",
              "      <th>Over18</th>\n",
              "      <th>OverTime</th>\n",
              "      <th>PercentSalaryHike</th>\n",
              "      <th>PerformanceRating</th>\n",
              "      <th>RelationshipSatisfaction</th>\n",
              "      <th>StandardHours</th>\n",
              "      <th>StockOptionLevel</th>\n",
              "      <th>TotalWorkingYears</th>\n",
              "      <th>TrainingTimesLastYear</th>\n",
              "      <th>WorkLifeBalance</th>\n",
              "      <th>YearsAtCompany</th>\n",
              "      <th>YearsInCurrentRole</th>\n",
              "      <th>YearsSinceLastPromotion</th>\n",
              "      <th>YearsWithCurrManager</th>\n",
              "      <th>monthlyincome_range</th>\n",
              "      <th>age_range</th>\n",
              "      <th>DistanceFromHome_range</th>\n",
              "      <th>TotalWorkingYears_range</th>\n",
              "    </tr>\n",
              "  </thead>\n",
              "  <tbody>\n",
              "    <tr>\n",
              "      <th>0</th>\n",
              "      <td>41</td>\n",
              "      <td>Yes</td>\n",
              "      <td>Travel_Rarely</td>\n",
              "      <td>1102</td>\n",
              "      <td>Sales</td>\n",
              "      <td>1</td>\n",
              "      <td>2</td>\n",
              "      <td>Life Sciences</td>\n",
              "      <td>1</td>\n",
              "      <td>1</td>\n",
              "      <td>2</td>\n",
              "      <td>Female</td>\n",
              "      <td>94</td>\n",
              "      <td>3</td>\n",
              "      <td>2</td>\n",
              "      <td>Sales Executive</td>\n",
              "      <td>4</td>\n",
              "      <td>Single</td>\n",
              "      <td>5993</td>\n",
              "      <td>19479</td>\n",
              "      <td>8</td>\n",
              "      <td>Y</td>\n",
              "      <td>Yes</td>\n",
              "      <td>11</td>\n",
              "      <td>3</td>\n",
              "      <td>1</td>\n",
              "      <td>80</td>\n",
              "      <td>0</td>\n",
              "      <td>8</td>\n",
              "      <td>0</td>\n",
              "      <td>1</td>\n",
              "      <td>6</td>\n",
              "      <td>4</td>\n",
              "      <td>0</td>\n",
              "      <td>5</td>\n",
              "      <td>4001-6000</td>\n",
              "      <td>40-49</td>\n",
              "      <td>0-5</td>\n",
              "      <td>6-10</td>\n",
              "    </tr>\n",
              "    <tr>\n",
              "      <th>1</th>\n",
              "      <td>49</td>\n",
              "      <td>No</td>\n",
              "      <td>Travel_Frequently</td>\n",
              "      <td>279</td>\n",
              "      <td>Research &amp; Development</td>\n",
              "      <td>8</td>\n",
              "      <td>1</td>\n",
              "      <td>Life Sciences</td>\n",
              "      <td>1</td>\n",
              "      <td>2</td>\n",
              "      <td>3</td>\n",
              "      <td>Male</td>\n",
              "      <td>61</td>\n",
              "      <td>2</td>\n",
              "      <td>2</td>\n",
              "      <td>Research Scientist</td>\n",
              "      <td>2</td>\n",
              "      <td>Married</td>\n",
              "      <td>5130</td>\n",
              "      <td>24907</td>\n",
              "      <td>1</td>\n",
              "      <td>Y</td>\n",
              "      <td>No</td>\n",
              "      <td>23</td>\n",
              "      <td>4</td>\n",
              "      <td>4</td>\n",
              "      <td>80</td>\n",
              "      <td>1</td>\n",
              "      <td>10</td>\n",
              "      <td>3</td>\n",
              "      <td>3</td>\n",
              "      <td>10</td>\n",
              "      <td>7</td>\n",
              "      <td>1</td>\n",
              "      <td>7</td>\n",
              "      <td>4001-6000</td>\n",
              "      <td>40-49</td>\n",
              "      <td>6-10</td>\n",
              "      <td>6-10</td>\n",
              "    </tr>\n",
              "    <tr>\n",
              "      <th>2</th>\n",
              "      <td>37</td>\n",
              "      <td>Yes</td>\n",
              "      <td>Travel_Rarely</td>\n",
              "      <td>1373</td>\n",
              "      <td>Research &amp; Development</td>\n",
              "      <td>2</td>\n",
              "      <td>2</td>\n",
              "      <td>Other</td>\n",
              "      <td>1</td>\n",
              "      <td>4</td>\n",
              "      <td>4</td>\n",
              "      <td>Male</td>\n",
              "      <td>92</td>\n",
              "      <td>2</td>\n",
              "      <td>1</td>\n",
              "      <td>Laboratory Technician</td>\n",
              "      <td>3</td>\n",
              "      <td>Single</td>\n",
              "      <td>2090</td>\n",
              "      <td>2396</td>\n",
              "      <td>6</td>\n",
              "      <td>Y</td>\n",
              "      <td>Yes</td>\n",
              "      <td>15</td>\n",
              "      <td>3</td>\n",
              "      <td>2</td>\n",
              "      <td>80</td>\n",
              "      <td>0</td>\n",
              "      <td>7</td>\n",
              "      <td>3</td>\n",
              "      <td>3</td>\n",
              "      <td>0</td>\n",
              "      <td>0</td>\n",
              "      <td>0</td>\n",
              "      <td>0</td>\n",
              "      <td>2001-4000</td>\n",
              "      <td>30-39</td>\n",
              "      <td>0-5</td>\n",
              "      <td>6-10</td>\n",
              "    </tr>\n",
              "    <tr>\n",
              "      <th>3</th>\n",
              "      <td>33</td>\n",
              "      <td>No</td>\n",
              "      <td>Travel_Frequently</td>\n",
              "      <td>1392</td>\n",
              "      <td>Research &amp; Development</td>\n",
              "      <td>3</td>\n",
              "      <td>4</td>\n",
              "      <td>Life Sciences</td>\n",
              "      <td>1</td>\n",
              "      <td>5</td>\n",
              "      <td>4</td>\n",
              "      <td>Female</td>\n",
              "      <td>56</td>\n",
              "      <td>3</td>\n",
              "      <td>1</td>\n",
              "      <td>Research Scientist</td>\n",
              "      <td>3</td>\n",
              "      <td>Married</td>\n",
              "      <td>2909</td>\n",
              "      <td>23159</td>\n",
              "      <td>1</td>\n",
              "      <td>Y</td>\n",
              "      <td>Yes</td>\n",
              "      <td>11</td>\n",
              "      <td>3</td>\n",
              "      <td>3</td>\n",
              "      <td>80</td>\n",
              "      <td>0</td>\n",
              "      <td>8</td>\n",
              "      <td>3</td>\n",
              "      <td>3</td>\n",
              "      <td>8</td>\n",
              "      <td>7</td>\n",
              "      <td>3</td>\n",
              "      <td>0</td>\n",
              "      <td>2001-4000</td>\n",
              "      <td>30-39</td>\n",
              "      <td>0-5</td>\n",
              "      <td>6-10</td>\n",
              "    </tr>\n",
              "    <tr>\n",
              "      <th>4</th>\n",
              "      <td>27</td>\n",
              "      <td>No</td>\n",
              "      <td>Travel_Rarely</td>\n",
              "      <td>591</td>\n",
              "      <td>Research &amp; Development</td>\n",
              "      <td>2</td>\n",
              "      <td>1</td>\n",
              "      <td>Medical</td>\n",
              "      <td>1</td>\n",
              "      <td>7</td>\n",
              "      <td>1</td>\n",
              "      <td>Male</td>\n",
              "      <td>40</td>\n",
              "      <td>3</td>\n",
              "      <td>1</td>\n",
              "      <td>Laboratory Technician</td>\n",
              "      <td>2</td>\n",
              "      <td>Married</td>\n",
              "      <td>3468</td>\n",
              "      <td>16632</td>\n",
              "      <td>9</td>\n",
              "      <td>Y</td>\n",
              "      <td>No</td>\n",
              "      <td>12</td>\n",
              "      <td>3</td>\n",
              "      <td>4</td>\n",
              "      <td>80</td>\n",
              "      <td>1</td>\n",
              "      <td>6</td>\n",
              "      <td>3</td>\n",
              "      <td>3</td>\n",
              "      <td>2</td>\n",
              "      <td>2</td>\n",
              "      <td>2</td>\n",
              "      <td>2</td>\n",
              "      <td>2001-4000</td>\n",
              "      <td>20-29</td>\n",
              "      <td>0-5</td>\n",
              "      <td>6-10</td>\n",
              "    </tr>\n",
              "  </tbody>\n",
              "</table>\n",
              "</div>"
            ],
            "text/plain": [
              "   Age Attrition  ... DistanceFromHome_range  TotalWorkingYears_range\n",
              "0   41       Yes  ...                    0-5                     6-10\n",
              "1   49        No  ...                   6-10                     6-10\n",
              "2   37       Yes  ...                    0-5                     6-10\n",
              "3   33        No  ...                    0-5                     6-10\n",
              "4   27        No  ...                    0-5                     6-10\n",
              "\n",
              "[5 rows x 39 columns]"
            ]
          },
          "metadata": {},
          "execution_count": 88
        }
      ]
    },
    {
      "cell_type": "code",
      "metadata": {
        "colab": {
          "base_uri": "https://localhost:8080/"
        },
        "id": "iBpag1qVU6PS",
        "outputId": "16ff8a91-b5cf-4eac-84e6-ee001278427b"
      },
      "source": [
        "df10['TotalWorkingYears_range'].value_counts()"
      ],
      "execution_count": null,
      "outputs": [
        {
          "output_type": "execute_result",
          "data": {
            "text/plain": [
              "6-10     607\n",
              "11-20    340\n",
              "0-5      316\n",
              "21-30    161\n",
              ">30       46\n",
              "Name: TotalWorkingYears_range, dtype: int64"
            ]
          },
          "metadata": {},
          "execution_count": 89
        }
      ]
    },
    {
      "cell_type": "code",
      "metadata": {
        "colab": {
          "base_uri": "https://localhost:8080/"
        },
        "id": "q_6hEsBMU63_",
        "outputId": "e87de881-3678-48be-c180-fc15b825c7de"
      },
      "source": [
        "df11 = df10[df10['Attrition']=='Yes']\n",
        "df11['TotalWorkingYears_range'].value_counts()"
      ],
      "execution_count": null,
      "outputs": [
        {
          "output_type": "execute_result",
          "data": {
            "text/plain": [
              "6-10     91\n",
              "0-5      91\n",
              "11-20    39\n",
              "21-30    11\n",
              ">30       5\n",
              "Name: TotalWorkingYears_range, dtype: int64"
            ]
          },
          "metadata": {},
          "execution_count": 90
        }
      ]
    },
    {
      "cell_type": "code",
      "metadata": {
        "colab": {
          "base_uri": "https://localhost:8080/"
        },
        "id": "VJUg6-AHU9vl",
        "outputId": "10663e54-7b65-4c52-aa47-577f51657110"
      },
      "source": [
        "df12 = df10[df10['Attrition']=='No']\n",
        "df12['TotalWorkingYears_range'].value_counts()"
      ],
      "execution_count": null,
      "outputs": [
        {
          "output_type": "execute_result",
          "data": {
            "text/plain": [
              "6-10     516\n",
              "11-20    301\n",
              "0-5      225\n",
              "21-30    150\n",
              ">30       41\n",
              "Name: TotalWorkingYears_range, dtype: int64"
            ]
          },
          "metadata": {},
          "execution_count": 91
        }
      ]
    },
    {
      "cell_type": "code",
      "metadata": {
        "colab": {
          "base_uri": "https://localhost:8080/"
        },
        "id": "p8g-wJCvU9pd",
        "outputId": "1e1b8a95-5ff8-433c-b87c-9854a6e9f8ef"
      },
      "source": [
        "# creating dataframe\n",
        "df_a = pd.DataFrame({\n",
        "    'TotalWorkingYearsRange': ['0-5', '6-10', '11-20','21-30','>30'],\n",
        "    'Yes': [91, 91, 39, 11, 5],\n",
        "    'No': [225, 516, 301, 150, 41]\n",
        "})\n",
        "  \n",
        "df_a.plot(x=\"TotalWorkingYearsRange\", y=[\"Yes\", \"No\"], kind=\"bar\");\n",
        "plt.title('Total Working Years Ranges Bar graph based on attrition');"
      ],
      "execution_count": null,
      "outputs": [
        {
          "output_type": "display_data",
          "data": {
            "image/png": "[encoded data removed]",
            "text/plain": [
              "<Figure size 432x288 with 1 Axes>"
            ]
          },
          "metadata": {
            "needs_background": "light"
          }
        }
      ]
    },
    {
      "cell_type": "code",
      "metadata": {
        "colab": {
          "base_uri": "https://localhost:8080/"
        },
        "id": "TwYQvpebVBhx",
        "outputId": "d5557775-04f9-445d-84a1-61acfb210580"
      },
      "source": [
        "#For OverTime based on attrition\n",
        "dfa = df[df['Attrition']=='Yes']\n",
        "dfa['OverTime'].value_counts()"
      ],
      "execution_count": null,
      "outputs": [
        {
          "output_type": "execute_result",
          "data": {
            "text/plain": [
              "Yes    127\n",
              "No     110\n",
              "Name: OverTime, dtype: int64"
            ]
          },
          "metadata": {},
          "execution_count": 93
        }
      ]
    },
    {
      "cell_type": "code",
      "metadata": {
        "colab": {
          "base_uri": "https://localhost:8080/"
        },
        "id": "L0BibVewVDMe",
        "outputId": "35b0d80b-ef35-4d79-ebc7-25c9533e264b"
      },
      "source": [
        "dfb = df[df['Attrition']=='No']\n",
        "dfb['OverTime'].value_counts()"
      ],
      "execution_count": null,
      "outputs": [
        {
          "output_type": "execute_result",
          "data": {
            "text/plain": [
              "No     944\n",
              "Yes    289\n",
              "Name: OverTime, dtype: int64"
            ]
          },
          "metadata": {},
          "execution_count": 94
        }
      ]
    },
    {
      "cell_type": "code",
      "metadata": {
        "colab": {
          "base_uri": "https://localhost:8080/"
        },
        "id": "-I2A5JrRVFAh",
        "outputId": "3887163f-a051-4786-c1b9-bfc6bc93579b"
      },
      "source": [
        "# creating dataframe\n",
        "df_a = pd.DataFrame({\n",
        "    'OverTime': ['WorksOverTime', 'DoesnotWorkOverTime'],\n",
        "    'Yes': [127,110],\n",
        "    'No': [944,289]\n",
        "})\n",
        "  \n",
        "df_a.plot(x=\"OverTime\", y=[\"Yes\", \"No\"], kind=\"bar\");\n",
        "plt.title('OverTime Bar graph based on attrition');"
      ],
      "execution_count": null,
      "outputs": [
        {
          "output_type": "display_data",
          "data": {
            "image/png": "[encoded data removed]",
            "text/plain": [
              "<Figure size 432x288 with 1 Axes>"
            ]
          },
          "metadata": {
            "needs_background": "light"
          }
        }
      ]
    },
    {
      "cell_type": "code",
      "metadata": {
        "colab": {
          "base_uri": "https://localhost:8080/"
        },
        "id": "S0H844zMVGzn",
        "outputId": "fe1be881-09e6-45be-b666-598791b5bff7"
      },
      "source": [
        "#For JobSatisfaction based on attrition\n",
        "dfa = df[df['Attrition']=='Yes']\n",
        "dfa['JobSatisfaction'].value_counts()"
      ],
      "execution_count": null,
      "outputs": [
        {
          "output_type": "execute_result",
          "data": {
            "text/plain": [
              "3    73\n",
              "1    66\n",
              "4    52\n",
              "2    46\n",
              "Name: JobSatisfaction, dtype: int64"
            ]
          },
          "metadata": {},
          "execution_count": 96
        }
      ]
    },
    {
      "cell_type": "code",
      "metadata": {
        "colab": {
          "base_uri": "https://localhost:8080/"
        },
        "id": "n2tqAPF_VIKC",
        "outputId": "01c2492d-f846-42d6-e3c6-041da9d8e0d3"
      },
      "source": [
        "dfb = df[df['Attrition']=='No']\n",
        "dfb['JobSatisfaction'].value_counts()"
      ],
      "execution_count": null,
      "outputs": [
        {
          "output_type": "execute_result",
          "data": {
            "text/plain": [
              "4    407\n",
              "3    369\n",
              "2    234\n",
              "1    223\n",
              "Name: JobSatisfaction, dtype: int64"
            ]
          },
          "metadata": {},
          "execution_count": 97
        }
      ]
    },
    {
      "cell_type": "code",
      "metadata": {
        "colab": {
          "base_uri": "https://localhost:8080/"
        },
        "id": "lRr1_o-XVKDX",
        "outputId": "b50c3e8e-cff9-4c7f-e7d7-552d7612756a"
      },
      "source": [
        "# creating dataframe\n",
        "df_a = pd.DataFrame({\n",
        "    'JobSatisfaction': ['1', '2','3','4'],\n",
        "    'Yes': [66,46,73,52],\n",
        "    'No': [223,234,369,407]\n",
        "})\n",
        "  \n",
        "df_a.plot(x=\"JobSatisfaction\", y=[\"Yes\", \"No\"], kind=\"bar\");\n",
        "plt.title('JobSatisfaction Bar graph based on attrition');"
      ],
      "execution_count": null,
      "outputs": [
        {
          "output_type": "display_data",
          "data": {
            "image/png": "[encoded data removed]",
            "text/plain": [
              "<Figure size 432x288 with 1 Axes>"
            ]
          },
          "metadata": {
            "needs_background": "light"
          }
        }
      ]
    },
    {
      "cell_type": "code",
      "metadata": {
        "colab": {
          "base_uri": "https://localhost:8080/"
        },
        "id": "zoZqxUdqVL1v",
        "outputId": "827b923f-be77-4ce3-d8c0-d369a6111ee3"
      },
      "source": [
        "#For JobSatisfaction based on attrition\n",
        "dfa = df[df['Attrition']=='Yes']\n",
        "dfa['Department'].value_counts()"
      ],
      "execution_count": null,
      "outputs": [
        {
          "output_type": "execute_result",
          "data": {
            "text/plain": [
              "Research & Development    133\n",
              "Sales                      92\n",
              "Human Resources            12\n",
              "Name: Department, dtype: int64"
            ]
          },
          "metadata": {},
          "execution_count": 99
        }
      ]
    },
    {
      "cell_type": "code",
      "metadata": {
        "colab": {
          "base_uri": "https://localhost:8080/"
        },
        "id": "YNCxBjaVVNg3",
        "outputId": "bbfa3325-381c-47ea-df48-ddae51c13a83"
      },
      "source": [
        "dfb = df[df['Attrition']=='No']\n",
        "dfb['Department'].value_counts()"
      ],
      "execution_count": null,
      "outputs": [
        {
          "output_type": "execute_result",
          "data": {
            "text/plain": [
              "Research & Development    828\n",
              "Sales                     354\n",
              "Human Resources            51\n",
              "Name: Department, dtype: int64"
            ]
          },
          "metadata": {},
          "execution_count": 100
        }
      ]
    },
    {
      "cell_type": "code",
      "metadata": {
        "colab": {
          "base_uri": "https://localhost:8080/"
        },
        "id": "NTY3kUBFVPE6",
        "outputId": "ef64f502-ff6a-475d-c293-d2db39f0bd68"
      },
      "source": [
        "# creating dataframe\n",
        "df_a = pd.DataFrame({\n",
        "    'Department': ['Sales', 'Research & Development','Human Resources'],\n",
        "    'Yes': [92,133,12],\n",
        "    'No': [354,828,51]\n",
        "})\n",
        "  \n",
        "df_a.plot(x=\"Department\", y=[\"Yes\", \"No\"], kind=\"bar\");\n",
        "plt.title('Department Bar graph based on attrition');"
      ],
      "execution_count": null,
      "outputs": [
        {
          "output_type": "display_data",
          "data": {
            "image/png": "[encoded data removed]",
            "text/plain": [
              "<Figure size 432x288 with 1 Axes>"
            ]
          },
          "metadata": {
            "needs_background": "light"
          }
        }
      ]
    },
    {
      "cell_type": "markdown",
      "metadata": {
        "id": "kATOiY_DesEH"
      },
      "source": [
        "##Dropping highly correlated variables"
      ]
    },
    {
      "cell_type": "code",
      "metadata": {
        "colab": {
          "base_uri": "https://localhost:8080/"
        },
        "id": "qizsqt86YEuw",
        "outputId": "70d2b8e2-ce2b-4446-c3fd-c42cf7561977"
      },
      "source": [
        "cor_matrix = df.corr().abs()\n",
        "print(cor_matrix)"
      ],
      "execution_count": null,
      "outputs": [
        {
          "output_type": "stream",
          "name": "stdout",
          "text": [
            "                               Age  ...  YearsWithCurrManager\n",
            "Age                       1.000000  ...              0.202089\n",
            "DailyRate                 0.010661  ...              0.026363\n",
            "DistanceFromHome          0.001686  ...              0.014406\n",
            "Education                 0.208034  ...              0.069065\n",
            "EmployeeCount                  NaN  ...                   NaN\n",
            "EmployeeNumber            0.010145  ...              0.009197\n",
            "EnvironmentSatisfaction   0.010146  ...              0.004999\n",
            "HourlyRate                0.024287  ...              0.020123\n",
            "JobInvolvement            0.029820  ...              0.025976\n",
            "JobLevel                  0.509604  ...              0.375281\n",
            "JobSatisfaction           0.004892  ...              0.027656\n",
            "MonthlyIncome             0.497855  ...              0.344079\n",
            "MonthlyRate               0.028051  ...              0.036746\n",
            "NumCompaniesWorked        0.299635  ...              0.110319\n",
            "PercentSalaryHike         0.003634  ...              0.011985\n",
            "PerformanceRating         0.001904  ...              0.022827\n",
            "RelationshipSatisfaction  0.053535  ...              0.000867\n",
            "StandardHours                  NaN  ...                   NaN\n",
            "StockOptionLevel          0.037510  ...              0.024698\n",
            "TotalWorkingYears         0.680381  ...              0.459188\n",
            "TrainingTimesLastYear     0.019621  ...              0.004096\n",
            "WorkLifeBalance           0.021490  ...              0.002759\n",
            "YearsAtCompany            0.311309  ...              0.769212\n",
            "YearsInCurrentRole        0.212901  ...              0.714365\n",
            "YearsSinceLastPromotion   0.216513  ...              0.510224\n",
            "YearsWithCurrManager      0.202089  ...              1.000000\n",
            "\n",
            "[26 rows x 26 columns]\n"
          ]
        }
      ]
    },
    {
      "cell_type": "code",
      "metadata": {
        "colab": {
          "base_uri": "https://localhost:8080/"
        },
        "id": "QRCWSS8vYG3-",
        "outputId": "ce2144a9-0187-4b2b-c929-95318836d6dd"
      },
      "source": [
        "upper_tri = cor_matrix.where(np.triu(np.ones(cor_matrix.shape),k=1).astype(np.bool))\n",
        "print(upper_tri)"
      ],
      "execution_count": null,
      "outputs": [
        {
          "output_type": "stream",
          "name": "stdout",
          "text": [
            "                          Age  ...  YearsWithCurrManager\n",
            "Age                       NaN  ...              0.202089\n",
            "DailyRate                 NaN  ...              0.026363\n",
            "DistanceFromHome          NaN  ...              0.014406\n",
            "Education                 NaN  ...              0.069065\n",
            "EmployeeCount             NaN  ...                   NaN\n",
            "EmployeeNumber            NaN  ...              0.009197\n",
            "EnvironmentSatisfaction   NaN  ...              0.004999\n",
            "HourlyRate                NaN  ...              0.020123\n",
            "JobInvolvement            NaN  ...              0.025976\n",
            "JobLevel                  NaN  ...              0.375281\n",
            "JobSatisfaction           NaN  ...              0.027656\n",
            "MonthlyIncome             NaN  ...              0.344079\n",
            "MonthlyRate               NaN  ...              0.036746\n",
            "NumCompaniesWorked        NaN  ...              0.110319\n",
            "PercentSalaryHike         NaN  ...              0.011985\n",
            "PerformanceRating         NaN  ...              0.022827\n",
            "RelationshipSatisfaction  NaN  ...              0.000867\n",
            "StandardHours             NaN  ...                   NaN\n",
            "StockOptionLevel          NaN  ...              0.024698\n",
            "TotalWorkingYears         NaN  ...              0.459188\n",
            "TrainingTimesLastYear     NaN  ...              0.004096\n",
            "WorkLifeBalance           NaN  ...              0.002759\n",
            "YearsAtCompany            NaN  ...              0.769212\n",
            "YearsInCurrentRole        NaN  ...              0.714365\n",
            "YearsSinceLastPromotion   NaN  ...              0.510224\n",
            "YearsWithCurrManager      NaN  ...                   NaN\n",
            "\n",
            "[26 rows x 26 columns]\n"
          ]
        }
      ]
    },
    {
      "cell_type": "code",
      "metadata": {
        "colab": {
          "base_uri": "https://localhost:8080/"
        },
        "id": "vulT95uUYIjJ",
        "outputId": "d0ec3250-7e12-4975-80da-6a1102db08f1"
      },
      "source": [
        "to_drop = [column for column in upper_tri.columns if any(upper_tri[column] > 0.75)]\n",
        "print(); print(to_drop)"
      ],
      "execution_count": null,
      "outputs": [
        {
          "output_type": "stream",
          "name": "stdout",
          "text": [
            "\n",
            "['MonthlyIncome', 'PerformanceRating', 'TotalWorkingYears', 'YearsInCurrentRole', 'YearsWithCurrManager']\n"
          ]
        }
      ]
    },
    {
      "cell_type": "code",
      "metadata": {
        "colab": {
          "base_uri": "https://localhost:8080/",
          "height": 313
        },
        "id": "zoIj6IakYKF_",
        "outputId": "88878cf2-7f54-42b3-815d-5636377cde43"
      },
      "source": [
        "dfr = df.drop(['MonthlyIncome', 'PerformanceRating', 'TotalWorkingYears', 'YearsInCurrentRole', 'YearsWithCurrManager'], axis=1)\n",
        "dfr.head()"
      ],
      "execution_count": null,
      "outputs": [
        {
          "output_type": "execute_result",
          "data": {
            "text/html": [
              "<div>\n",
              "<style scoped>\n",
              "    .dataframe tbody tr th:only-of-type {\n",
              "        vertical-align: middle;\n",
              "    }\n",
              "\n",
              "    .dataframe tbody tr th {\n",
              "        vertical-align: top;\n",
              "    }\n",
              "\n",
              "    .dataframe thead th {\n",
              "        text-align: right;\n",
              "    }\n",
              "</style>\n",
              "<table border=\"1\" class=\"dataframe\">\n",
              "  <thead>\n",
              "    <tr style=\"text-align: right;\">\n",
              "      <th></th>\n",
              "      <th>Age</th>\n",
              "      <th>Attrition</th>\n",
              "      <th>BusinessTravel</th>\n",
              "      <th>DailyRate</th>\n",
              "      <th>Department</th>\n",
              "      <th>DistanceFromHome</th>\n",
              "      <th>Education</th>\n",
              "      <th>EducationField</th>\n",
              "      <th>EmployeeCount</th>\n",
              "      <th>EmployeeNumber</th>\n",
              "      <th>EnvironmentSatisfaction</th>\n",
              "      <th>Gender</th>\n",
              "      <th>HourlyRate</th>\n",
              "      <th>JobInvolvement</th>\n",
              "      <th>JobLevel</th>\n",
              "      <th>JobRole</th>\n",
              "      <th>JobSatisfaction</th>\n",
              "      <th>MaritalStatus</th>\n",
              "      <th>MonthlyRate</th>\n",
              "      <th>NumCompaniesWorked</th>\n",
              "      <th>Over18</th>\n",
              "      <th>OverTime</th>\n",
              "      <th>PercentSalaryHike</th>\n",
              "      <th>RelationshipSatisfaction</th>\n",
              "      <th>StandardHours</th>\n",
              "      <th>StockOptionLevel</th>\n",
              "      <th>TrainingTimesLastYear</th>\n",
              "      <th>WorkLifeBalance</th>\n",
              "      <th>YearsAtCompany</th>\n",
              "      <th>YearsSinceLastPromotion</th>\n",
              "      <th>monthlyincome_range</th>\n",
              "      <th>age_range</th>\n",
              "      <th>DistanceFromHome_range</th>\n",
              "      <th>TotalWorkingYears_range</th>\n",
              "    </tr>\n",
              "  </thead>\n",
              "  <tbody>\n",
              "    <tr>\n",
              "      <th>0</th>\n",
              "      <td>41</td>\n",
              "      <td>Yes</td>\n",
              "      <td>Travel_Rarely</td>\n",
              "      <td>1102</td>\n",
              "      <td>Sales</td>\n",
              "      <td>1</td>\n",
              "      <td>2</td>\n",
              "      <td>Life Sciences</td>\n",
              "      <td>1</td>\n",
              "      <td>1</td>\n",
              "      <td>2</td>\n",
              "      <td>Female</td>\n",
              "      <td>94</td>\n",
              "      <td>3</td>\n",
              "      <td>2</td>\n",
              "      <td>Sales Executive</td>\n",
              "      <td>4</td>\n",
              "      <td>Single</td>\n",
              "      <td>19479</td>\n",
              "      <td>8</td>\n",
              "      <td>Y</td>\n",
              "      <td>Yes</td>\n",
              "      <td>11</td>\n",
              "      <td>1</td>\n",
              "      <td>80</td>\n",
              "      <td>0</td>\n",
              "      <td>0</td>\n",
              "      <td>1</td>\n",
              "      <td>6</td>\n",
              "      <td>0</td>\n",
              "      <td>4001-6000</td>\n",
              "      <td>40-49</td>\n",
              "      <td>0-5</td>\n",
              "      <td>6-10</td>\n",
              "    </tr>\n",
              "    <tr>\n",
              "      <th>1</th>\n",
              "      <td>49</td>\n",
              "      <td>No</td>\n",
              "      <td>Travel_Frequently</td>\n",
              "      <td>279</td>\n",
              "      <td>Research &amp; Development</td>\n",
              "      <td>8</td>\n",
              "      <td>1</td>\n",
              "      <td>Life Sciences</td>\n",
              "      <td>1</td>\n",
              "      <td>2</td>\n",
              "      <td>3</td>\n",
              "      <td>Male</td>\n",
              "      <td>61</td>\n",
              "      <td>2</td>\n",
              "      <td>2</td>\n",
              "      <td>Research Scientist</td>\n",
              "      <td>2</td>\n",
              "      <td>Married</td>\n",
              "      <td>24907</td>\n",
              "      <td>1</td>\n",
              "      <td>Y</td>\n",
              "      <td>No</td>\n",
              "      <td>23</td>\n",
              "      <td>4</td>\n",
              "      <td>80</td>\n",
              "      <td>1</td>\n",
              "      <td>3</td>\n",
              "      <td>3</td>\n",
              "      <td>10</td>\n",
              "      <td>1</td>\n",
              "      <td>4001-6000</td>\n",
              "      <td>40-49</td>\n",
              "      <td>6-10</td>\n",
              "      <td>6-10</td>\n",
              "    </tr>\n",
              "    <tr>\n",
              "      <th>2</th>\n",
              "      <td>37</td>\n",
              "      <td>Yes</td>\n",
              "      <td>Travel_Rarely</td>\n",
              "      <td>1373</td>\n",
              "      <td>Research &amp; Development</td>\n",
              "      <td>2</td>\n",
              "      <td>2</td>\n",
              "      <td>Other</td>\n",
              "      <td>1</td>\n",
              "      <td>4</td>\n",
              "      <td>4</td>\n",
              "      <td>Male</td>\n",
              "      <td>92</td>\n",
              "      <td>2</td>\n",
              "      <td>1</td>\n",
              "      <td>Laboratory Technician</td>\n",
              "      <td>3</td>\n",
              "      <td>Single</td>\n",
              "      <td>2396</td>\n",
              "      <td>6</td>\n",
              "      <td>Y</td>\n",
              "      <td>Yes</td>\n",
              "      <td>15</td>\n",
              "      <td>2</td>\n",
              "      <td>80</td>\n",
              "      <td>0</td>\n",
              "      <td>3</td>\n",
              "      <td>3</td>\n",
              "      <td>0</td>\n",
              "      <td>0</td>\n",
              "      <td>2001-4000</td>\n",
              "      <td>30-39</td>\n",
              "      <td>0-5</td>\n",
              "      <td>6-10</td>\n",
              "    </tr>\n",
              "    <tr>\n",
              "      <th>3</th>\n",
              "      <td>33</td>\n",
              "      <td>No</td>\n",
              "      <td>Travel_Frequently</td>\n",
              "      <td>1392</td>\n",
              "      <td>Research &amp; Development</td>\n",
              "      <td>3</td>\n",
              "      <td>4</td>\n",
              "      <td>Life Sciences</td>\n",
              "      <td>1</td>\n",
              "      <td>5</td>\n",
              "      <td>4</td>\n",
              "      <td>Female</td>\n",
              "      <td>56</td>\n",
              "      <td>3</td>\n",
              "      <td>1</td>\n",
              "      <td>Research Scientist</td>\n",
              "      <td>3</td>\n",
              "      <td>Married</td>\n",
              "      <td>23159</td>\n",
              "      <td>1</td>\n",
              "      <td>Y</td>\n",
              "      <td>Yes</td>\n",
              "      <td>11</td>\n",
              "      <td>3</td>\n",
              "      <td>80</td>\n",
              "      <td>0</td>\n",
              "      <td>3</td>\n",
              "      <td>3</td>\n",
              "      <td>8</td>\n",
              "      <td>3</td>\n",
              "      <td>2001-4000</td>\n",
              "      <td>30-39</td>\n",
              "      <td>0-5</td>\n",
              "      <td>6-10</td>\n",
              "    </tr>\n",
              "    <tr>\n",
              "      <th>4</th>\n",
              "      <td>27</td>\n",
              "      <td>No</td>\n",
              "      <td>Travel_Rarely</td>\n",
              "      <td>591</td>\n",
              "      <td>Research &amp; Development</td>\n",
              "      <td>2</td>\n",
              "      <td>1</td>\n",
              "      <td>Medical</td>\n",
              "      <td>1</td>\n",
              "      <td>7</td>\n",
              "      <td>1</td>\n",
              "      <td>Male</td>\n",
              "      <td>40</td>\n",
              "      <td>3</td>\n",
              "      <td>1</td>\n",
              "      <td>Laboratory Technician</td>\n",
              "      <td>2</td>\n",
              "      <td>Married</td>\n",
              "      <td>16632</td>\n",
              "      <td>9</td>\n",
              "      <td>Y</td>\n",
              "      <td>No</td>\n",
              "      <td>12</td>\n",
              "      <td>4</td>\n",
              "      <td>80</td>\n",
              "      <td>1</td>\n",
              "      <td>3</td>\n",
              "      <td>3</td>\n",
              "      <td>2</td>\n",
              "      <td>2</td>\n",
              "      <td>2001-4000</td>\n",
              "      <td>20-29</td>\n",
              "      <td>0-5</td>\n",
              "      <td>6-10</td>\n",
              "    </tr>\n",
              "  </tbody>\n",
              "</table>\n",
              "</div>"
            ],
            "text/plain": [
              "   Age Attrition  ... DistanceFromHome_range  TotalWorkingYears_range\n",
              "0   41       Yes  ...                    0-5                     6-10\n",
              "1   49        No  ...                   6-10                     6-10\n",
              "2   37       Yes  ...                    0-5                     6-10\n",
              "3   33        No  ...                    0-5                     6-10\n",
              "4   27        No  ...                    0-5                     6-10\n",
              "\n",
              "[5 rows x 34 columns]"
            ]
          },
          "metadata": {},
          "execution_count": 107
        }
      ]
    },
    {
      "cell_type": "markdown",
      "metadata": {
        "id": "WEGmtOlPkO0g"
      },
      "source": [
        ""
      ]
    },
    {
      "cell_type": "markdown",
      "metadata": {
        "id": "RRiVzHYTbRue"
      },
      "source": [
        "##Employee Attrition Prediction and Model score analysis"
      ]
    },
    {
      "cell_type": "code",
      "metadata": {
        "id": "OEtmzDn-iY0S"
      },
      "source": [
        "#Importing required packages and libraries\n",
        "import pandas as pd\n",
        "import numpy  as np\n",
        "import matplotlib.pyplot as plt\n",
        "import seaborn as sns\n",
        "import graphviz\n",
        "import io\n",
        "\n",
        "from sklearn import linear_model\n",
        "from sklearn.metrics import mean_squared_error\n",
        "from sklearn.metrics import r2_score\n",
        "from sklearn import metrics\n",
        "from sklearn.preprocessing import StandardScaler\n",
        "from sklearn.linear_model import LogisticRegression\n",
        "from sklearn.tree import DecisionTreeClassifier\n",
        "from sklearn.model_selection import train_test_split\n",
        "from sklearn.ensemble import RandomForestClassifier\n",
        "from sklearn import metrics\n",
        "from sklearn import tree\n",
        "from sklearn.neighbors import KNeighborsClassifier\n",
        "\n",
        "from sklearn import preprocessing\n",
        "from sklearn.metrics import confusion_matrix,accuracy_score,roc_curve,auc,classification_report,roc_auc_score,plot_confusion_matrix\n",
        "from sklearn.preprocessing import MinMaxScaler\n",
        "from sklearn.linear_model import Ridge, Lasso\n",
        "\n",
        "from sklearn.model_selection import KFold, cross_val_score\n",
        "from sklearn.model_selection import GridSearchCV\n",
        "from urllib.request import urlopen"
      ],
      "execution_count": null,
      "outputs": []
    },
    {
      "cell_type": "code",
      "metadata": {
        "colab": {
          "resources": {
            "http://localhost:8080/nbextensions/google.colab/files.js": {
              "data": "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",
              "ok": true,
              "headers": [
                [
                  "content-type",
                  "application/javascript"
                ]
              ],
              "status": 200,
              "status_text": ""
            }
          },
          "base_uri": "https://localhost:8080/",
          "height": 79
        },
        "id": "76nCx6uWkvZ2",
        "outputId": "bfb9088e-1b10-4990-db56-f5227180825f"
      },
      "source": [
        "#Uploading data set to colab from local drive\n",
        "from google.colab import files\n",
        "uploaded = files.upload()"
      ],
      "execution_count": null,
      "outputs": [
        {
          "output_type": "display_data",
          "data": {
            "text/html": [
              "\n",
              "     <input type=\"file\" id=\"files-3f7d5d9c-db47-4ff7-b1af-67fb16728320\" name=\"files[]\" multiple disabled\n",
              "        style=\"border:none\" />\n",
              "     <output id=\"result-3f7d5d9c-db47-4ff7-b1af-67fb16728320\">\n",
              "      Upload widget is only available when the cell has been executed in the\n",
              "      current browser session. Please rerun this cell to enable.\n",
              "      </output>\n",
              "      <script src=\"/nbextensions/google.colab/files.js\"></script> "
            ],
            "text/plain": [
              "<IPython.core.display.HTML object>"
            ]
          },
          "metadata": {}
        },
        {
          "output_type": "stream",
          "name": "stdout",
          "text": [
            "Saving WA_Fn-UseC_-HR-Employee-Attrition.csv to WA_Fn-UseC_-HR-Employee-Attrition (2).csv\n"
          ]
        }
      ]
    },
    {
      "cell_type": "code",
      "metadata": {
        "id": "ZAGsaHQ6k3uh"
      },
      "source": [
        "#Reading csv file into pandas data frame  \n",
        "df = pd.read_csv(io.BytesIO(uploaded['WA_Fn-UseC_-HR-Employee-Attrition.csv']))"
      ],
      "execution_count": null,
      "outputs": []
    },
    {
      "cell_type": "code",
      "metadata": {
        "id": "pvPmcH8qoxgX"
      },
      "source": [
        "#Drop unecessary columns and columns with more than 0.75 correlaion\n",
        "df = df.drop(['EmployeeCount','StandardHours','Over18','EmployeeNumber','PerformanceRating','TotalWorkingYears','YearsInCurrentRole','YearsWithCurrManager'], axis=1)"
      ],
      "execution_count": null,
      "outputs": []
    },
    {
      "cell_type": "code",
      "metadata": {
        "id": "CW9eBWB5n-Xg"
      },
      "source": [
        "#Assigning category values to numerical colomns\n",
        "df['Attrition'] = df['Attrition'].map({'Yes':1, 'No':0})\n",
        "df.Education.replace({1: 'High School',2:'Undergrad',3:'Graduate',4:'Post Graduate',5:'Doctorate'},inplace=True)\n",
        "cols = [\"JobInvolvement\", \"JobSatisfaction\"]\n",
        "for col in cols:\n",
        "    df[col].replace({1 : \"Low\",2 : \"Medium\",3 : \"High\",4 : \"Very High\"}, inplace = True)"
      ],
      "execution_count": null,
      "outputs": []
    },
    {
      "cell_type": "code",
      "metadata": {
        "id": "DIKvHG2Do4ka"
      },
      "source": [
        "#features for attrition\n",
        "var = []\n",
        "for i in df.columns:\n",
        "    var.append([i, df[i].nunique(), df[i].drop_duplicates().values])"
      ],
      "execution_count": null,
      "outputs": []
    },
    {
      "cell_type": "code",
      "metadata": {
        "id": "nxxJsf0cpcCQ"
      },
      "source": [
        "#Extracting categorical variables from the data\n",
        "categorical = []\n",
        "for col, value in df.iteritems():\n",
        "    if value.dtype == 'object':\n",
        "        categorical.append(col)\n",
        "cat_var = df[categorical]"
      ],
      "execution_count": null,
      "outputs": []
    },
    {
      "cell_type": "code",
      "metadata": {
        "colab": {
          "base_uri": "https://localhost:8080/",
          "height": 243
        },
        "id": "tcPzPvwEqO4J",
        "outputId": "1ee0737b-5cd4-4101-e0ee-407a991a86e5"
      },
      "source": [
        "#Converting categorical data to indicator variables\n",
        "dummies = pd.get_dummies(cat_var)\n",
        "dummies.head()"
      ],
      "execution_count": null,
      "outputs": [
        {
          "output_type": "execute_result",
          "data": {
            "text/html": [
              "<div>\n",
              "<style scoped>\n",
              "    .dataframe tbody tr th:only-of-type {\n",
              "        vertical-align: middle;\n",
              "    }\n",
              "\n",
              "    .dataframe tbody tr th {\n",
              "        vertical-align: top;\n",
              "    }\n",
              "\n",
              "    .dataframe thead th {\n",
              "        text-align: right;\n",
              "    }\n",
              "</style>\n",
              "<table border=\"1\" class=\"dataframe\">\n",
              "  <thead>\n",
              "    <tr style=\"text-align: right;\">\n",
              "      <th></th>\n",
              "      <th>BusinessTravel_Non-Travel</th>\n",
              "      <th>BusinessTravel_Travel_Frequently</th>\n",
              "      <th>BusinessTravel_Travel_Rarely</th>\n",
              "      <th>Department_Human Resources</th>\n",
              "      <th>Department_Research &amp; Development</th>\n",
              "      <th>Department_Sales</th>\n",
              "      <th>Education_Doctorate</th>\n",
              "      <th>Education_Graduate</th>\n",
              "      <th>Education_High School</th>\n",
              "      <th>Education_Post Graduate</th>\n",
              "      <th>Education_Undergrad</th>\n",
              "      <th>EducationField_Human Resources</th>\n",
              "      <th>EducationField_Life Sciences</th>\n",
              "      <th>EducationField_Marketing</th>\n",
              "      <th>EducationField_Medical</th>\n",
              "      <th>EducationField_Other</th>\n",
              "      <th>EducationField_Technical Degree</th>\n",
              "      <th>Gender_Female</th>\n",
              "      <th>Gender_Male</th>\n",
              "      <th>JobInvolvement_High</th>\n",
              "      <th>JobInvolvement_Low</th>\n",
              "      <th>JobInvolvement_Medium</th>\n",
              "      <th>JobInvolvement_Very High</th>\n",
              "      <th>JobRole_Healthcare Representative</th>\n",
              "      <th>JobRole_Human Resources</th>\n",
              "      <th>JobRole_Laboratory Technician</th>\n",
              "      <th>JobRole_Manager</th>\n",
              "      <th>JobRole_Manufacturing Director</th>\n",
              "      <th>JobRole_Research Director</th>\n",
              "      <th>JobRole_Research Scientist</th>\n",
              "      <th>JobRole_Sales Executive</th>\n",
              "      <th>JobRole_Sales Representative</th>\n",
              "      <th>JobSatisfaction_High</th>\n",
              "      <th>JobSatisfaction_Low</th>\n",
              "      <th>JobSatisfaction_Medium</th>\n",
              "      <th>JobSatisfaction_Very High</th>\n",
              "      <th>MaritalStatus_Divorced</th>\n",
              "      <th>MaritalStatus_Married</th>\n",
              "      <th>MaritalStatus_Single</th>\n",
              "      <th>OverTime_No</th>\n",
              "      <th>OverTime_Yes</th>\n",
              "    </tr>\n",
              "  </thead>\n",
              "  <tbody>\n",
              "    <tr>\n",
              "      <th>0</th>\n",
              "      <td>0</td>\n",
              "      <td>0</td>\n",
              "      <td>1</td>\n",
              "      <td>0</td>\n",
              "      <td>0</td>\n",
              "      <td>1</td>\n",
              "      <td>0</td>\n",
              "      <td>0</td>\n",
              "      <td>0</td>\n",
              "      <td>0</td>\n",
              "      <td>1</td>\n",
              "      <td>0</td>\n",
              "      <td>1</td>\n",
              "      <td>0</td>\n",
              "      <td>0</td>\n",
              "      <td>0</td>\n",
              "      <td>0</td>\n",
              "      <td>1</td>\n",
              "      <td>0</td>\n",
              "      <td>1</td>\n",
              "      <td>0</td>\n",
              "      <td>0</td>\n",
              "      <td>0</td>\n",
              "      <td>0</td>\n",
              "      <td>0</td>\n",
              "      <td>0</td>\n",
              "      <td>0</td>\n",
              "      <td>0</td>\n",
              "      <td>0</td>\n",
              "      <td>0</td>\n",
              "      <td>1</td>\n",
              "      <td>0</td>\n",
              "      <td>0</td>\n",
              "      <td>0</td>\n",
              "      <td>0</td>\n",
              "      <td>1</td>\n",
              "      <td>0</td>\n",
              "      <td>0</td>\n",
              "      <td>1</td>\n",
              "      <td>0</td>\n",
              "      <td>1</td>\n",
              "    </tr>\n",
              "    <tr>\n",
              "      <th>1</th>\n",
              "      <td>0</td>\n",
              "      <td>1</td>\n",
              "      <td>0</td>\n",
              "      <td>0</td>\n",
              "      <td>1</td>\n",
              "      <td>0</td>\n",
              "      <td>0</td>\n",
              "      <td>0</td>\n",
              "      <td>1</td>\n",
              "      <td>0</td>\n",
              "      <td>0</td>\n",
              "      <td>0</td>\n",
              "      <td>1</td>\n",
              "      <td>0</td>\n",
              "      <td>0</td>\n",
              "      <td>0</td>\n",
              "      <td>0</td>\n",
              "      <td>0</td>\n",
              "      <td>1</td>\n",
              "      <td>0</td>\n",
              "      <td>0</td>\n",
              "      <td>1</td>\n",
              "      <td>0</td>\n",
              "      <td>0</td>\n",
              "      <td>0</td>\n",
              "      <td>0</td>\n",
              "      <td>0</td>\n",
              "      <td>0</td>\n",
              "      <td>0</td>\n",
              "      <td>1</td>\n",
              "      <td>0</td>\n",
              "      <td>0</td>\n",
              "      <td>0</td>\n",
              "      <td>0</td>\n",
              "      <td>1</td>\n",
              "      <td>0</td>\n",
              "      <td>0</td>\n",
              "      <td>1</td>\n",
              "      <td>0</td>\n",
              "      <td>1</td>\n",
              "      <td>0</td>\n",
              "    </tr>\n",
              "    <tr>\n",
              "      <th>2</th>\n",
              "      <td>0</td>\n",
              "      <td>0</td>\n",
              "      <td>1</td>\n",
              "      <td>0</td>\n",
              "      <td>1</td>\n",
              "      <td>0</td>\n",
              "      <td>0</td>\n",
              "      <td>0</td>\n",
              "      <td>0</td>\n",
              "      <td>0</td>\n",
              "      <td>1</td>\n",
              "      <td>0</td>\n",
              "      <td>0</td>\n",
              "      <td>0</td>\n",
              "      <td>0</td>\n",
              "      <td>1</td>\n",
              "      <td>0</td>\n",
              "      <td>0</td>\n",
              "      <td>1</td>\n",
              "      <td>0</td>\n",
              "      <td>0</td>\n",
              "      <td>1</td>\n",
              "      <td>0</td>\n",
              "      <td>0</td>\n",
              "      <td>0</td>\n",
              "      <td>1</td>\n",
              "      <td>0</td>\n",
              "      <td>0</td>\n",
              "      <td>0</td>\n",
              "      <td>0</td>\n",
              "      <td>0</td>\n",
              "      <td>0</td>\n",
              "      <td>1</td>\n",
              "      <td>0</td>\n",
              "      <td>0</td>\n",
              "      <td>0</td>\n",
              "      <td>0</td>\n",
              "      <td>0</td>\n",
              "      <td>1</td>\n",
              "      <td>0</td>\n",
              "      <td>1</td>\n",
              "    </tr>\n",
              "    <tr>\n",
              "      <th>3</th>\n",
              "      <td>0</td>\n",
              "      <td>1</td>\n",
              "      <td>0</td>\n",
              "      <td>0</td>\n",
              "      <td>1</td>\n",
              "      <td>0</td>\n",
              "      <td>0</td>\n",
              "      <td>0</td>\n",
              "      <td>0</td>\n",
              "      <td>1</td>\n",
              "      <td>0</td>\n",
              "      <td>0</td>\n",
              "      <td>1</td>\n",
              "      <td>0</td>\n",
              "      <td>0</td>\n",
              "      <td>0</td>\n",
              "      <td>0</td>\n",
              "      <td>1</td>\n",
              "      <td>0</td>\n",
              "      <td>1</td>\n",
              "      <td>0</td>\n",
              "      <td>0</td>\n",
              "      <td>0</td>\n",
              "      <td>0</td>\n",
              "      <td>0</td>\n",
              "      <td>0</td>\n",
              "      <td>0</td>\n",
              "      <td>0</td>\n",
              "      <td>0</td>\n",
              "      <td>1</td>\n",
              "      <td>0</td>\n",
              "      <td>0</td>\n",
              "      <td>1</td>\n",
              "      <td>0</td>\n",
              "      <td>0</td>\n",
              "      <td>0</td>\n",
              "      <td>0</td>\n",
              "      <td>1</td>\n",
              "      <td>0</td>\n",
              "      <td>0</td>\n",
              "      <td>1</td>\n",
              "    </tr>\n",
              "    <tr>\n",
              "      <th>4</th>\n",
              "      <td>0</td>\n",
              "      <td>0</td>\n",
              "      <td>1</td>\n",
              "      <td>0</td>\n",
              "      <td>1</td>\n",
              "      <td>0</td>\n",
              "      <td>0</td>\n",
              "      <td>0</td>\n",
              "      <td>1</td>\n",
              "      <td>0</td>\n",
              "      <td>0</td>\n",
              "      <td>0</td>\n",
              "      <td>0</td>\n",
              "      <td>0</td>\n",
              "      <td>1</td>\n",
              "      <td>0</td>\n",
              "      <td>0</td>\n",
              "      <td>0</td>\n",
              "      <td>1</td>\n",
              "      <td>1</td>\n",
              "      <td>0</td>\n",
              "      <td>0</td>\n",
              "      <td>0</td>\n",
              "      <td>0</td>\n",
              "      <td>0</td>\n",
              "      <td>1</td>\n",
              "      <td>0</td>\n",
              "      <td>0</td>\n",
              "      <td>0</td>\n",
              "      <td>0</td>\n",
              "      <td>0</td>\n",
              "      <td>0</td>\n",
              "      <td>0</td>\n",
              "      <td>0</td>\n",
              "      <td>1</td>\n",
              "      <td>0</td>\n",
              "      <td>0</td>\n",
              "      <td>1</td>\n",
              "      <td>0</td>\n",
              "      <td>1</td>\n",
              "      <td>0</td>\n",
              "    </tr>\n",
              "  </tbody>\n",
              "</table>\n",
              "</div>"
            ],
            "text/plain": [
              "   BusinessTravel_Non-Travel  ...  OverTime_Yes\n",
              "0                          0  ...             1\n",
              "1                          0  ...             0\n",
              "2                          0  ...             1\n",
              "3                          0  ...             1\n",
              "4                          0  ...             0\n",
              "\n",
              "[5 rows x 41 columns]"
            ]
          },
          "metadata": {},
          "execution_count": 115
        }
      ]
    },
    {
      "cell_type": "code",
      "metadata": {
        "id": "is-pwPibq0su"
      },
      "source": [
        "#Normalizing the attrition variable x\n",
        "x = MinMaxScaler().fit_transform(dummies)\n",
        "y = df['Attrition'].values"
      ],
      "execution_count": null,
      "outputs": []
    },
    {
      "cell_type": "markdown",
      "metadata": {
        "id": "AczMAHylkbbT"
      },
      "source": [
        ""
      ]
    },
    {
      "cell_type": "markdown",
      "metadata": {
        "id": "V1FfXlexrBC2"
      },
      "source": [
        "##Model 1 : Logistic Regression"
      ]
    },
    {
      "cell_type": "code",
      "metadata": {
        "id": "IvIs5sRiq-9p"
      },
      "source": [
        "#Split train and test data in 80:20 ratio\n",
        "X_train, X_test, y_train, y_test = train_test_split(x, y, test_size = 0.2, random_state = 0)"
      ],
      "execution_count": null,
      "outputs": []
    },
    {
      "cell_type": "code",
      "metadata": {
        "colab": {
          "base_uri": "https://localhost:8080/"
        },
        "id": "acWrbpbYstQb",
        "outputId": "0895fd8f-4533-4cf2-ce10-4a002214965b"
      },
      "source": [
        "#Fitting model on training data\n",
        "lr = LogisticRegression()\n",
        "model1 = lr.fit(X_train,y_train)\n",
        "model1"
      ],
      "execution_count": null,
      "outputs": [
        {
          "output_type": "execute_result",
          "data": {
            "text/plain": [
              "LogisticRegression()"
            ]
          },
          "metadata": {},
          "execution_count": 118
        }
      ]
    },
    {
      "cell_type": "code",
      "metadata": {
        "id": "QWs2bY9os89F"
      },
      "source": [
        "#Storing model predictions on testing data\n",
        "y_pred=lr.predict(X_test)"
      ],
      "execution_count": null,
      "outputs": []
    },
    {
      "cell_type": "code",
      "metadata": {
        "colab": {
          "base_uri": "https://localhost:8080/",
          "height": 265
        },
        "id": "yRCE7WL5tCh_",
        "outputId": "3ecdffa8-fd40-43df-9b3f-2f5377a4c319"
      },
      "source": [
        "#Using seaborn for ploting heatmap\n",
        "sns.heatmap(confusion_matrix(y_test, y_pred), annot=True,cmap ='coolwarm' )\n",
        "plt.show()"
      ],
      "execution_count": null,
      "outputs": [
        {
          "output_type": "display_data",
          "data": {
            "image/png": "[encoded data removed]",
            "text/plain": [
              "<Figure size 432x288 with 2 Axes>"
            ]
          },
          "metadata": {
            "needs_background": "light"
          }
        }
      ]
    },
    {
      "cell_type": "code",
      "metadata": {
        "colab": {
          "base_uri": "https://localhost:8080/"
        },
        "id": "D_z8d4gktFQb",
        "outputId": "6b92a47c-fde8-4d57-c227-41cb94062beb"
      },
      "source": [
        "#Print various scores of model 1 i.e.logistic regression\n",
        "accuracy_1 = accuracy_score(y_test,y_pred)\n",
        "print(\"Accuracy of logistic regression model is :\",accuracy_1)\n",
        "print(\"Precision of logistic regression model is :\",metrics.precision_score(y_test, y_pred))\n",
        "print(\"Recall of logistic regression model is :\",metrics.recall_score(y_test, y_pred))"
      ],
      "execution_count": null,
      "outputs": [
        {
          "output_type": "stream",
          "name": "stdout",
          "text": [
            "Accuracy of logistic regression model is : 0.8605442176870748\n",
            "Precision of logistic regression model is : 0.75\n",
            "Recall of logistic regression model is : 0.24489795918367346\n"
          ]
        }
      ]
    },
    {
      "cell_type": "markdown",
      "metadata": {
        "id": "mTLtzM_oiKDs"
      },
      "source": [
        "Lasso and Ridge Regularization "
      ]
    },
    {
      "cell_type": "code",
      "metadata": {
        "colab": {
          "base_uri": "https://localhost:8080/"
        },
        "id": "TpUuPV2SiS10",
        "outputId": "1d2db141-d61f-43af-d9a2-c18b19d5163e"
      },
      "source": [
        "mean_squared_error(y_test,model1.predict(X_test))"
      ],
      "execution_count": null,
      "outputs": [
        {
          "output_type": "execute_result",
          "data": {
            "text/plain": [
              "0.13945578231292516"
            ]
          },
          "metadata": {},
          "execution_count": 122
        }
      ]
    },
    {
      "cell_type": "code",
      "metadata": {
        "colab": {
          "base_uri": "https://localhost:8080/"
        },
        "id": "EosSqS43iSuY",
        "outputId": "9ea0b9d6-dab9-4840-db64-244c99cb6f7c"
      },
      "source": [
        "r2 = r2_score(y_test,model1.predict(X_test))\n",
        "print(r2)"
      ],
      "execution_count": null,
      "outputs": [
        {
          "output_type": "stream",
          "name": "stdout",
          "text": [
            "-0.004081632653061051\n"
          ]
        }
      ]
    },
    {
      "cell_type": "code",
      "metadata": {
        "colab": {
          "base_uri": "https://localhost:8080/"
        },
        "id": "TpxLMxjMi5-Q",
        "outputId": "7622aef7-2b26-41af-e42b-d8e6faa67f49"
      },
      "source": [
        "#Lasso regularization\n",
        "a = [0.001, 0.005, 0.01, 0.05, 0.1,0.5]\n",
        "for i in range(len(a)):\n",
        "  lasso_reg = linear_model.Lasso(alpha = a[i] )\n",
        "  lasso_reg.fit(X_train,y_train)\n",
        "  r2_l = r2_score(y_test,lasso_reg.predict(X_test))\n",
        "  print(\"For alpha = \" + str(a[i]) + \" : MSE is \" + str(mean_squared_error(y_test,lasso_reg.predict(X_test))) + \"and r^2 score is : \" + str(r2_l))\n",
        "\n",
        "\n"
      ],
      "execution_count": null,
      "outputs": [
        {
          "output_type": "stream",
          "name": "stdout",
          "text": [
            "For alpha = 0.001 : MSE is 0.11279108734989944and r^2 score is : 0.1879041710807242\n",
            "For alpha = 0.005 : MSE is 0.11550897124424735and r^2 score is : 0.16833540704141936\n",
            "For alpha = 0.01 : MSE is 0.1196397151043211and r^2 score is : 0.13859405124888835\n",
            "For alpha = 0.05 : MSE is 0.13893516590309596and r^2 score is : -0.00033319450229063463\n",
            "For alpha = 0.1 : MSE is 0.13893516590309596and r^2 score is : -0.00033319450229063463\n",
            "For alpha = 0.5 : MSE is 0.13893516590309596and r^2 score is : -0.00033319450229063463\n"
          ]
        }
      ]
    },
    {
      "cell_type": "code",
      "metadata": {
        "colab": {
          "base_uri": "https://localhost:8080/"
        },
        "id": "Q5z04Sl7i5sK",
        "outputId": "017e59f3-f715-4da3-b65c-46133d73c013"
      },
      "source": [
        "#Ridge regularization\n",
        "for i in range(len(a)):\n",
        "  r_reg = Ridge(alpha = a[i] )\n",
        "  r_reg.fit(X_train,y_train)\n",
        "  r2_l = r2_score(y_test,r_reg.predict(X_test))\n",
        "  print(\"For alpha = \" + str(a[i]) + \" : MSE is \" + str(mean_squared_error(y_test,r_reg.predict(X_test))) + \"and r^2 score is : \" + str(r2_l))"
      ],
      "execution_count": null,
      "outputs": [
        {
          "output_type": "stream",
          "name": "stdout",
          "text": [
            "For alpha = 0.001 : MSE is 0.11295234761871513and r^2 score is : 0.18674309714525128\n",
            "For alpha = 0.005 : MSE is 0.11295142100101797and r^2 score is : 0.1867497687926708\n",
            "For alpha = 0.01 : MSE is 0.11295026497529005and r^2 score is : 0.18675809217791184\n",
            "For alpha = 0.05 : MSE is 0.11294110566286945and r^2 score is : 0.18682403922734014\n",
            "For alpha = 0.1 : MSE is 0.1129298741947373and r^2 score is : 0.18690490579789165\n",
            "For alpha = 0.5 : MSE is 0.11284788376300527and r^2 score is : 0.18749523690636227\n"
          ]
        }
      ]
    },
    {
      "cell_type": "markdown",
      "metadata": {
        "id": "_Uj10FBQmzRj"
      },
      "source": [
        "##Model 2 : Decision Tree\n"
      ]
    },
    {
      "cell_type": "code",
      "metadata": {
        "id": "hiTkGHlpnH1x"
      },
      "source": [
        "x_train, x_test, y_train, y_test = train_test_split(x,y,test_size=0.2)"
      ],
      "execution_count": null,
      "outputs": []
    },
    {
      "cell_type": "code",
      "metadata": {
        "id": "5-ghJbyZnLCG"
      },
      "source": [
        "model2 = DecisionTreeClassifier(max_depth=4, random_state=1,criterion ='gini')\n",
        "dt = model2.fit(x_train,y_train)"
      ],
      "execution_count": null,
      "outputs": []
    },
    {
      "cell_type": "code",
      "metadata": {
        "colab": {
          "base_uri": "https://localhost:8080/"
        },
        "id": "dcnXEDYK9LeI",
        "outputId": "259e9438-290c-4f32-d8ce-fd960a0d06ab"
      },
      "source": [
        "model_dt_score_train = model2.score(x_train, y_train)\n",
        "print(\"Training score for Decision tree model is : \",model_dt_score_train)\n",
        "model_dt_score_test = model2.score(x_test, y_test)\n",
        "print(\"Testing score for Decision tree model is : \",model_dt_score_test)\n",
        "y_pred_dt = model2.predict_proba(x_test)[:, 1]"
      ],
      "execution_count": null,
      "outputs": [
        {
          "output_type": "stream",
          "name": "stdout",
          "text": [
            "Training score for Decision tree model is :  0.8724489795918368\n",
            "Testing score for Decision tree model is :  0.7891156462585034\n"
          ]
        }
      ]
    },
    {
      "cell_type": "code",
      "metadata": {
        "id": "wIztjXxMnWd4"
      },
      "source": [
        "y_pred_gini = dt.predict(x_test)"
      ],
      "execution_count": null,
      "outputs": []
    },
    {
      "cell_type": "code",
      "metadata": {
        "id": "n8KyAHwHnXES"
      },
      "source": [
        "accuracy_2 = accuracy_score(y_test,y_pred_gini)"
      ],
      "execution_count": null,
      "outputs": []
    },
    {
      "cell_type": "code",
      "metadata": {
        "id": "t_qb0GBGncN6",
        "colab": {
          "base_uri": "https://localhost:8080/"
        },
        "outputId": "d5e43c39-f000-422c-a115-e784924759f2"
      },
      "source": [
        "sns.heatmap(confusion_matrix(y_test, y_pred_gini), annot=True,cmap ='coolwarm')\n",
        "plt.show()"
      ],
      "execution_count": null,
      "outputs": [
        {
          "output_type": "display_data",
          "data": {
            "image/png": "[encoded data removed]",
            "text/plain": [
              "<Figure size 432x288 with 2 Axes>"
            ]
          },
          "metadata": {
            "needs_background": "light"
          }
        }
      ]
    },
    {
      "cell_type": "code",
      "metadata": {
        "id": "YA9-Qng-nfRV",
        "colab": {
          "base_uri": "https://localhost:8080/"
        },
        "outputId": "3f2c70e6-3571-4908-d379-1fa16e30f019"
      },
      "source": [
        "print(classification_report(y_test,y_pred_gini))"
      ],
      "execution_count": null,
      "outputs": [
        {
          "output_type": "stream",
          "name": "stdout",
          "text": [
            "              precision    recall  f1-score   support\n",
            "\n",
            "           0       0.81      0.96      0.88       235\n",
            "           1       0.41      0.12      0.18        59\n",
            "\n",
            "    accuracy                           0.79       294\n",
            "   macro avg       0.61      0.54      0.53       294\n",
            "weighted avg       0.73      0.79      0.74       294\n",
            "\n"
          ]
        }
      ]
    },
    {
      "cell_type": "code",
      "metadata": {
        "colab": {
          "base_uri": "https://localhost:8080/"
        },
        "id": "bZSP0R0RQyb0",
        "outputId": "7d995b0e-d6b7-4796-e353-faa8bf6444d2"
      },
      "source": [
        "#Data spliting using decision tree model\n",
        "plt.subplots(figsize=(15, 15))\n",
        "tree.plot_tree(dt,fontsize=10,max_depth=4)"
      ],
      "execution_count": null,
      "outputs": [
        {
          "output_type": "execute_result",
          "data": {
            "text/plain": [
              "[Text(366.1875, 733.86, 'X[39] <= 0.5\\ngini = 0.257\\nsamples = 1176\\nvalue = [998, 178]'),\n",
              " Text(174.375, 570.78, 'X[38] <= 0.5\\ngini = 0.423\\nsamples = 323\\nvalue = [225, 98]'),\n",
              " Text(104.625, 407.70000000000005, 'X[23] <= 0.5\\ngini = 0.322\\nsamples = 218\\nvalue = [174, 44]'),\n",
              " Text(69.75, 244.62, 'X[20] <= 0.5\\ngini = 0.353\\nsamples = 192\\nvalue = [148, 44]'),\n",
              " Text(34.875, 81.54000000000008, 'gini = 0.329\\nsamples = 178\\nvalue = [141, 37]'),\n",
              " Text(104.625, 81.54000000000008, 'gini = 0.5\\nsamples = 14\\nvalue = [7, 7]'),\n",
              " Text(139.5, 244.62, 'gini = 0.0\\nsamples = 26\\nvalue = [26, 0]'),\n",
              " Text(244.125, 407.70000000000005, 'X[27] <= 0.5\\ngini = 0.5\\nsamples = 105\\nvalue = [51, 54]'),\n",
              " Text(209.25, 244.62, 'X[35] <= 0.5\\ngini = 0.487\\nsamples = 93\\nvalue = [39, 54]'),\n",
              " Text(174.375, 81.54000000000008, 'gini = 0.42\\nsamples = 60\\nvalue = [18, 42]'),\n",
              " Text(244.125, 81.54000000000008, 'gini = 0.463\\nsamples = 33\\nvalue = [21, 12]'),\n",
              " Text(279.0, 244.62, 'gini = 0.0\\nsamples = 12\\nvalue = [12, 0]'),\n",
              " Text(558.0, 570.78, 'X[33] <= 0.5\\ngini = 0.17\\nsamples = 853\\nvalue = [773, 80]'),\n",
              " Text(418.5, 407.70000000000005, 'X[38] <= 0.5\\ngini = 0.135\\nsamples = 688\\nvalue = [638, 50]'),\n",
              " Text(348.75, 244.62, 'X[11] <= 0.5\\ngini = 0.091\\nsamples = 461\\nvalue = [439, 22]'),\n",
              " Text(313.875, 81.54000000000008, 'gini = 0.081\\nsamples = 450\\nvalue = [431, 19]'),\n",
              " Text(383.625, 81.54000000000008, 'gini = 0.397\\nsamples = 11\\nvalue = [8, 3]'),\n",
              " Text(488.25, 244.62, 'X[31] <= 0.5\\ngini = 0.216\\nsamples = 227\\nvalue = [199, 28]'),\n",
              " Text(453.375, 81.54000000000008, 'gini = 0.199\\nsamples = 214\\nvalue = [190, 24]'),\n",
              " Text(523.125, 81.54000000000008, 'gini = 0.426\\nsamples = 13\\nvalue = [9, 4]'),\n",
              " Text(697.5, 407.70000000000005, 'X[31] <= 0.5\\ngini = 0.298\\nsamples = 165\\nvalue = [135, 30]'),\n",
              " Text(627.75, 244.62, 'X[25] <= 0.5\\ngini = 0.26\\nsamples = 156\\nvalue = [132, 24]'),\n",
              " Text(592.875, 81.54000000000008, 'gini = 0.207\\nsamples = 128\\nvalue = [113, 15]'),\n",
              " Text(662.625, 81.54000000000008, 'gini = 0.436\\nsamples = 28\\nvalue = [19, 9]'),\n",
              " Text(767.25, 244.62, 'X[1] <= 0.5\\ngini = 0.444\\nsamples = 9\\nvalue = [3, 6]'),\n",
              " Text(732.375, 81.54000000000008, 'gini = 0.48\\nsamples = 5\\nvalue = [3, 2]'),\n",
              " Text(802.125, 81.54000000000008, 'gini = 0.0\\nsamples = 4\\nvalue = [0, 4]')]"
            ]
          },
          "metadata": {},
          "execution_count": 133
        },
        {
          "output_type": "display_data",
          "data": {
            "image/png": "[encoded data removed]",
            "text/plain": [
              "<Figure size 1080x1080 with 1 Axes>"
            ]
          },
          "metadata": {
            "needs_background": "light"
          }
        }
      ]
    },
    {
      "cell_type": "code",
      "metadata": {
        "colab": {
          "base_uri": "https://localhost:8080/"
        },
        "id": "DnjiDPtGQ1nu",
        "outputId": "b9b01bba-894e-4a0a-acf9-e5c81d9217b7"
      },
      "source": [
        "dt_plot = graphviz.Source(tree.export_graphviz(dt,out_file=None,feature_names=dummies.columns,filled=True,special_characters=True,max_depth=4))\n",
        "dt_plot"
      ],
      "execution_count": null,
      "outputs": [
        {
          "output_type": "execute_result",
          "data": {
            "text/plain": [
              "<graphviz.files.Source at 0x7ff8497862d0>"
            ],
            "image/svg+xml": "<?xml version=\"1.0\" encoding=\"UTF-8\" standalone=\"no\"?>\n<!DOCTYPE svg PUBLIC \"-//W3C//DTD SVG 1.1//EN\"\n \"http://www.w3.org/Graphics/SVG/1.1/DTD/svg11.dtd\">\n<!-- Generated by graphviz version 2.40.1 (20161225.0304)\n -->\n<!-- Title: Tree Pages: 1 -->\n<svg width=\"1861pt\" height=\"477pt\"\n viewBox=\"0.00 0.00 1860.50 477.00\" xmlns=\"http://www.w3.org/2000/svg\" xmlns:xlink=\"http://www.w3.org/1999/xlink\">\n<g id=\"graph0\" class=\"graph\" transform=\"scale(1 1) rotate(0) translate(4 473)\">\n<title>Tree</title>\n<polygon fill=\"#ffffff\" stroke=\"transparent\" points=\"-4,4 -4,-473 1856.5,-473 1856.5,4 -4,4\"/>\n<!-- 0 -->\n<g id=\"node1\" class=\"node\">\n<title>0</title>\n<polygon fill=\"#ea975c\" stroke=\"#000000\" points=\"826,-469 684,-469 684,-401 826,-401 826,-469\"/>\n<text text-anchor=\"start\" x=\"692\" y=\"-453.8\" font-family=\"Helvetica,sans-Serif\" font-size=\"14.00\" fill=\"#000000\">OverTime_No ≤ 0.5</text>\n<text text-anchor=\"start\" x=\"717\" y=\"-438.8\" font-family=\"Helvetica,sans-Serif\" font-size=\"14.00\" fill=\"#000000\">gini = 0.257</text>\n<text text-anchor=\"start\" x=\"703\" y=\"-423.8\" font-family=\"Helvetica,sans-Serif\" font-size=\"14.00\" fill=\"#000000\">samples = 1176</text>\n<text text-anchor=\"start\" x=\"697\" y=\"-408.8\" font-family=\"Helvetica,sans-Serif\" font-size=\"14.00\" fill=\"#000000\">value = [998, 178]</text>\n</g>\n<!-- 1 -->\n<g id=\"node2\" class=\"node\">\n<title>1</title>\n<polygon fill=\"#f0b88f\" stroke=\"#000000\" points=\"727.5,-365 542.5,-365 542.5,-297 727.5,-297 727.5,-365\"/>\n<text text-anchor=\"start\" x=\"550.5\" y=\"-349.8\" font-family=\"Helvetica,sans-Serif\" font-size=\"14.00\" fill=\"#000000\">MaritalStatus_Single ≤ 0.5</text>\n<text text-anchor=\"start\" x=\"597\" y=\"-334.8\" font-family=\"Helvetica,sans-Serif\" font-size=\"14.00\" fill=\"#000000\">gini = 0.423</text>\n<text text-anchor=\"start\" x=\"587\" y=\"-319.8\" font-family=\"Helvetica,sans-Serif\" font-size=\"14.00\" fill=\"#000000\">samples = 323</text>\n<text text-anchor=\"start\" x=\"581\" y=\"-304.8\" font-family=\"Helvetica,sans-Serif\" font-size=\"14.00\" fill=\"#000000\">value = [225, 98]</text>\n</g>\n<!-- 0&#45;&gt;1 -->\n<g id=\"edge1\" class=\"edge\">\n<title>0&#45;&gt;1</title>\n<path fill=\"none\" stroke=\"#000000\" d=\"M715.7075,-400.9465C704.9333,-391.6088 693.1436,-381.3911 681.985,-371.7203\"/>\n<polygon fill=\"#000000\" stroke=\"#000000\" points=\"684.2299,-369.0344 674.3808,-365.13 679.6454,-374.3243 684.2299,-369.0344\"/>\n<text text-anchor=\"middle\" x=\"676.1619\" y=\"-386.3665\" font-family=\"Helvetica,sans-Serif\" font-size=\"14.00\" fill=\"#000000\">True</text>\n</g>\n<!-- 12 -->\n<g id=\"node13\" class=\"node\">\n<title>12</title>\n<polygon fill=\"#e88e4d\" stroke=\"#000000\" points=\"991,-365 805,-365 805,-297 991,-297 991,-365\"/>\n<text text-anchor=\"start\" x=\"813\" y=\"-349.8\" font-family=\"Helvetica,sans-Serif\" font-size=\"14.00\" fill=\"#000000\">JobSatisfaction_Low ≤ 0.5</text>\n<text text-anchor=\"start\" x=\"864.5\" y=\"-334.8\" font-family=\"Helvetica,sans-Serif\" font-size=\"14.00\" fill=\"#000000\">gini = 0.17</text>\n<text text-anchor=\"start\" x=\"850\" y=\"-319.8\" font-family=\"Helvetica,sans-Serif\" font-size=\"14.00\" fill=\"#000000\">samples = 853</text>\n<text text-anchor=\"start\" x=\"844\" y=\"-304.8\" font-family=\"Helvetica,sans-Serif\" font-size=\"14.00\" fill=\"#000000\">value = [773, 80]</text>\n</g>\n<!-- 0&#45;&gt;12 -->\n<g id=\"edge12\" class=\"edge\">\n<title>0&#45;&gt;12</title>\n<path fill=\"none\" stroke=\"#000000\" d=\"M801.8235,-400.9465C814.9098,-391.4293 829.253,-380.9978 842.7759,-371.163\"/>\n<polygon fill=\"#000000\" stroke=\"#000000\" points=\"845.0425,-373.8423 851.0713,-365.13 840.9253,-368.1812 845.0425,-373.8423\"/>\n<text text-anchor=\"middle\" x=\"847.1722\" y=\"-386.1241\" font-family=\"Helvetica,sans-Serif\" font-size=\"14.00\" fill=\"#000000\">False</text>\n</g>\n<!-- 2 -->\n<g id=\"node3\" class=\"node\">\n<title>2</title>\n<polygon fill=\"#eca16b\" stroke=\"#000000\" points=\"438.5,-261 151.5,-261 151.5,-193 438.5,-193 438.5,-261\"/>\n<text text-anchor=\"start\" x=\"159.5\" y=\"-245.8\" font-family=\"Helvetica,sans-Serif\" font-size=\"14.00\" fill=\"#000000\">JobRole_Healthcare Representative ≤ 0.5</text>\n<text text-anchor=\"start\" x=\"257\" y=\"-230.8\" font-family=\"Helvetica,sans-Serif\" font-size=\"14.00\" fill=\"#000000\">gini = 0.322</text>\n<text text-anchor=\"start\" x=\"247\" y=\"-215.8\" font-family=\"Helvetica,sans-Serif\" font-size=\"14.00\" fill=\"#000000\">samples = 218</text>\n<text text-anchor=\"start\" x=\"241\" y=\"-200.8\" font-family=\"Helvetica,sans-Serif\" font-size=\"14.00\" fill=\"#000000\">value = [174, 44]</text>\n</g>\n<!-- 1&#45;&gt;2 -->\n<g id=\"edge2\" class=\"edge\">\n<title>1&#45;&gt;2</title>\n<path fill=\"none\" stroke=\"#000000\" d=\"M542.0935,-302.5815C503.1494,-290.6692 457.3572,-276.6622 415.8437,-263.9639\"/>\n<polygon fill=\"#000000\" stroke=\"#000000\" points=\"416.8122,-260.6002 406.2258,-261.022 414.7646,-267.294 416.8122,-260.6002\"/>\n</g>\n<!-- 7 -->\n<g id=\"node8\" class=\"node\">\n<title>7</title>\n<polygon fill=\"#f4fafe\" stroke=\"#000000\" points=\"765,-261 505,-261 505,-193 765,-193 765,-261\"/>\n<text text-anchor=\"start\" x=\"513\" y=\"-245.8\" font-family=\"Helvetica,sans-Serif\" font-size=\"14.00\" fill=\"#000000\">JobRole_Manufacturing Director ≤ 0.5</text>\n<text text-anchor=\"start\" x=\"605.5\" y=\"-230.8\" font-family=\"Helvetica,sans-Serif\" font-size=\"14.00\" fill=\"#000000\">gini = 0.5</text>\n<text text-anchor=\"start\" x=\"587\" y=\"-215.8\" font-family=\"Helvetica,sans-Serif\" font-size=\"14.00\" fill=\"#000000\">samples = 105</text>\n<text text-anchor=\"start\" x=\"585\" y=\"-200.8\" font-family=\"Helvetica,sans-Serif\" font-size=\"14.00\" fill=\"#000000\">value = [51, 54]</text>\n</g>\n<!-- 1&#45;&gt;7 -->\n<g id=\"edge7\" class=\"edge\">\n<title>1&#45;&gt;7</title>\n<path fill=\"none\" stroke=\"#000000\" d=\"M635,-296.9465C635,-288.776 635,-279.9318 635,-271.3697\"/>\n<polygon fill=\"#000000\" stroke=\"#000000\" points=\"638.5001,-271.13 635,-261.13 631.5001,-271.13 638.5001,-271.13\"/>\n</g>\n<!-- 3 -->\n<g id=\"node4\" class=\"node\">\n<title>3</title>\n<polygon fill=\"#eda674\" stroke=\"#000000\" points=\"223,-157 33,-157 33,-89 223,-89 223,-157\"/>\n<text text-anchor=\"start\" x=\"41\" y=\"-141.8\" font-family=\"Helvetica,sans-Serif\" font-size=\"14.00\" fill=\"#000000\">JobInvolvement_Low ≤ 0.5</text>\n<text text-anchor=\"start\" x=\"90\" y=\"-126.8\" font-family=\"Helvetica,sans-Serif\" font-size=\"14.00\" fill=\"#000000\">gini = 0.353</text>\n<text text-anchor=\"start\" x=\"80\" y=\"-111.8\" font-family=\"Helvetica,sans-Serif\" font-size=\"14.00\" fill=\"#000000\">samples = 192</text>\n<text text-anchor=\"start\" x=\"74\" y=\"-96.8\" font-family=\"Helvetica,sans-Serif\" font-size=\"14.00\" fill=\"#000000\">value = [148, 44]</text>\n</g>\n<!-- 2&#45;&gt;3 -->\n<g id=\"edge3\" class=\"edge\">\n<title>2&#45;&gt;3</title>\n<path fill=\"none\" stroke=\"#000000\" d=\"M240.318,-192.9465C224.7471,-183.2497 207.6524,-172.6039 191.5996,-162.6069\"/>\n<polygon fill=\"#000000\" stroke=\"#000000\" points=\"193.1437,-159.4453 182.8049,-157.13 189.4432,-165.3873 193.1437,-159.4453\"/>\n</g>\n<!-- 6 -->\n<g id=\"node7\" class=\"node\">\n<title>6</title>\n<polygon fill=\"#e58139\" stroke=\"#000000\" points=\"348.5,-149.5 241.5,-149.5 241.5,-96.5 348.5,-96.5 348.5,-149.5\"/>\n<text text-anchor=\"start\" x=\"265.5\" y=\"-134.3\" font-family=\"Helvetica,sans-Serif\" font-size=\"14.00\" fill=\"#000000\">gini = 0.0</text>\n<text text-anchor=\"start\" x=\"251\" y=\"-119.3\" font-family=\"Helvetica,sans-Serif\" font-size=\"14.00\" fill=\"#000000\">samples = 26</text>\n<text text-anchor=\"start\" x=\"249.5\" y=\"-104.3\" font-family=\"Helvetica,sans-Serif\" font-size=\"14.00\" fill=\"#000000\">value = [26, 0]</text>\n</g>\n<!-- 2&#45;&gt;6 -->\n<g id=\"edge6\" class=\"edge\">\n<title>2&#45;&gt;6</title>\n<path fill=\"none\" stroke=\"#000000\" d=\"M295,-192.9465C295,-182.2621 295,-170.4254 295,-159.5742\"/>\n<polygon fill=\"#000000\" stroke=\"#000000\" points=\"298.5001,-159.5421 295,-149.5422 291.5001,-159.5422 298.5001,-159.5421\"/>\n</g>\n<!-- 4 -->\n<g id=\"node5\" class=\"node\">\n<title>4</title>\n<polygon fill=\"#eca26d\" stroke=\"#000000\" points=\"124,-53 0,-53 0,0 124,0 124,-53\"/>\n<text text-anchor=\"start\" x=\"24\" y=\"-37.8\" font-family=\"Helvetica,sans-Serif\" font-size=\"14.00\" fill=\"#000000\">gini = 0.329</text>\n<text text-anchor=\"start\" x=\"14\" y=\"-22.8\" font-family=\"Helvetica,sans-Serif\" font-size=\"14.00\" fill=\"#000000\">samples = 178</text>\n<text text-anchor=\"start\" x=\"8\" y=\"-7.8\" font-family=\"Helvetica,sans-Serif\" font-size=\"14.00\" fill=\"#000000\">value = [141, 37]</text>\n</g>\n<!-- 3&#45;&gt;4 -->\n<g id=\"edge4\" class=\"edge\">\n<title>3&#45;&gt;4</title>\n<path fill=\"none\" stroke=\"#000000\" d=\"M104.7309,-88.9777C98.656,-80.0954 92.0979,-70.5067 85.9865,-61.5711\"/>\n<polygon fill=\"#000000\" stroke=\"#000000\" points=\"88.8286,-59.5267 80.2943,-53.2485 83.0507,-63.4785 88.8286,-59.5267\"/>\n</g>\n<!-- 5 -->\n<g id=\"node6\" class=\"node\">\n<title>5</title>\n<polygon fill=\"#ffffff\" stroke=\"#000000\" points=\"246,-53 142,-53 142,0 246,0 246,-53\"/>\n<text text-anchor=\"start\" x=\"164.5\" y=\"-37.8\" font-family=\"Helvetica,sans-Serif\" font-size=\"14.00\" fill=\"#000000\">gini = 0.5</text>\n<text text-anchor=\"start\" x=\"150\" y=\"-22.8\" font-family=\"Helvetica,sans-Serif\" font-size=\"14.00\" fill=\"#000000\">samples = 14</text>\n<text text-anchor=\"start\" x=\"152.5\" y=\"-7.8\" font-family=\"Helvetica,sans-Serif\" font-size=\"14.00\" fill=\"#000000\">value = [7, 7]</text>\n</g>\n<!-- 3&#45;&gt;5 -->\n<g id=\"edge5\" class=\"edge\">\n<title>3&#45;&gt;5</title>\n<path fill=\"none\" stroke=\"#000000\" d=\"M151.2691,-88.9777C157.344,-80.0954 163.9021,-70.5067 170.0135,-61.5711\"/>\n<polygon fill=\"#000000\" stroke=\"#000000\" points=\"172.9493,-63.4785 175.7057,-53.2485 167.1714,-59.5267 172.9493,-63.4785\"/>\n</g>\n<!-- 8 -->\n<g id=\"node9\" class=\"node\">\n<title>8</title>\n<polygon fill=\"#c8e4f8\" stroke=\"#000000\" points=\"589,-157 367,-157 367,-89 589,-89 589,-157\"/>\n<text text-anchor=\"start\" x=\"375\" y=\"-141.8\" font-family=\"Helvetica,sans-Serif\" font-size=\"14.00\" fill=\"#000000\">JobSatisfaction_Very High ≤ 0.5</text>\n<text text-anchor=\"start\" x=\"440\" y=\"-126.8\" font-family=\"Helvetica,sans-Serif\" font-size=\"14.00\" fill=\"#000000\">gini = 0.487</text>\n<text text-anchor=\"start\" x=\"434\" y=\"-111.8\" font-family=\"Helvetica,sans-Serif\" font-size=\"14.00\" fill=\"#000000\">samples = 93</text>\n<text text-anchor=\"start\" x=\"428\" y=\"-96.8\" font-family=\"Helvetica,sans-Serif\" font-size=\"14.00\" fill=\"#000000\">value = [39, 54]</text>\n</g>\n<!-- 7&#45;&gt;8 -->\n<g id=\"edge8\" class=\"edge\">\n<title>7&#45;&gt;8</title>\n<path fill=\"none\" stroke=\"#000000\" d=\"M583.5923,-192.9465C569.0894,-183.3395 553.1802,-172.8009 538.2107,-162.8848\"/>\n<polygon fill=\"#000000\" stroke=\"#000000\" points=\"539.7929,-159.7346 529.5232,-157.13 535.9271,-165.5704 539.7929,-159.7346\"/>\n</g>\n<!-- 11 -->\n<g id=\"node12\" class=\"node\">\n<title>11</title>\n<polygon fill=\"#e58139\" stroke=\"#000000\" points=\"714.5,-149.5 607.5,-149.5 607.5,-96.5 714.5,-96.5 714.5,-149.5\"/>\n<text text-anchor=\"start\" x=\"631.5\" y=\"-134.3\" font-family=\"Helvetica,sans-Serif\" font-size=\"14.00\" fill=\"#000000\">gini = 0.0</text>\n<text text-anchor=\"start\" x=\"617\" y=\"-119.3\" font-family=\"Helvetica,sans-Serif\" font-size=\"14.00\" fill=\"#000000\">samples = 12</text>\n<text text-anchor=\"start\" x=\"615.5\" y=\"-104.3\" font-family=\"Helvetica,sans-Serif\" font-size=\"14.00\" fill=\"#000000\">value = [12, 0]</text>\n</g>\n<!-- 7&#45;&gt;11 -->\n<g id=\"edge11\" class=\"edge\">\n<title>7&#45;&gt;11</title>\n<path fill=\"none\" stroke=\"#000000\" d=\"M643.5134,-192.9465C646.1845,-182.2621 649.1436,-170.4254 651.8564,-159.5742\"/>\n<polygon fill=\"#000000\" stroke=\"#000000\" points=\"655.3345,-160.0925 654.3645,-149.5422 648.5435,-158.3947 655.3345,-160.0925\"/>\n</g>\n<!-- 9 -->\n<g id=\"node10\" class=\"node\">\n<title>9</title>\n<polygon fill=\"#8ec7f0\" stroke=\"#000000\" points=\"474,-53 358,-53 358,0 474,0 474,-53\"/>\n<text text-anchor=\"start\" x=\"382.5\" y=\"-37.8\" font-family=\"Helvetica,sans-Serif\" font-size=\"14.00\" fill=\"#000000\">gini = 0.42</text>\n<text text-anchor=\"start\" x=\"372\" y=\"-22.8\" font-family=\"Helvetica,sans-Serif\" font-size=\"14.00\" fill=\"#000000\">samples = 60</text>\n<text text-anchor=\"start\" x=\"366\" y=\"-7.8\" font-family=\"Helvetica,sans-Serif\" font-size=\"14.00\" fill=\"#000000\">value = [18, 42]</text>\n</g>\n<!-- 8&#45;&gt;9 -->\n<g id=\"edge9\" class=\"edge\">\n<title>8&#45;&gt;9</title>\n<path fill=\"none\" stroke=\"#000000\" d=\"M456.1411,-88.9777C450.4932,-80.187 444.4007,-70.7044 438.7104,-61.8477\"/>\n<polygon fill=\"#000000\" stroke=\"#000000\" points=\"441.5356,-59.7698 433.1856,-53.2485 435.6463,-63.5536 441.5356,-59.7698\"/>\n</g>\n<!-- 10 -->\n<g id=\"node11\" class=\"node\">\n<title>10</title>\n<polygon fill=\"#f4c9aa\" stroke=\"#000000\" points=\"608,-53 492,-53 492,0 608,0 608,-53\"/>\n<text text-anchor=\"start\" x=\"512\" y=\"-37.8\" font-family=\"Helvetica,sans-Serif\" font-size=\"14.00\" fill=\"#000000\">gini = 0.463</text>\n<text text-anchor=\"start\" x=\"506\" y=\"-22.8\" font-family=\"Helvetica,sans-Serif\" font-size=\"14.00\" fill=\"#000000\">samples = 33</text>\n<text text-anchor=\"start\" x=\"500\" y=\"-7.8\" font-family=\"Helvetica,sans-Serif\" font-size=\"14.00\" fill=\"#000000\">value = [21, 12]</text>\n</g>\n<!-- 8&#45;&gt;10 -->\n<g id=\"edge10\" class=\"edge\">\n<title>8&#45;&gt;10</title>\n<path fill=\"none\" stroke=\"#000000\" d=\"M503.3845,-88.9777C510.08,-80.0039 517.3135,-70.3089 524.039,-61.295\"/>\n<polygon fill=\"#000000\" stroke=\"#000000\" points=\"526.8677,-63.3565 530.0426,-53.2485 521.2573,-59.1704 526.8677,-63.3565\"/>\n</g>\n<!-- 13 -->\n<g id=\"node14\" class=\"node\">\n<title>13</title>\n<polygon fill=\"#e78b49\" stroke=\"#000000\" points=\"990.5,-261 805.5,-261 805.5,-193 990.5,-193 990.5,-261\"/>\n<text text-anchor=\"start\" x=\"813.5\" y=\"-245.8\" font-family=\"Helvetica,sans-Serif\" font-size=\"14.00\" fill=\"#000000\">MaritalStatus_Single ≤ 0.5</text>\n<text text-anchor=\"start\" x=\"860\" y=\"-230.8\" font-family=\"Helvetica,sans-Serif\" font-size=\"14.00\" fill=\"#000000\">gini = 0.135</text>\n<text text-anchor=\"start\" x=\"850\" y=\"-215.8\" font-family=\"Helvetica,sans-Serif\" font-size=\"14.00\" fill=\"#000000\">samples = 688</text>\n<text text-anchor=\"start\" x=\"844\" y=\"-200.8\" font-family=\"Helvetica,sans-Serif\" font-size=\"14.00\" fill=\"#000000\">value = [638, 50]</text>\n</g>\n<!-- 12&#45;&gt;13 -->\n<g id=\"edge13\" class=\"edge\">\n<title>12&#45;&gt;13</title>\n<path fill=\"none\" stroke=\"#000000\" d=\"M898,-296.9465C898,-288.776 898,-279.9318 898,-271.3697\"/>\n<polygon fill=\"#000000\" stroke=\"#000000\" points=\"901.5001,-271.13 898,-261.13 894.5001,-271.13 901.5001,-271.13\"/>\n</g>\n<!-- 20 -->\n<g id=\"node21\" class=\"node\">\n<title>20</title>\n<polygon fill=\"#eb9d65\" stroke=\"#000000\" points=\"1555.5,-261 1302.5,-261 1302.5,-193 1555.5,-193 1555.5,-261\"/>\n<text text-anchor=\"start\" x=\"1310.5\" y=\"-245.8\" font-family=\"Helvetica,sans-Serif\" font-size=\"14.00\" fill=\"#000000\">JobRole_Sales Representative ≤ 0.5</text>\n<text text-anchor=\"start\" x=\"1391\" y=\"-230.8\" font-family=\"Helvetica,sans-Serif\" font-size=\"14.00\" fill=\"#000000\">gini = 0.298</text>\n<text text-anchor=\"start\" x=\"1381\" y=\"-215.8\" font-family=\"Helvetica,sans-Serif\" font-size=\"14.00\" fill=\"#000000\">samples = 165</text>\n<text text-anchor=\"start\" x=\"1375\" y=\"-200.8\" font-family=\"Helvetica,sans-Serif\" font-size=\"14.00\" fill=\"#000000\">value = [135, 30]</text>\n</g>\n<!-- 12&#45;&gt;20 -->\n<g id=\"edge20\" class=\"edge\">\n<title>12&#45;&gt;20</title>\n<path fill=\"none\" stroke=\"#000000\" d=\"M991.1008,-312.7656C1074.4097,-296.4489 1197.6166,-272.318 1292.1384,-253.8053\"/>\n<polygon fill=\"#000000\" stroke=\"#000000\" points=\"1292.9219,-257.2184 1302.0627,-251.8615 1291.5765,-250.3489 1292.9219,-257.2184\"/>\n</g>\n<!-- 14 -->\n<g id=\"node15\" class=\"node\">\n<title>14</title>\n<polygon fill=\"#e68743\" stroke=\"#000000\" points=\"1011,-157 733,-157 733,-89 1011,-89 1011,-157\"/>\n<text text-anchor=\"start\" x=\"741\" y=\"-141.8\" font-family=\"Helvetica,sans-Serif\" font-size=\"14.00\" fill=\"#000000\">EducationField_Human Resources ≤ 0.5</text>\n<text text-anchor=\"start\" x=\"834\" y=\"-126.8\" font-family=\"Helvetica,sans-Serif\" font-size=\"14.00\" fill=\"#000000\">gini = 0.091</text>\n<text text-anchor=\"start\" x=\"824\" y=\"-111.8\" font-family=\"Helvetica,sans-Serif\" font-size=\"14.00\" fill=\"#000000\">samples = 461</text>\n<text text-anchor=\"start\" x=\"818\" y=\"-96.8\" font-family=\"Helvetica,sans-Serif\" font-size=\"14.00\" fill=\"#000000\">value = [439, 22]</text>\n</g>\n<!-- 13&#45;&gt;14 -->\n<g id=\"edge14\" class=\"edge\">\n<title>13&#45;&gt;14</title>\n<path fill=\"none\" stroke=\"#000000\" d=\"M889.4866,-192.9465C887.4216,-184.6863 885.1843,-175.7374 883.0219,-167.0875\"/>\n<polygon fill=\"#000000\" stroke=\"#000000\" points=\"886.3534,-165.9825 880.5325,-157.13 879.5624,-167.6803 886.3534,-165.9825\"/>\n</g>\n<!-- 17 -->\n<g id=\"node18\" class=\"node\">\n<title>17</title>\n<polygon fill=\"#e99355\" stroke=\"#000000\" points=\"1282.5,-157 1029.5,-157 1029.5,-89 1282.5,-89 1282.5,-157\"/>\n<text text-anchor=\"start\" x=\"1037.5\" y=\"-141.8\" font-family=\"Helvetica,sans-Serif\" font-size=\"14.00\" fill=\"#000000\">JobRole_Sales Representative ≤ 0.5</text>\n<text text-anchor=\"start\" x=\"1118\" y=\"-126.8\" font-family=\"Helvetica,sans-Serif\" font-size=\"14.00\" fill=\"#000000\">gini = 0.216</text>\n<text text-anchor=\"start\" x=\"1108\" y=\"-111.8\" font-family=\"Helvetica,sans-Serif\" font-size=\"14.00\" fill=\"#000000\">samples = 227</text>\n<text text-anchor=\"start\" x=\"1102\" y=\"-96.8\" font-family=\"Helvetica,sans-Serif\" font-size=\"14.00\" fill=\"#000000\">value = [199, 28]</text>\n</g>\n<!-- 13&#45;&gt;17 -->\n<g id=\"edge17\" class=\"edge\">\n<title>13&#45;&gt;17</title>\n<path fill=\"none\" stroke=\"#000000\" d=\"M982.4788,-192.9465C1007.8708,-182.711 1035.8859,-171.4181 1061.8621,-160.9471\"/>\n<polygon fill=\"#000000\" stroke=\"#000000\" points=\"1063.3651,-164.1149 1071.3314,-157.13 1060.748,-157.6226 1063.3651,-164.1149\"/>\n</g>\n<!-- 15 -->\n<g id=\"node16\" class=\"node\">\n<title>15</title>\n<polygon fill=\"#e68742\" stroke=\"#000000\" points=\"812,-53 688,-53 688,0 812,0 812,-53\"/>\n<text text-anchor=\"start\" x=\"712\" y=\"-37.8\" font-family=\"Helvetica,sans-Serif\" font-size=\"14.00\" fill=\"#000000\">gini = 0.081</text>\n<text text-anchor=\"start\" x=\"702\" y=\"-22.8\" font-family=\"Helvetica,sans-Serif\" font-size=\"14.00\" fill=\"#000000\">samples = 450</text>\n<text text-anchor=\"start\" x=\"696\" y=\"-7.8\" font-family=\"Helvetica,sans-Serif\" font-size=\"14.00\" fill=\"#000000\">value = [431, 19]</text>\n</g>\n<!-- 14&#45;&gt;15 -->\n<g id=\"edge15\" class=\"edge\">\n<title>14&#45;&gt;15</title>\n<path fill=\"none\" stroke=\"#000000\" d=\"M828.9874,-88.9777C816.9476,-79.4545 803.8812,-69.1191 791.9065,-59.6473\"/>\n<polygon fill=\"#000000\" stroke=\"#000000\" points=\"793.8311,-56.7072 783.8167,-53.2485 789.4885,-62.1973 793.8311,-56.7072\"/>\n</g>\n<!-- 16 -->\n<g id=\"node17\" class=\"node\">\n<title>16</title>\n<polygon fill=\"#efb083\" stroke=\"#000000\" points=\"934,-53 830,-53 830,0 934,0 934,-53\"/>\n<text text-anchor=\"start\" x=\"844\" y=\"-37.8\" font-family=\"Helvetica,sans-Serif\" font-size=\"14.00\" fill=\"#000000\">gini = 0.397</text>\n<text text-anchor=\"start\" x=\"838\" y=\"-22.8\" font-family=\"Helvetica,sans-Serif\" font-size=\"14.00\" fill=\"#000000\">samples = 11</text>\n<text text-anchor=\"start\" x=\"840.5\" y=\"-7.8\" font-family=\"Helvetica,sans-Serif\" font-size=\"14.00\" fill=\"#000000\">value = [8, 3]</text>\n</g>\n<!-- 14&#45;&gt;16 -->\n<g id=\"edge16\" class=\"edge\">\n<title>14&#45;&gt;16</title>\n<path fill=\"none\" stroke=\"#000000\" d=\"M875.5256,-88.9777C876.3891,-80.6449 877.3171,-71.6903 878.1931,-63.2364\"/>\n<polygon fill=\"#000000\" stroke=\"#000000\" points=\"881.6787,-63.556 879.2281,-53.2485 874.7159,-62.8344 881.6787,-63.556\"/>\n</g>\n<!-- 18 -->\n<g id=\"node19\" class=\"node\">\n<title>18</title>\n<polygon fill=\"#e89152\" stroke=\"#000000\" points=\"1089,-53 965,-53 965,0 1089,0 1089,-53\"/>\n<text text-anchor=\"start\" x=\"989\" y=\"-37.8\" font-family=\"Helvetica,sans-Serif\" font-size=\"14.00\" fill=\"#000000\">gini = 0.199</text>\n<text text-anchor=\"start\" x=\"979\" y=\"-22.8\" font-family=\"Helvetica,sans-Serif\" font-size=\"14.00\" fill=\"#000000\">samples = 214</text>\n<text text-anchor=\"start\" x=\"973\" y=\"-7.8\" font-family=\"Helvetica,sans-Serif\" font-size=\"14.00\" fill=\"#000000\">value = [190, 24]</text>\n</g>\n<!-- 17&#45;&gt;18 -->\n<g id=\"edge18\" class=\"edge\">\n<title>17&#45;&gt;18</title>\n<path fill=\"none\" stroke=\"#000000\" d=\"M1110.5194,-88.9777C1097.6665,-79.3629 1083.7069,-68.9203 1070.946,-59.3743\"/>\n<polygon fill=\"#000000\" stroke=\"#000000\" points=\"1072.861,-56.436 1062.757,-53.2485 1068.668,-62.0412 1072.861,-56.436\"/>\n</g>\n<!-- 19 -->\n<g id=\"node20\" class=\"node\">\n<title>19</title>\n<polygon fill=\"#f1b991\" stroke=\"#000000\" points=\"1211,-53 1107,-53 1107,0 1211,0 1211,-53\"/>\n<text text-anchor=\"start\" x=\"1121\" y=\"-37.8\" font-family=\"Helvetica,sans-Serif\" font-size=\"14.00\" fill=\"#000000\">gini = 0.426</text>\n<text text-anchor=\"start\" x=\"1115\" y=\"-22.8\" font-family=\"Helvetica,sans-Serif\" font-size=\"14.00\" fill=\"#000000\">samples = 13</text>\n<text text-anchor=\"start\" x=\"1117.5\" y=\"-7.8\" font-family=\"Helvetica,sans-Serif\" font-size=\"14.00\" fill=\"#000000\">value = [9, 4]</text>\n</g>\n<!-- 17&#45;&gt;19 -->\n<g id=\"edge19\" class=\"edge\">\n<title>17&#45;&gt;19</title>\n<path fill=\"none\" stroke=\"#000000\" d=\"M1157.0577,-88.9777C1157.3139,-80.7364 1157.589,-71.887 1157.8493,-63.5153\"/>\n<polygon fill=\"#000000\" stroke=\"#000000\" points=\"1161.3559,-63.3524 1158.1684,-53.2485 1154.3593,-63.1349 1161.3559,-63.3524\"/>\n</g>\n<!-- 21 -->\n<g id=\"node22\" class=\"node\">\n<title>21</title>\n<polygon fill=\"#ea985d\" stroke=\"#000000\" points=\"1557.5,-157 1300.5,-157 1300.5,-89 1557.5,-89 1557.5,-157\"/>\n<text text-anchor=\"start\" x=\"1308.5\" y=\"-141.8\" font-family=\"Helvetica,sans-Serif\" font-size=\"14.00\" fill=\"#000000\">JobRole_Laboratory Technician ≤ 0.5</text>\n<text text-anchor=\"start\" x=\"1395.5\" y=\"-126.8\" font-family=\"Helvetica,sans-Serif\" font-size=\"14.00\" fill=\"#000000\">gini = 0.26</text>\n<text text-anchor=\"start\" x=\"1381\" y=\"-111.8\" font-family=\"Helvetica,sans-Serif\" font-size=\"14.00\" fill=\"#000000\">samples = 156</text>\n<text text-anchor=\"start\" x=\"1375\" y=\"-96.8\" font-family=\"Helvetica,sans-Serif\" font-size=\"14.00\" fill=\"#000000\">value = [132, 24]</text>\n</g>\n<!-- 20&#45;&gt;21 -->\n<g id=\"edge21\" class=\"edge\">\n<title>20&#45;&gt;21</title>\n<path fill=\"none\" stroke=\"#000000\" d=\"M1429,-192.9465C1429,-184.776 1429,-175.9318 1429,-167.3697\"/>\n<polygon fill=\"#000000\" stroke=\"#000000\" points=\"1432.5001,-167.13 1429,-157.13 1425.5001,-167.13 1432.5001,-167.13\"/>\n</g>\n<!-- 24 -->\n<g id=\"node25\" class=\"node\">\n<title>24</title>\n<polygon fill=\"#9ccef2\" stroke=\"#000000\" points=\"1852.5,-157 1575.5,-157 1575.5,-89 1852.5,-89 1852.5,-157\"/>\n<text text-anchor=\"start\" x=\"1583.5\" y=\"-141.8\" font-family=\"Helvetica,sans-Serif\" font-size=\"14.00\" fill=\"#000000\">BusinessTravel_Travel_Frequently ≤ 0.5</text>\n<text text-anchor=\"start\" x=\"1676\" y=\"-126.8\" font-family=\"Helvetica,sans-Serif\" font-size=\"14.00\" fill=\"#000000\">gini = 0.444</text>\n<text text-anchor=\"start\" x=\"1674.5\" y=\"-111.8\" font-family=\"Helvetica,sans-Serif\" font-size=\"14.00\" fill=\"#000000\">samples = 9</text>\n<text text-anchor=\"start\" x=\"1672.5\" y=\"-96.8\" font-family=\"Helvetica,sans-Serif\" font-size=\"14.00\" fill=\"#000000\">value = [3, 6]</text>\n</g>\n<!-- 20&#45;&gt;24 -->\n<g id=\"edge24\" class=\"edge\">\n<title>20&#45;&gt;24</title>\n<path fill=\"none\" stroke=\"#000000\" d=\"M1522.3197,-192.9465C1550.615,-182.6212 1581.859,-171.2199 1610.765,-160.6717\"/>\n<polygon fill=\"#000000\" stroke=\"#000000\" points=\"1612.2764,-163.846 1620.4707,-157.13 1609.8768,-157.2701 1612.2764,-163.846\"/>\n</g>\n<!-- 22 -->\n<g id=\"node23\" class=\"node\">\n<title>22</title>\n<polygon fill=\"#e89253\" stroke=\"#000000\" points=\"1409,-53 1285,-53 1285,0 1409,0 1409,-53\"/>\n<text text-anchor=\"start\" x=\"1309\" y=\"-37.8\" font-family=\"Helvetica,sans-Serif\" font-size=\"14.00\" fill=\"#000000\">gini = 0.207</text>\n<text text-anchor=\"start\" x=\"1299\" y=\"-22.8\" font-family=\"Helvetica,sans-Serif\" font-size=\"14.00\" fill=\"#000000\">samples = 128</text>\n<text text-anchor=\"start\" x=\"1293\" y=\"-7.8\" font-family=\"Helvetica,sans-Serif\" font-size=\"14.00\" fill=\"#000000\">value = [113, 15]</text>\n</g>\n<!-- 21&#45;&gt;22 -->\n<g id=\"edge22\" class=\"edge\">\n<title>21&#45;&gt;22</title>\n<path fill=\"none\" stroke=\"#000000\" d=\"M1400.0899,-88.9777C1392.3866,-79.9123 1384.0581,-70.111 1376.3324,-61.0192\"/>\n<polygon fill=\"#000000\" stroke=\"#000000\" points=\"1378.8718,-58.6025 1369.7293,-53.2485 1373.5375,-63.1352 1378.8718,-58.6025\"/>\n</g>\n<!-- 23 -->\n<g id=\"node24\" class=\"node\">\n<title>23</title>\n<polygon fill=\"#f1bd97\" stroke=\"#000000\" points=\"1534.5,-53 1427.5,-53 1427.5,0 1534.5,0 1534.5,-53\"/>\n<text text-anchor=\"start\" x=\"1443\" y=\"-37.8\" font-family=\"Helvetica,sans-Serif\" font-size=\"14.00\" fill=\"#000000\">gini = 0.436</text>\n<text text-anchor=\"start\" x=\"1437\" y=\"-22.8\" font-family=\"Helvetica,sans-Serif\" font-size=\"14.00\" fill=\"#000000\">samples = 28</text>\n<text text-anchor=\"start\" x=\"1435.5\" y=\"-7.8\" font-family=\"Helvetica,sans-Serif\" font-size=\"14.00\" fill=\"#000000\">value = [19, 9]</text>\n</g>\n<!-- 21&#45;&gt;23 -->\n<g id=\"edge23\" class=\"edge\">\n<title>21&#45;&gt;23</title>\n<path fill=\"none\" stroke=\"#000000\" d=\"M1447.3333,-88.9777C1452.0209,-80.2786 1457.0736,-70.9018 1461.8033,-62.1247\"/>\n<polygon fill=\"#000000\" stroke=\"#000000\" points=\"1464.9237,-63.7121 1466.5863,-53.2485 1458.7614,-60.3914 1464.9237,-63.7121\"/>\n</g>\n<!-- 25 -->\n<g id=\"node26\" class=\"node\">\n<title>25</title>\n<polygon fill=\"#f6d5bd\" stroke=\"#000000\" points=\"1704.5,-53 1605.5,-53 1605.5,0 1704.5,0 1704.5,-53\"/>\n<text text-anchor=\"start\" x=\"1621.5\" y=\"-37.8\" font-family=\"Helvetica,sans-Serif\" font-size=\"14.00\" fill=\"#000000\">gini = 0.48</text>\n<text text-anchor=\"start\" x=\"1615.5\" y=\"-22.8\" font-family=\"Helvetica,sans-Serif\" font-size=\"14.00\" fill=\"#000000\">samples = 5</text>\n<text text-anchor=\"start\" x=\"1613.5\" y=\"-7.8\" font-family=\"Helvetica,sans-Serif\" font-size=\"14.00\" fill=\"#000000\">value = [3, 2]</text>\n</g>\n<!-- 24&#45;&gt;25 -->\n<g id=\"edge25\" class=\"edge\">\n<title>24&#45;&gt;25</title>\n<path fill=\"none\" stroke=\"#000000\" d=\"M1693.1988,-88.9777C1687.8242,-80.187 1682.0265,-70.7044 1676.6115,-61.8477\"/>\n<polygon fill=\"#000000\" stroke=\"#000000\" points=\"1679.5564,-59.9545 1671.354,-53.2485 1673.5842,-63.6059 1679.5564,-59.9545\"/>\n</g>\n<!-- 26 -->\n<g id=\"node27\" class=\"node\">\n<title>26</title>\n<polygon fill=\"#399de5\" stroke=\"#000000\" points=\"1821.5,-53 1722.5,-53 1722.5,0 1821.5,0 1821.5,-53\"/>\n<text text-anchor=\"start\" x=\"1742.5\" y=\"-37.8\" font-family=\"Helvetica,sans-Serif\" font-size=\"14.00\" fill=\"#000000\">gini = 0.0</text>\n<text text-anchor=\"start\" x=\"1732.5\" y=\"-22.8\" font-family=\"Helvetica,sans-Serif\" font-size=\"14.00\" fill=\"#000000\">samples = 4</text>\n<text text-anchor=\"start\" x=\"1730.5\" y=\"-7.8\" font-family=\"Helvetica,sans-Serif\" font-size=\"14.00\" fill=\"#000000\">value = [0, 4]</text>\n</g>\n<!-- 24&#45;&gt;26 -->\n<g id=\"edge26\" class=\"edge\">\n<title>24&#45;&gt;26</title>\n<path fill=\"none\" stroke=\"#000000\" d=\"M1734.4486,-88.9777C1739.7322,-80.187 1745.4316,-70.7044 1750.7548,-61.8477\"/>\n<polygon fill=\"#000000\" stroke=\"#000000\" points=\"1753.7715,-63.6225 1755.9232,-53.2485 1747.7718,-60.0165 1753.7715,-63.6225\"/>\n</g>\n</g>\n</svg>\n"
          },
          "metadata": {},
          "execution_count": 134
        }
      ]
    },
    {
      "cell_type": "markdown",
      "metadata": {
        "id": "ued-9NVCnjyY"
      },
      "source": [
        "##Model 3 : Random Forest"
      ]
    },
    {
      "cell_type": "code",
      "metadata": {
        "id": "BheXg5B_nnzT"
      },
      "source": [
        "rf = RandomForestClassifier(random_state=1)"
      ],
      "execution_count": null,
      "outputs": []
    },
    {
      "cell_type": "code",
      "metadata": {
        "id": "qPJYMO0Mnnqu"
      },
      "source": [
        "model3 = rf.fit(x_train, y_train)"
      ],
      "execution_count": null,
      "outputs": []
    },
    {
      "cell_type": "code",
      "metadata": {
        "id": "AbZAhx5yoE7Y"
      },
      "source": [
        "y_pred_rf = model3.predict(x_test)"
      ],
      "execution_count": null,
      "outputs": []
    },
    {
      "cell_type": "code",
      "metadata": {
        "id": "4-rBT6hUoG7d",
        "colab": {
          "base_uri": "https://localhost:8080/"
        },
        "outputId": "6ca3315a-94d7-4c74-fd48-6f9ca2809d77"
      },
      "source": [
        "sns.heatmap(confusion_matrix(y_test, y_pred_rf), annot=True,cmap ='coolwarm' )\n",
        "plt.show()"
      ],
      "execution_count": null,
      "outputs": [
        {
          "output_type": "display_data",
          "data": {
            "image/png": "[encoded data removed]",
            "text/plain": [
              "<Figure size 432x288 with 2 Axes>"
            ]
          },
          "metadata": {
            "needs_background": "light"
          }
        }
      ]
    },
    {
      "cell_type": "code",
      "metadata": {
        "id": "BUyuULyDoK6n",
        "colab": {
          "base_uri": "https://localhost:8080/"
        },
        "outputId": "d5f75f6b-a993-4976-d161-70a0151c1515"
      },
      "source": [
        "print(classification_report(y_test,y_pred_rf))"
      ],
      "execution_count": null,
      "outputs": [
        {
          "output_type": "stream",
          "name": "stdout",
          "text": [
            "              precision    recall  f1-score   support\n",
            "\n",
            "           0       0.82      0.96      0.88       235\n",
            "           1       0.50      0.15      0.23        59\n",
            "\n",
            "    accuracy                           0.80       294\n",
            "   macro avg       0.66      0.56      0.56       294\n",
            "weighted avg       0.75      0.80      0.75       294\n",
            "\n"
          ]
        }
      ]
    },
    {
      "cell_type": "code",
      "metadata": {
        "id": "rdqxdN16oM5h",
        "colab": {
          "base_uri": "https://localhost:8080/"
        },
        "outputId": "58790ffe-b316-440a-8e00-3d0eb8604935"
      },
      "source": [
        "plot_confusion_matrix(rf, x_test, y_test, normalize=\"true\",cmap ='coolwarm')"
      ],
      "execution_count": null,
      "outputs": [
        {
          "output_type": "stream",
          "name": "stderr",
          "text": [
            "/usr/local/lib/python3.7/dist-packages/sklearn/utils/deprecation.py:87: FutureWarning: Function plot_confusion_matrix is deprecated; Function `plot_confusion_matrix` is deprecated in 1.0 and will be removed in 1.2. Use one of the class methods: ConfusionMatrixDisplay.from_predictions or ConfusionMatrixDisplay.from_estimator.\n",
            "  warnings.warn(msg, category=FutureWarning)\n"
          ]
        },
        {
          "output_type": "execute_result",
          "data": {
            "text/plain": [
              "<sklearn.metrics._plot.confusion_matrix.ConfusionMatrixDisplay at 0x7ff849aed190>"
            ]
          },
          "metadata": {},
          "execution_count": 140
        },
        {
          "output_type": "display_data",
          "data": {
            "image/png": "[encoded data removed]",
            "text/plain": [
              "<Figure size 432x288 with 2 Axes>"
            ]
          },
          "metadata": {
            "needs_background": "light"
          }
        }
      ]
    },
    {
      "cell_type": "code",
      "metadata": {
        "id": "P6_3EOA7oS3f"
      },
      "source": [
        "accuracy_3 = accuracy_score(y_test ,y_pred_rf)"
      ],
      "execution_count": null,
      "outputs": []
    },
    {
      "cell_type": "code",
      "metadata": {
        "colab": {
          "base_uri": "https://localhost:8080/"
        },
        "id": "QPxjoWAqIAy3",
        "outputId": "03f9f88b-8a11-4676-d215-3f50823bc796"
      },
      "source": [
        "#Plotting relative importance of variables in determining attrition and primary area of focus \n",
        "imp = np.array(rf.feature_importances_)\n",
        "cols = np.array(dummies.columns)\n",
        "data={'variable_names':cols,'imp_variables':imp}\n",
        "v = pd.DataFrame(data)\n",
        "v.sort_values(by=['imp_variables'], ascending=False,inplace=True) \n",
        "plt.figure(figsize=(10,10))\n",
        "sns.barplot(x=v['imp_variables'], y=v['variable_names'],color  = 'grey')\n",
        "plt.title('Attrition variables comparison')\n",
        "plt.xlabel('Variable score')\n",
        "plt.ylabel('Attrition variables')"
      ],
      "execution_count": null,
      "outputs": [
        {
          "output_type": "execute_result",
          "data": {
            "text/plain": [
              "Text(0, 0.5, 'Attrition variables')"
            ]
          },
          "metadata": {},
          "execution_count": 142
        },
        {
          "output_type": "display_data",
          "data": {
            "image/png": "[encoded data removed]",
            "text/plain": [
              "<Figure size 720x720 with 1 Axes>"
            ]
          },
          "metadata": {
            "needs_background": "light"
          }
        }
      ]
    },
    {
      "cell_type": "markdown",
      "metadata": {
        "id": "BVaIFU4FgZmm"
      },
      "source": [
        "1.From variable score plot we observe overtime variable has maximum influence on attrition followed by marital status.\n",
        "\n",
        "2.Single employees have more attrition rate than married employees .\n",
        "\n",
        "3.Gradute employees have greater as compared to post-graduates \n",
        "\n",
        "This information of utmost importance to firms which will help them in introducing specific reforms considering the above analysis and retain valuable employees and boost firm growth indirectly ."
      ]
    },
    {
      "cell_type": "markdown",
      "metadata": {
        "id": "7DJ6TFJEalRG"
      },
      "source": [
        "##Model 4 : K-Nearest Neighbours"
      ]
    },
    {
      "cell_type": "code",
      "metadata": {
        "id": "7iTnurlEap2Z"
      },
      "source": [
        "X_train,X_test,y_train,y_test = train_test_split(x,y,test_size=0.2,random_state=42, stratify=y)"
      ],
      "execution_count": null,
      "outputs": []
    },
    {
      "cell_type": "code",
      "metadata": {
        "colab": {
          "base_uri": "https://localhost:8080/"
        },
        "id": "HYKxPOaeapnO",
        "outputId": "dcd359d7-036d-4966-d48e-1a050585c2e0"
      },
      "source": [
        "n = np.arange(1,20)\n",
        "train =np.empty(len(n))\n",
        "test = np.empty(len(n))\n",
        "\n",
        "for i,k in enumerate(n):\n",
        "    model4 = KNeighborsClassifier(n_neighbors=k)\n",
        "    model4.fit(X_train, y_train)\n",
        "    train[i] = model4.score(X_train, y_train)\n",
        "    test[i] = model4.score(X_test, y_test) \n",
        "\n",
        "plt.plot(n, test, label='Testing Accuracy',color = 'red')\n",
        "plt.plot(n, train, label='Training accuracy',color = 'green')\n",
        "plt.legend()\n",
        "plt.xlabel(\"No. of neighbors\")\n",
        "plt.ylabel(\"Accuracy\")\n",
        "plt.show()"
      ],
      "execution_count": null,
      "outputs": [
        {
          "output_type": "display_data",
          "data": {
            "image/png": "[encoded data removed]",
            "text/plain": [
              "<Figure size 432x288 with 1 Axes>"
            ]
          },
          "metadata": {
            "needs_background": "light"
          }
        }
      ]
    },
    {
      "cell_type": "code",
      "metadata": {
        "colab": {
          "base_uri": "https://localhost:8080/"
        },
        "id": "IPjqwkdsbPgQ",
        "outputId": "dd628366-7da5-479e-f56a-7b188438a333"
      },
      "source": [
        "model4_5 = KNeighborsClassifier(n_neighbors=6)\n",
        "model4_5.fit(X_train,y_train)"
      ],
      "execution_count": null,
      "outputs": [
        {
          "output_type": "execute_result",
          "data": {
            "text/plain": [
              "KNeighborsClassifier(n_neighbors=6)"
            ]
          },
          "metadata": {},
          "execution_count": 145
        }
      ]
    },
    {
      "cell_type": "code",
      "metadata": {
        "colab": {
          "base_uri": "https://localhost:8080/"
        },
        "id": "KO_p7YsBbR_S",
        "outputId": "cdfc0eb2-6ca1-4b7c-e8c3-c7b307764388"
      },
      "source": [
        "model4_5.score(X_test,y_test)"
      ],
      "execution_count": null,
      "outputs": [
        {
          "output_type": "execute_result",
          "data": {
            "text/plain": [
              "0.8571428571428571"
            ]
          },
          "metadata": {},
          "execution_count": 146
        }
      ]
    },
    {
      "cell_type": "code",
      "metadata": {
        "id": "z6hYyZXTdnxk"
      },
      "source": [
        "accuracy_4 = model4_5.score(X_test,y_test)"
      ],
      "execution_count": null,
      "outputs": []
    },
    {
      "cell_type": "code",
      "metadata": {
        "id": "LFiXb2kGbUjw"
      },
      "source": [
        "y_pred = model4_5.predict(X_test)"
      ],
      "execution_count": null,
      "outputs": []
    },
    {
      "cell_type": "code",
      "metadata": {
        "colab": {
          "base_uri": "https://localhost:8080/"
        },
        "id": "U71GXcLJbW6T",
        "outputId": "7f235d42-2dab-4cb8-ac0b-31fa8adfa2f2"
      },
      "source": [
        "confusion_matrix(y_test,y_pred)"
      ],
      "execution_count": null,
      "outputs": [
        {
          "output_type": "execute_result",
          "data": {
            "text/plain": [
              "array([[247,   0],\n",
              "       [ 42,   5]])"
            ]
          },
          "metadata": {},
          "execution_count": 149
        }
      ]
    },
    {
      "cell_type": "code",
      "metadata": {
        "colab": {
          "base_uri": "https://localhost:8080/"
        },
        "id": "fZXDVLrtbaB6",
        "outputId": "72ceacc8-dd77-476b-d13e-3144d14916f1"
      },
      "source": [
        "pd.crosstab(y_test, y_pred, rownames=['True'], colnames=['Predicted'], margins=True)"
      ],
      "execution_count": null,
      "outputs": [
        {
          "output_type": "execute_result",
          "data": {
            "text/html": [
              "<div>\n",
              "<style scoped>\n",
              "    .dataframe tbody tr th:only-of-type {\n",
              "        vertical-align: middle;\n",
              "    }\n",
              "\n",
              "    .dataframe tbody tr th {\n",
              "        vertical-align: top;\n",
              "    }\n",
              "\n",
              "    .dataframe thead th {\n",
              "        text-align: right;\n",
              "    }\n",
              "</style>\n",
              "<table border=\"1\" class=\"dataframe\">\n",
              "  <thead>\n",
              "    <tr style=\"text-align: right;\">\n",
              "      <th>Predicted</th>\n",
              "      <th>0</th>\n",
              "      <th>1</th>\n",
              "      <th>All</th>\n",
              "    </tr>\n",
              "    <tr>\n",
              "      <th>True</th>\n",
              "      <th></th>\n",
              "      <th></th>\n",
              "      <th></th>\n",
              "    </tr>\n",
              "  </thead>\n",
              "  <tbody>\n",
              "    <tr>\n",
              "      <th>0</th>\n",
              "      <td>247</td>\n",
              "      <td>0</td>\n",
              "      <td>247</td>\n",
              "    </tr>\n",
              "    <tr>\n",
              "      <th>1</th>\n",
              "      <td>42</td>\n",
              "      <td>5</td>\n",
              "      <td>47</td>\n",
              "    </tr>\n",
              "    <tr>\n",
              "      <th>All</th>\n",
              "      <td>289</td>\n",
              "      <td>5</td>\n",
              "      <td>294</td>\n",
              "    </tr>\n",
              "  </tbody>\n",
              "</table>\n",
              "</div>"
            ],
            "text/plain": [
              "Predicted    0  1  All\n",
              "True                  \n",
              "0          247  0  247\n",
              "1           42  5   47\n",
              "All        289  5  294"
            ]
          },
          "metadata": {},
          "execution_count": 150
        }
      ]
    },
    {
      "cell_type": "code",
      "metadata": {
        "colab": {
          "base_uri": "https://localhost:8080/"
        },
        "id": "Wsia5BPWbd-5",
        "outputId": "f541583b-d142-4d5a-be47-6c003968c7af"
      },
      "source": [
        "print(classification_report(y_test,y_pred))"
      ],
      "execution_count": null,
      "outputs": [
        {
          "output_type": "stream",
          "name": "stdout",
          "text": [
            "              precision    recall  f1-score   support\n",
            "\n",
            "           0       0.85      1.00      0.92       247\n",
            "           1       1.00      0.11      0.19        47\n",
            "\n",
            "    accuracy                           0.86       294\n",
            "   macro avg       0.93      0.55      0.56       294\n",
            "weighted avg       0.88      0.86      0.81       294\n",
            "\n"
          ]
        }
      ]
    },
    {
      "cell_type": "markdown",
      "metadata": {
        "id": "CiOn6NGoaqeY"
      },
      "source": [
        "##Model Comparison"
      ]
    },
    {
      "cell_type": "code",
      "metadata": {
        "id": "TXq8kF7bTfGD"
      },
      "source": [
        "compare = pd.DataFrame({'Model' : ['Logistic Regression', 'Decision Tree Classifier', 'Random Forest Classifier','KNeighboursClassifier'],'Score' : [accuracy_1,accuracy_2,accuracy_3,accuracy_4]})"
      ],
      "execution_count": null,
      "outputs": []
    },
    {
      "cell_type": "code",
      "metadata": {
        "colab": {
          "base_uri": "https://localhost:8080/"
        },
        "id": "1MjOhGRNXE1F",
        "outputId": "30f06193-35d3-442d-ec3b-92a5a4c4787a"
      },
      "source": [
        "compare.sort_values(by = 'Score', ascending = False)"
      ],
      "execution_count": null,
      "outputs": [
        {
          "output_type": "execute_result",
          "data": {
            "text/html": [
              "<div>\n",
              "<style scoped>\n",
              "    .dataframe tbody tr th:only-of-type {\n",
              "        vertical-align: middle;\n",
              "    }\n",
              "\n",
              "    .dataframe tbody tr th {\n",
              "        vertical-align: top;\n",
              "    }\n",
              "\n",
              "    .dataframe thead th {\n",
              "        text-align: right;\n",
              "    }\n",
              "</style>\n",
              "<table border=\"1\" class=\"dataframe\">\n",
              "  <thead>\n",
              "    <tr style=\"text-align: right;\">\n",
              "      <th></th>\n",
              "      <th>Model</th>\n",
              "      <th>Score</th>\n",
              "    </tr>\n",
              "  </thead>\n",
              "  <tbody>\n",
              "    <tr>\n",
              "      <th>0</th>\n",
              "      <td>Logistic Regression</td>\n",
              "      <td>0.860544</td>\n",
              "    </tr>\n",
              "    <tr>\n",
              "      <th>3</th>\n",
              "      <td>KNeighboursClassifier</td>\n",
              "      <td>0.857143</td>\n",
              "    </tr>\n",
              "    <tr>\n",
              "      <th>2</th>\n",
              "      <td>Random Forest Classifier</td>\n",
              "      <td>0.799320</td>\n",
              "    </tr>\n",
              "    <tr>\n",
              "      <th>1</th>\n",
              "      <td>Decision Tree Classifier</td>\n",
              "      <td>0.789116</td>\n",
              "    </tr>\n",
              "  </tbody>\n",
              "</table>\n",
              "</div>"
            ],
            "text/plain": [
              "                      Model     Score\n",
              "0       Logistic Regression  0.860544\n",
              "3     KNeighboursClassifier  0.857143\n",
              "2  Random Forest Classifier  0.799320\n",
              "1  Decision Tree Classifier  0.789116"
            ]
          },
          "metadata": {},
          "execution_count": 155
        }
      ]
    },
    {
      "cell_type": "markdown",
      "metadata": {
        "id": "7aOrRJzpd_JK"
      },
      "source": [
        "Hence , KNeighboursClassifier and Logistic regression are best competitive models for employee attritioon prediction"
      ]
    }
  ]
}